{
 "cells": [
  {
   "cell_type": "markdown",
   "metadata": {},
   "source": [
    "# Анализ поведения покупателей и оптимизация маркетинговых затрат"
   ]
  },
  {
   "cell_type": "markdown",
   "metadata": {},
   "source": [
    "**Цель проекта:** изучить взаимодействие пользователя с нашим продуктом и оптимизировать маркетинговые затраты, а также выбрать важные метрики для развития ресурса на следующий год.\n",
    "\n",
    "**Задачи проекта:** \n",
    "- определить и описать как люди пользуются нашим продуктом\n",
    "- определить когда пользователь начинает покупать наш продукт\n",
    "- посчитать какую прибыль приносит каждый клиент\n",
    "- рассчитать за какой период клиент окупается\n",
    "- на основе полученных данных, дать рекомендации для оптимизации маркетинговых затрат"
   ]
  },
  {
   "cell_type": "markdown",
   "metadata": {},
   "source": [
    "**Описание данных:** у нас в распоряжении данные сервиса для продажи билетов на мероприятия в городе с июня 2017 по конец мая 2018 года, где содержится информация о визитах, заказах и расходах:\n",
    "- лог сервера с данными о посещениях сервиса — **/datasets/visits_log.csv**\n",
    "- выгрузка всех заказов за этот период — **/datasets/orders_log.csv**\n",
    "- статистика рекламных расходов — **/datasets/costs.csv**\n",
    "\n",
    "#### Содержание наборов данных:\n",
    "\n",
    "Таблица **visits** (лог сервера с информацией о посещениях сайта):\n",
    "- Uid — уникальный идентификатор пользователя\n",
    "- Device — категория устройства пользователя\n",
    "- Start Ts — дата и время начала сессии\n",
    "- End Ts — дата и время окончания сессии\n",
    "- Source Id — идентификатор рекламного источника, из которого пришел пользователь\n",
    "\n",
    "\n",
    "Таблица **orders** (информация о заказах):\n",
    "- Uid — уникальный id пользователя, который сделал заказ\n",
    "- Buy Ts — дата и время заказа\n",
    "- Revenue — выручка сервиса с этого заказа\n",
    "\n",
    "\n",
    "Таблица **costs** (информация о затратах на маркетинг):\n",
    "- source_id — идентификатор рекламного источника\n",
    "- dt — дата\n",
    "- costs — затраты на этот рекламный источник в этот день"
   ]
  },
  {
   "cell_type": "markdown",
   "metadata": {},
   "source": [
    "#### План анализа:\n",
    "- Обзор и подготовка данных (анализ и обработка ошибок).\n",
    "- Провести исследовательский анализ данных (анализ продукта, продаж и маркетинга)\n",
    "- Построить отчёты и посчитать метрики\n",
    "- Построить графики для отображения метрик и их изменений. \n",
    "- Итоговый вывод и рекомендации для маркетологов (какие источники и платформы выбрать для дальнейшего продвижения)"
   ]
  },
  {
   "cell_type": "markdown",
   "metadata": {},
   "source": [
    "### Оглавление\n",
    "\n",
    "1. [Обзор и подготовка данных](#one) </n>\n",
    "2. [Исследовательский анализ данных](#two)\n",
    " - [Анализ данных о продукте](#three)\n",
    " - [Анализ данных о продажах](#four)\n",
    " - [Анализ данных о затратах на маркетинг](#five)\n",
    "\n",
    "\n",
    "3. [Итоговый вывод](#six)"
   ]
  },
  {
   "cell_type": "markdown",
   "metadata": {},
   "source": [
    "---"
   ]
  },
  {
   "cell_type": "markdown",
   "metadata": {},
   "source": [
    "# <a id=\"one\"> Обзор и подготовка данных</a>"
   ]
  },
  {
   "cell_type": "markdown",
   "metadata": {},
   "source": [
    "### Оглавление части\n",
    "\n",
    "1. [Лог сервера с данными о посещениях сайта](#seven) </n>\n",
    "2. [Выгрузка всех заказов за выбранный период](#eight)\n",
    "3. [Cтатистика рекламных расходов](#nine)"
   ]
  },
  {
   "cell_type": "code",
   "execution_count": 1,
   "metadata": {},
   "outputs": [],
   "source": [
    "#импорт библиотек\n",
    "import pandas as pd\n",
    "import seaborn as sns\n",
    "from matplotlib import pyplot as plt\n",
    "from scipy import stats as st\n",
    "import numpy as np\n",
    "\n",
    "#сохраняем таблицы в переменных\n",
    "visits_log = pd.read_csv('/datasets/visits_log.csv')\n",
    "orders_log = pd.read_csv('/datasets/orders_log.csv')\n",
    "costs = pd.read_csv('/datasets/costs.csv')"
   ]
  },
  {
   "cell_type": "markdown",
   "metadata": {},
   "source": [
    "## <a id=\"seven\"> Лог сервера с данными о посещениях сайта</a>"
   ]
  },
  {
   "cell_type": "code",
   "execution_count": 2,
   "metadata": {},
   "outputs": [
    {
     "name": "stdout",
     "output_type": "stream",
     "text": [
      "<class 'pandas.core.frame.DataFrame'>\n",
      "RangeIndex: 359400 entries, 0 to 359399\n",
      "Data columns (total 5 columns):\n",
      "Device       359400 non-null object\n",
      "End Ts       359400 non-null object\n",
      "Source Id    359400 non-null int64\n",
      "Start Ts     359400 non-null object\n",
      "Uid          359400 non-null uint64\n",
      "dtypes: int64(1), object(3), uint64(1)\n",
      "memory usage: 13.7+ MB\n"
     ]
    },
    {
     "data": {
      "text/html": [
       "<div>\n",
       "<style scoped>\n",
       "    .dataframe tbody tr th:only-of-type {\n",
       "        vertical-align: middle;\n",
       "    }\n",
       "\n",
       "    .dataframe tbody tr th {\n",
       "        vertical-align: top;\n",
       "    }\n",
       "\n",
       "    .dataframe thead th {\n",
       "        text-align: right;\n",
       "    }\n",
       "</style>\n",
       "<table border=\"1\" class=\"dataframe\">\n",
       "  <thead>\n",
       "    <tr style=\"text-align: right;\">\n",
       "      <th></th>\n",
       "      <th>Device</th>\n",
       "      <th>End Ts</th>\n",
       "      <th>Source Id</th>\n",
       "      <th>Start Ts</th>\n",
       "      <th>Uid</th>\n",
       "    </tr>\n",
       "  </thead>\n",
       "  <tbody>\n",
       "    <tr>\n",
       "      <td>0</td>\n",
       "      <td>touch</td>\n",
       "      <td>2017-12-20 17:38:00</td>\n",
       "      <td>4</td>\n",
       "      <td>2017-12-20 17:20:00</td>\n",
       "      <td>16879256277535980062</td>\n",
       "    </tr>\n",
       "    <tr>\n",
       "      <td>1</td>\n",
       "      <td>desktop</td>\n",
       "      <td>2018-02-19 17:21:00</td>\n",
       "      <td>2</td>\n",
       "      <td>2018-02-19 16:53:00</td>\n",
       "      <td>104060357244891740</td>\n",
       "    </tr>\n",
       "    <tr>\n",
       "      <td>2</td>\n",
       "      <td>touch</td>\n",
       "      <td>2017-07-01 01:54:00</td>\n",
       "      <td>5</td>\n",
       "      <td>2017-07-01 01:54:00</td>\n",
       "      <td>7459035603376831527</td>\n",
       "    </tr>\n",
       "    <tr>\n",
       "      <td>3</td>\n",
       "      <td>desktop</td>\n",
       "      <td>2018-05-20 11:23:00</td>\n",
       "      <td>9</td>\n",
       "      <td>2018-05-20 10:59:00</td>\n",
       "      <td>16174680259334210214</td>\n",
       "    </tr>\n",
       "    <tr>\n",
       "      <td>4</td>\n",
       "      <td>desktop</td>\n",
       "      <td>2017-12-27 14:06:00</td>\n",
       "      <td>3</td>\n",
       "      <td>2017-12-27 14:06:00</td>\n",
       "      <td>9969694820036681168</td>\n",
       "    </tr>\n",
       "    <tr>\n",
       "      <td>5</td>\n",
       "      <td>desktop</td>\n",
       "      <td>2017-09-03 21:36:00</td>\n",
       "      <td>5</td>\n",
       "      <td>2017-09-03 21:35:00</td>\n",
       "      <td>16007536194108375387</td>\n",
       "    </tr>\n",
       "    <tr>\n",
       "      <td>6</td>\n",
       "      <td>desktop</td>\n",
       "      <td>2018-01-30 12:09:00</td>\n",
       "      <td>1</td>\n",
       "      <td>2018-01-30 11:13:00</td>\n",
       "      <td>6661610529277171451</td>\n",
       "    </tr>\n",
       "    <tr>\n",
       "      <td>7</td>\n",
       "      <td>touch</td>\n",
       "      <td>2017-11-05 15:15:00</td>\n",
       "      <td>3</td>\n",
       "      <td>2017-11-05 15:14:00</td>\n",
       "      <td>11423865690854540312</td>\n",
       "    </tr>\n",
       "    <tr>\n",
       "      <td>8</td>\n",
       "      <td>desktop</td>\n",
       "      <td>2017-07-19 10:44:00</td>\n",
       "      <td>3</td>\n",
       "      <td>2017-07-19 10:41:00</td>\n",
       "      <td>2987360259350925644</td>\n",
       "    </tr>\n",
       "    <tr>\n",
       "      <td>9</td>\n",
       "      <td>desktop</td>\n",
       "      <td>2017-11-08 13:43:00</td>\n",
       "      <td>5</td>\n",
       "      <td>2017-11-08 13:42:00</td>\n",
       "      <td>1289240080042562063</td>\n",
       "    </tr>\n",
       "  </tbody>\n",
       "</table>\n",
       "</div>"
      ],
      "text/plain": [
       "    Device               End Ts  Source Id             Start Ts  \\\n",
       "0    touch  2017-12-20 17:38:00          4  2017-12-20 17:20:00   \n",
       "1  desktop  2018-02-19 17:21:00          2  2018-02-19 16:53:00   \n",
       "2    touch  2017-07-01 01:54:00          5  2017-07-01 01:54:00   \n",
       "3  desktop  2018-05-20 11:23:00          9  2018-05-20 10:59:00   \n",
       "4  desktop  2017-12-27 14:06:00          3  2017-12-27 14:06:00   \n",
       "5  desktop  2017-09-03 21:36:00          5  2017-09-03 21:35:00   \n",
       "6  desktop  2018-01-30 12:09:00          1  2018-01-30 11:13:00   \n",
       "7    touch  2017-11-05 15:15:00          3  2017-11-05 15:14:00   \n",
       "8  desktop  2017-07-19 10:44:00          3  2017-07-19 10:41:00   \n",
       "9  desktop  2017-11-08 13:43:00          5  2017-11-08 13:42:00   \n",
       "\n",
       "                    Uid  \n",
       "0  16879256277535980062  \n",
       "1    104060357244891740  \n",
       "2   7459035603376831527  \n",
       "3  16174680259334210214  \n",
       "4   9969694820036681168  \n",
       "5  16007536194108375387  \n",
       "6   6661610529277171451  \n",
       "7  11423865690854540312  \n",
       "8   2987360259350925644  \n",
       "9   1289240080042562063  "
      ]
     },
     "execution_count": 2,
     "metadata": {},
     "output_type": "execute_result"
    }
   ],
   "source": [
    "visits_log.info()\n",
    "visits_log.head(10)"
   ]
  },
  {
   "cell_type": "code",
   "execution_count": 3,
   "metadata": {},
   "outputs": [
    {
     "data": {
      "text/plain": [
       "Device       0\n",
       "End Ts       0\n",
       "Source Id    0\n",
       "Start Ts     0\n",
       "Uid          0\n",
       "dtype: int64"
      ]
     },
     "execution_count": 3,
     "metadata": {},
     "output_type": "execute_result"
    }
   ],
   "source": [
    "#поиск пропусков\n",
    "visits_log.isnull().sum()"
   ]
  },
  {
   "cell_type": "code",
   "execution_count": 4,
   "metadata": {},
   "outputs": [
    {
     "data": {
      "text/plain": [
       "0"
      ]
     },
     "execution_count": 4,
     "metadata": {},
     "output_type": "execute_result"
    }
   ],
   "source": [
    "#поиск дубликатов\n",
    "visits_log.duplicated().sum()"
   ]
  },
  {
   "cell_type": "code",
   "execution_count": 5,
   "metadata": {},
   "outputs": [
    {
     "data": {
      "text/plain": [
       "12869801667763685675    893\n",
       "3263486045884611639     615\n",
       "11255648391090536411    551\n",
       "17030528792926543083    357\n",
       "8056418121947262981     343\n",
       "                       ... \n",
       "13023238853810096243      1\n",
       "13275209559615110952      1\n",
       "10451189761655280393      1\n",
       "11370115024582961201      1\n",
       "15160524768967727475      1\n",
       "Name: Uid, Length: 228169, dtype: int64"
      ]
     },
     "execution_count": 5,
     "metadata": {},
     "output_type": "execute_result"
    }
   ],
   "source": [
    "#ищем количество уникальных пользователей\n",
    "visits_log['Uid'].value_counts()"
   ]
  },
  {
   "cell_type": "markdown",
   "metadata": {},
   "source": [
    "### Комментарий\n",
    "\n",
    "Названия столбцов записаны с большой буквы, возможно будет лучше исправить их. Для этого приведем их к нижнему регистру и заменим пробелы на нижнее подчеркивание, чтобы избежать ошибок. Пропусков нет, дубликатов по целым строкам нет.\n",
    "\n",
    "Стобцы, где указана дата должны иметь тип данных datetime, а сейчас они имеют тип object, нужно исправить для упрощения подсчетов. Столбец Device скорее всего будет лучше изменить на str, но пока оставим как есть — поменяем если будет необходимо. То же касается и остальных столбцов — будем менять при необхожимости.\n",
    "\n",
    "В таблице всего 359400 строк, из них уникальных пользователей 228169."
   ]
  },
  {
   "cell_type": "code",
   "execution_count": 6,
   "metadata": {},
   "outputs": [],
   "source": [
    "#исправим названия столбцов\n",
    "visits_log.columns = ['device', 'end_ts', 'source_id', 'start_ts', 'uid']"
   ]
  },
  {
   "cell_type": "code",
   "execution_count": 7,
   "metadata": {},
   "outputs": [],
   "source": [
    "#исправим типа данных для столбцов с датами\n",
    "visits_log['start_ts'] = pd.to_datetime(visits_log['start_ts'], format='%Y.%m.%d %H:%M:%S')\n",
    "visits_log['end_ts'] = pd.to_datetime(visits_log['end_ts'], format='%Y.%m.%d %H:%M:%S')"
   ]
  },
  {
   "cell_type": "markdown",
   "metadata": {},
   "source": [
    "---"
   ]
  },
  {
   "cell_type": "markdown",
   "metadata": {},
   "source": [
    "## <a id=\"eight\"> Выгрузка всех заказов за выбранный период</a> "
   ]
  },
  {
   "cell_type": "code",
   "execution_count": 8,
   "metadata": {},
   "outputs": [
    {
     "name": "stdout",
     "output_type": "stream",
     "text": [
      "<class 'pandas.core.frame.DataFrame'>\n",
      "RangeIndex: 50415 entries, 0 to 50414\n",
      "Data columns (total 3 columns):\n",
      "Buy Ts     50415 non-null object\n",
      "Revenue    50415 non-null float64\n",
      "Uid        50415 non-null uint64\n",
      "dtypes: float64(1), object(1), uint64(1)\n",
      "memory usage: 1.2+ MB\n"
     ]
    },
    {
     "data": {
      "text/html": [
       "<div>\n",
       "<style scoped>\n",
       "    .dataframe tbody tr th:only-of-type {\n",
       "        vertical-align: middle;\n",
       "    }\n",
       "\n",
       "    .dataframe tbody tr th {\n",
       "        vertical-align: top;\n",
       "    }\n",
       "\n",
       "    .dataframe thead th {\n",
       "        text-align: right;\n",
       "    }\n",
       "</style>\n",
       "<table border=\"1\" class=\"dataframe\">\n",
       "  <thead>\n",
       "    <tr style=\"text-align: right;\">\n",
       "      <th></th>\n",
       "      <th>Buy Ts</th>\n",
       "      <th>Revenue</th>\n",
       "      <th>Uid</th>\n",
       "    </tr>\n",
       "  </thead>\n",
       "  <tbody>\n",
       "    <tr>\n",
       "      <td>0</td>\n",
       "      <td>2017-06-01 00:10:00</td>\n",
       "      <td>17.00</td>\n",
       "      <td>10329302124590727494</td>\n",
       "    </tr>\n",
       "    <tr>\n",
       "      <td>1</td>\n",
       "      <td>2017-06-01 00:25:00</td>\n",
       "      <td>0.55</td>\n",
       "      <td>11627257723692907447</td>\n",
       "    </tr>\n",
       "    <tr>\n",
       "      <td>2</td>\n",
       "      <td>2017-06-01 00:27:00</td>\n",
       "      <td>0.37</td>\n",
       "      <td>17903680561304213844</td>\n",
       "    </tr>\n",
       "    <tr>\n",
       "      <td>3</td>\n",
       "      <td>2017-06-01 00:29:00</td>\n",
       "      <td>0.55</td>\n",
       "      <td>16109239769442553005</td>\n",
       "    </tr>\n",
       "    <tr>\n",
       "      <td>4</td>\n",
       "      <td>2017-06-01 07:58:00</td>\n",
       "      <td>0.37</td>\n",
       "      <td>14200605875248379450</td>\n",
       "    </tr>\n",
       "    <tr>\n",
       "      <td>5</td>\n",
       "      <td>2017-06-01 08:43:00</td>\n",
       "      <td>0.18</td>\n",
       "      <td>10402394430196413321</td>\n",
       "    </tr>\n",
       "    <tr>\n",
       "      <td>6</td>\n",
       "      <td>2017-06-01 08:54:00</td>\n",
       "      <td>1.83</td>\n",
       "      <td>12464626743129688638</td>\n",
       "    </tr>\n",
       "    <tr>\n",
       "      <td>7</td>\n",
       "      <td>2017-06-01 09:22:00</td>\n",
       "      <td>1.22</td>\n",
       "      <td>3644482766749211722</td>\n",
       "    </tr>\n",
       "    <tr>\n",
       "      <td>8</td>\n",
       "      <td>2017-06-01 09:22:00</td>\n",
       "      <td>3.30</td>\n",
       "      <td>17542070709969841479</td>\n",
       "    </tr>\n",
       "    <tr>\n",
       "      <td>9</td>\n",
       "      <td>2017-06-01 09:23:00</td>\n",
       "      <td>0.37</td>\n",
       "      <td>1074355127080856382</td>\n",
       "    </tr>\n",
       "  </tbody>\n",
       "</table>\n",
       "</div>"
      ],
      "text/plain": [
       "                Buy Ts  Revenue                   Uid\n",
       "0  2017-06-01 00:10:00    17.00  10329302124590727494\n",
       "1  2017-06-01 00:25:00     0.55  11627257723692907447\n",
       "2  2017-06-01 00:27:00     0.37  17903680561304213844\n",
       "3  2017-06-01 00:29:00     0.55  16109239769442553005\n",
       "4  2017-06-01 07:58:00     0.37  14200605875248379450\n",
       "5  2017-06-01 08:43:00     0.18  10402394430196413321\n",
       "6  2017-06-01 08:54:00     1.83  12464626743129688638\n",
       "7  2017-06-01 09:22:00     1.22   3644482766749211722\n",
       "8  2017-06-01 09:22:00     3.30  17542070709969841479\n",
       "9  2017-06-01 09:23:00     0.37   1074355127080856382"
      ]
     },
     "execution_count": 8,
     "metadata": {},
     "output_type": "execute_result"
    }
   ],
   "source": [
    "orders_log.info()\n",
    "orders_log.head(10)"
   ]
  },
  {
   "cell_type": "code",
   "execution_count": 9,
   "metadata": {},
   "outputs": [
    {
     "data": {
      "text/plain": [
       "Buy Ts     0\n",
       "Revenue    0\n",
       "Uid        0\n",
       "dtype: int64"
      ]
     },
     "execution_count": 9,
     "metadata": {},
     "output_type": "execute_result"
    }
   ],
   "source": [
    "orders_log.isnull().sum()"
   ]
  },
  {
   "cell_type": "code",
   "execution_count": 10,
   "metadata": {},
   "outputs": [
    {
     "data": {
      "text/plain": [
       "0"
      ]
     },
     "execution_count": 10,
     "metadata": {},
     "output_type": "execute_result"
    }
   ],
   "source": [
    "orders_log.duplicated().sum()"
   ]
  },
  {
   "cell_type": "markdown",
   "metadata": {},
   "source": [
    "### Комментарий\n",
    "\n",
    "Названия столбцов поменяем как и в предыдущей таблице, пропусков нет, дубликатов по целым строкам тоже нет. Столбец Revenue я предлагаю оставить с типом float, так как цифры после запятой могут иметь решающее значение. \n",
    "\n",
    "Также нам не указали в какой валюте указана прибыль, так что предположим, что расчет в тысячах — те, кто предоставил нам данные знают в какой валюте и в каких единицах исчисляется выручка, так что это не повлияет на результат. Просто обозначим так для удобства."
   ]
  },
  {
   "cell_type": "code",
   "execution_count": 11,
   "metadata": {},
   "outputs": [],
   "source": [
    "#исправим названия столбцов\n",
    "orders_log.columns = ['buy_ts', 'revenue', 'uid']"
   ]
  },
  {
   "cell_type": "code",
   "execution_count": 12,
   "metadata": {},
   "outputs": [],
   "source": [
    "#исправим типа данных для столбцов с датами\n",
    "orders_log['buy_ts'] = pd.to_datetime(orders_log['buy_ts'], format='%Y.%m.%d %H:%M:%S')"
   ]
  },
  {
   "cell_type": "markdown",
   "metadata": {},
   "source": [
    "---"
   ]
  },
  {
   "cell_type": "markdown",
   "metadata": {},
   "source": [
    "## <a id=\"nine\"> Cтатистика рекламных расходов</a>"
   ]
  },
  {
   "cell_type": "code",
   "execution_count": 13,
   "metadata": {},
   "outputs": [
    {
     "name": "stdout",
     "output_type": "stream",
     "text": [
      "<class 'pandas.core.frame.DataFrame'>\n",
      "RangeIndex: 2542 entries, 0 to 2541\n",
      "Data columns (total 3 columns):\n",
      "source_id    2542 non-null int64\n",
      "dt           2542 non-null object\n",
      "costs        2542 non-null float64\n",
      "dtypes: float64(1), int64(1), object(1)\n",
      "memory usage: 59.7+ KB\n"
     ]
    },
    {
     "data": {
      "text/html": [
       "<div>\n",
       "<style scoped>\n",
       "    .dataframe tbody tr th:only-of-type {\n",
       "        vertical-align: middle;\n",
       "    }\n",
       "\n",
       "    .dataframe tbody tr th {\n",
       "        vertical-align: top;\n",
       "    }\n",
       "\n",
       "    .dataframe thead th {\n",
       "        text-align: right;\n",
       "    }\n",
       "</style>\n",
       "<table border=\"1\" class=\"dataframe\">\n",
       "  <thead>\n",
       "    <tr style=\"text-align: right;\">\n",
       "      <th></th>\n",
       "      <th>source_id</th>\n",
       "      <th>dt</th>\n",
       "      <th>costs</th>\n",
       "    </tr>\n",
       "  </thead>\n",
       "  <tbody>\n",
       "    <tr>\n",
       "      <td>0</td>\n",
       "      <td>1</td>\n",
       "      <td>2017-06-01</td>\n",
       "      <td>75.20</td>\n",
       "    </tr>\n",
       "    <tr>\n",
       "      <td>1</td>\n",
       "      <td>1</td>\n",
       "      <td>2017-06-02</td>\n",
       "      <td>62.25</td>\n",
       "    </tr>\n",
       "    <tr>\n",
       "      <td>2</td>\n",
       "      <td>1</td>\n",
       "      <td>2017-06-03</td>\n",
       "      <td>36.53</td>\n",
       "    </tr>\n",
       "    <tr>\n",
       "      <td>3</td>\n",
       "      <td>1</td>\n",
       "      <td>2017-06-04</td>\n",
       "      <td>55.00</td>\n",
       "    </tr>\n",
       "    <tr>\n",
       "      <td>4</td>\n",
       "      <td>1</td>\n",
       "      <td>2017-06-05</td>\n",
       "      <td>57.08</td>\n",
       "    </tr>\n",
       "    <tr>\n",
       "      <td>5</td>\n",
       "      <td>1</td>\n",
       "      <td>2017-06-06</td>\n",
       "      <td>40.39</td>\n",
       "    </tr>\n",
       "    <tr>\n",
       "      <td>6</td>\n",
       "      <td>1</td>\n",
       "      <td>2017-06-07</td>\n",
       "      <td>40.59</td>\n",
       "    </tr>\n",
       "    <tr>\n",
       "      <td>7</td>\n",
       "      <td>1</td>\n",
       "      <td>2017-06-08</td>\n",
       "      <td>56.63</td>\n",
       "    </tr>\n",
       "    <tr>\n",
       "      <td>8</td>\n",
       "      <td>1</td>\n",
       "      <td>2017-06-09</td>\n",
       "      <td>40.16</td>\n",
       "    </tr>\n",
       "    <tr>\n",
       "      <td>9</td>\n",
       "      <td>1</td>\n",
       "      <td>2017-06-10</td>\n",
       "      <td>43.24</td>\n",
       "    </tr>\n",
       "  </tbody>\n",
       "</table>\n",
       "</div>"
      ],
      "text/plain": [
       "   source_id          dt  costs\n",
       "0          1  2017-06-01  75.20\n",
       "1          1  2017-06-02  62.25\n",
       "2          1  2017-06-03  36.53\n",
       "3          1  2017-06-04  55.00\n",
       "4          1  2017-06-05  57.08\n",
       "5          1  2017-06-06  40.39\n",
       "6          1  2017-06-07  40.59\n",
       "7          1  2017-06-08  56.63\n",
       "8          1  2017-06-09  40.16\n",
       "9          1  2017-06-10  43.24"
      ]
     },
     "execution_count": 13,
     "metadata": {},
     "output_type": "execute_result"
    }
   ],
   "source": [
    "costs.info()\n",
    "costs.head(10)"
   ]
  },
  {
   "cell_type": "code",
   "execution_count": 14,
   "metadata": {},
   "outputs": [
    {
     "data": {
      "text/plain": [
       "source_id    0\n",
       "dt           0\n",
       "costs        0\n",
       "dtype: int64"
      ]
     },
     "execution_count": 14,
     "metadata": {},
     "output_type": "execute_result"
    }
   ],
   "source": [
    "costs.isnull().sum()"
   ]
  },
  {
   "cell_type": "code",
   "execution_count": 15,
   "metadata": {},
   "outputs": [
    {
     "data": {
      "text/plain": [
       "0"
      ]
     },
     "execution_count": 15,
     "metadata": {},
     "output_type": "execute_result"
    }
   ],
   "source": [
    "costs.duplicated().sum()"
   ]
  },
  {
   "cell_type": "markdown",
   "metadata": {},
   "source": [
    "### Комментарий\n",
    "\n",
    "Столбец с датой тоже имеет неправильный тип. Возможно стоит передать эту информацию коллегам, чтобы данные сразу собирались в нужном типе. Пропусков нет, дубликатов по столбцам тоже."
   ]
  },
  {
   "cell_type": "code",
   "execution_count": 16,
   "metadata": {},
   "outputs": [],
   "source": [
    "#исправим типа данных для столбцов с датами\n",
    "costs['dt'] = pd.to_datetime(costs['dt'], format='%Y.%m.%d %H:%M:%S')"
   ]
  },
  {
   "cell_type": "markdown",
   "metadata": {},
   "source": [
    "## Промежуточный вывод\n",
    "\n",
    "В целом данные в порядке. Основная проблема с типами данных, так как все даты не имеют правильный тип для рассчетов, а числовые значения часто имеют тип данных object. Об этом стоит сообщить коллегам."
   ]
  },
  {
   "cell_type": "markdown",
   "metadata": {},
   "source": [
    "----"
   ]
  },
  {
   "cell_type": "markdown",
   "metadata": {},
   "source": [
    "# <a id=\"two\">Исследовательский анализ данных</a>"
   ]
  },
  {
   "cell_type": "markdown",
   "metadata": {},
   "source": [
    "# <a id=\"three\"> Анализ данных о продукте</a>\n",
    "\n",
    "#### Оглавление части\n",
    "\n",
    "1. [Сколько людей пользуются в день, неделю, месяц?](#step1) </n>\n",
    "2. [Сколько сессий в день?](#step2)\n",
    "3. [Сколько длится одна сессия?](#step3)\n",
    "4. [Как часто люди возвращаются?](#step4)\n",
    "\n",
    "Посмотрим на детали работы нашего продукта, чтобы ответить на несколько вопросов:\n",
    "- Сколько людей пользуются в день, неделю, месяц?\n",
    "- Сколько сессий в день?\n",
    "- Сколько длится одна сессия?\n",
    "- Как часто люди возвращаются?\n",
    "\n",
    "Наш продукт — сервис по продаже билетов на мероприятия в городе. Это русскоязычный сервис, он помогает пользователям узнать о последних новостях киноиндустрии и событиях в городе, а также заказать билеты прямо на сайте.\n",
    "\n",
    "Для ответа на вопрос возьмем для анализа таблицу visits_log."
   ]
  },
  {
   "cell_type": "markdown",
   "metadata": {},
   "source": [
    "### <a id=\"step1\"> Сколько людей пользуются ресурсом в день, неделю, месяц?</a>"
   ]
  },
  {
   "cell_type": "code",
   "execution_count": 17,
   "metadata": {},
   "outputs": [
    {
     "data": {
      "text/html": [
       "<div>\n",
       "<style scoped>\n",
       "    .dataframe tbody tr th:only-of-type {\n",
       "        vertical-align: middle;\n",
       "    }\n",
       "\n",
       "    .dataframe tbody tr th {\n",
       "        vertical-align: top;\n",
       "    }\n",
       "\n",
       "    .dataframe thead th {\n",
       "        text-align: right;\n",
       "    }\n",
       "</style>\n",
       "<table border=\"1\" class=\"dataframe\">\n",
       "  <thead>\n",
       "    <tr style=\"text-align: right;\">\n",
       "      <th></th>\n",
       "      <th>device</th>\n",
       "      <th>end_ts</th>\n",
       "      <th>source_id</th>\n",
       "      <th>start_ts</th>\n",
       "      <th>uid</th>\n",
       "    </tr>\n",
       "  </thead>\n",
       "  <tbody>\n",
       "    <tr>\n",
       "      <td>0</td>\n",
       "      <td>touch</td>\n",
       "      <td>2017-12-20 17:38:00</td>\n",
       "      <td>4</td>\n",
       "      <td>2017-12-20 17:20:00</td>\n",
       "      <td>16879256277535980062</td>\n",
       "    </tr>\n",
       "    <tr>\n",
       "      <td>1</td>\n",
       "      <td>desktop</td>\n",
       "      <td>2018-02-19 17:21:00</td>\n",
       "      <td>2</td>\n",
       "      <td>2018-02-19 16:53:00</td>\n",
       "      <td>104060357244891740</td>\n",
       "    </tr>\n",
       "    <tr>\n",
       "      <td>2</td>\n",
       "      <td>touch</td>\n",
       "      <td>2017-07-01 01:54:00</td>\n",
       "      <td>5</td>\n",
       "      <td>2017-07-01 01:54:00</td>\n",
       "      <td>7459035603376831527</td>\n",
       "    </tr>\n",
       "    <tr>\n",
       "      <td>3</td>\n",
       "      <td>desktop</td>\n",
       "      <td>2018-05-20 11:23:00</td>\n",
       "      <td>9</td>\n",
       "      <td>2018-05-20 10:59:00</td>\n",
       "      <td>16174680259334210214</td>\n",
       "    </tr>\n",
       "    <tr>\n",
       "      <td>4</td>\n",
       "      <td>desktop</td>\n",
       "      <td>2017-12-27 14:06:00</td>\n",
       "      <td>3</td>\n",
       "      <td>2017-12-27 14:06:00</td>\n",
       "      <td>9969694820036681168</td>\n",
       "    </tr>\n",
       "  </tbody>\n",
       "</table>\n",
       "</div>"
      ],
      "text/plain": [
       "    device              end_ts  source_id            start_ts  \\\n",
       "0    touch 2017-12-20 17:38:00          4 2017-12-20 17:20:00   \n",
       "1  desktop 2018-02-19 17:21:00          2 2018-02-19 16:53:00   \n",
       "2    touch 2017-07-01 01:54:00          5 2017-07-01 01:54:00   \n",
       "3  desktop 2018-05-20 11:23:00          9 2018-05-20 10:59:00   \n",
       "4  desktop 2017-12-27 14:06:00          3 2017-12-27 14:06:00   \n",
       "\n",
       "                    uid  \n",
       "0  16879256277535980062  \n",
       "1    104060357244891740  \n",
       "2   7459035603376831527  \n",
       "3  16174680259334210214  \n",
       "4   9969694820036681168  "
      ]
     },
     "execution_count": 17,
     "metadata": {},
     "output_type": "execute_result"
    }
   ],
   "source": [
    "visits_log.head()"
   ]
  },
  {
   "cell_type": "code",
   "execution_count": 18,
   "metadata": {},
   "outputs": [
    {
     "data": {
      "text/html": [
       "<div>\n",
       "<style scoped>\n",
       "    .dataframe tbody tr th:only-of-type {\n",
       "        vertical-align: middle;\n",
       "    }\n",
       "\n",
       "    .dataframe tbody tr th {\n",
       "        vertical-align: top;\n",
       "    }\n",
       "\n",
       "    .dataframe thead th {\n",
       "        text-align: right;\n",
       "    }\n",
       "</style>\n",
       "<table border=\"1\" class=\"dataframe\">\n",
       "  <thead>\n",
       "    <tr style=\"text-align: right;\">\n",
       "      <th></th>\n",
       "      <th>device</th>\n",
       "      <th>end_ts</th>\n",
       "      <th>source_id</th>\n",
       "      <th>start_ts</th>\n",
       "      <th>uid</th>\n",
       "      <th>year_ts</th>\n",
       "      <th>month_ts</th>\n",
       "      <th>week_ts</th>\n",
       "      <th>day_ts</th>\n",
       "    </tr>\n",
       "  </thead>\n",
       "  <tbody>\n",
       "    <tr>\n",
       "      <td>0</td>\n",
       "      <td>touch</td>\n",
       "      <td>2017-12-20 17:38:00</td>\n",
       "      <td>4</td>\n",
       "      <td>2017-12-20 17:20:00</td>\n",
       "      <td>16879256277535980062</td>\n",
       "      <td>2017</td>\n",
       "      <td>12</td>\n",
       "      <td>51</td>\n",
       "      <td>2017-12-21</td>\n",
       "    </tr>\n",
       "    <tr>\n",
       "      <td>1</td>\n",
       "      <td>desktop</td>\n",
       "      <td>2018-02-19 17:21:00</td>\n",
       "      <td>2</td>\n",
       "      <td>2018-02-19 16:53:00</td>\n",
       "      <td>104060357244891740</td>\n",
       "      <td>2018</td>\n",
       "      <td>2</td>\n",
       "      <td>8</td>\n",
       "      <td>2018-02-20</td>\n",
       "    </tr>\n",
       "    <tr>\n",
       "      <td>2</td>\n",
       "      <td>touch</td>\n",
       "      <td>2017-07-01 01:54:00</td>\n",
       "      <td>5</td>\n",
       "      <td>2017-07-01 01:54:00</td>\n",
       "      <td>7459035603376831527</td>\n",
       "      <td>2017</td>\n",
       "      <td>7</td>\n",
       "      <td>26</td>\n",
       "      <td>2017-07-01</td>\n",
       "    </tr>\n",
       "    <tr>\n",
       "      <td>3</td>\n",
       "      <td>desktop</td>\n",
       "      <td>2018-05-20 11:23:00</td>\n",
       "      <td>9</td>\n",
       "      <td>2018-05-20 10:59:00</td>\n",
       "      <td>16174680259334210214</td>\n",
       "      <td>2018</td>\n",
       "      <td>5</td>\n",
       "      <td>20</td>\n",
       "      <td>2018-05-20</td>\n",
       "    </tr>\n",
       "    <tr>\n",
       "      <td>4</td>\n",
       "      <td>desktop</td>\n",
       "      <td>2017-12-27 14:06:00</td>\n",
       "      <td>3</td>\n",
       "      <td>2017-12-27 14:06:00</td>\n",
       "      <td>9969694820036681168</td>\n",
       "      <td>2017</td>\n",
       "      <td>12</td>\n",
       "      <td>52</td>\n",
       "      <td>2017-12-28</td>\n",
       "    </tr>\n",
       "  </tbody>\n",
       "</table>\n",
       "</div>"
      ],
      "text/plain": [
       "    device              end_ts  source_id            start_ts  \\\n",
       "0    touch 2017-12-20 17:38:00          4 2017-12-20 17:20:00   \n",
       "1  desktop 2018-02-19 17:21:00          2 2018-02-19 16:53:00   \n",
       "2    touch 2017-07-01 01:54:00          5 2017-07-01 01:54:00   \n",
       "3  desktop 2018-05-20 11:23:00          9 2018-05-20 10:59:00   \n",
       "4  desktop 2017-12-27 14:06:00          3 2017-12-27 14:06:00   \n",
       "\n",
       "                    uid  year_ts  month_ts  week_ts     day_ts  \n",
       "0  16879256277535980062     2017        12       51 2017-12-21  \n",
       "1    104060357244891740     2018         2        8 2018-02-20  \n",
       "2   7459035603376831527     2017         7       26 2017-07-01  \n",
       "3  16174680259334210214     2018         5       20 2018-05-20  \n",
       "4   9969694820036681168     2017        12       52 2017-12-28  "
      ]
     },
     "execution_count": 18,
     "metadata": {},
     "output_type": "execute_result"
    }
   ],
   "source": [
    "#добавим столбцы с месяцем, неделей и днем сессии\n",
    "visits_log['year_ts']  = visits_log['start_ts'].dt.year\n",
    "visits_log['month_ts'] = visits_log['start_ts'].dt.month\n",
    "visits_log['week_ts'] = visits_log['start_ts'].dt.week\n",
    "\n",
    "#для столбца с днями округлим дату до дня — так в рассчет попадет каждый календарный день, а не просто число дня\n",
    "visits_log['day_ts'] = visits_log['start_ts'].dt.round('1D')\n",
    "visits_log.head()"
   ]
  },
  {
   "cell_type": "code",
   "execution_count": 19,
   "metadata": {},
   "outputs": [
    {
     "data": {
      "text/html": [
       "<div>\n",
       "<style scoped>\n",
       "    .dataframe tbody tr th:only-of-type {\n",
       "        vertical-align: middle;\n",
       "    }\n",
       "\n",
       "    .dataframe tbody tr th {\n",
       "        vertical-align: top;\n",
       "    }\n",
       "\n",
       "    .dataframe thead th {\n",
       "        text-align: right;\n",
       "    }\n",
       "</style>\n",
       "<table border=\"1\" class=\"dataframe\">\n",
       "  <thead>\n",
       "    <tr style=\"text-align: right;\">\n",
       "      <th></th>\n",
       "      <th>uid</th>\n",
       "    </tr>\n",
       "  </thead>\n",
       "  <tbody>\n",
       "    <tr>\n",
       "      <td>count</td>\n",
       "      <td>12.000000</td>\n",
       "    </tr>\n",
       "    <tr>\n",
       "      <td>mean</td>\n",
       "      <td>23228.416667</td>\n",
       "    </tr>\n",
       "    <tr>\n",
       "      <td>std</td>\n",
       "      <td>7546.380462</td>\n",
       "    </tr>\n",
       "    <tr>\n",
       "      <td>min</td>\n",
       "      <td>11631.000000</td>\n",
       "    </tr>\n",
       "    <tr>\n",
       "      <td>25%</td>\n",
       "      <td>17777.000000</td>\n",
       "    </tr>\n",
       "    <tr>\n",
       "      <td>50%</td>\n",
       "      <td>24240.500000</td>\n",
       "    </tr>\n",
       "    <tr>\n",
       "      <td>75%</td>\n",
       "      <td>28984.750000</td>\n",
       "    </tr>\n",
       "    <tr>\n",
       "      <td>max</td>\n",
       "      <td>32797.000000</td>\n",
       "    </tr>\n",
       "  </tbody>\n",
       "</table>\n",
       "</div>"
      ],
      "text/plain": [
       "                uid\n",
       "count     12.000000\n",
       "mean   23228.416667\n",
       "std     7546.380462\n",
       "min    11631.000000\n",
       "25%    17777.000000\n",
       "50%    24240.500000\n",
       "75%    28984.750000\n",
       "max    32797.000000"
      ]
     },
     "execution_count": 19,
     "metadata": {},
     "output_type": "execute_result"
    }
   ],
   "source": [
    "#сгруппируем сессии по месяцам, считая только уникальные значения uid\n",
    "month_visits = visits_log.groupby('month_ts').agg({'uid': 'nunique'})\n",
    "month_visits.describe()"
   ]
  },
  {
   "cell_type": "code",
   "execution_count": 20,
   "metadata": {
    "scrolled": true
   },
   "outputs": [
    {
     "data": {
      "text/html": [
       "<div>\n",
       "<style scoped>\n",
       "    .dataframe tbody tr th:only-of-type {\n",
       "        vertical-align: middle;\n",
       "    }\n",
       "\n",
       "    .dataframe tbody tr th {\n",
       "        vertical-align: top;\n",
       "    }\n",
       "\n",
       "    .dataframe thead th {\n",
       "        text-align: right;\n",
       "    }\n",
       "</style>\n",
       "<table border=\"1\" class=\"dataframe\">\n",
       "  <thead>\n",
       "    <tr style=\"text-align: right;\">\n",
       "      <th></th>\n",
       "      <th>uid</th>\n",
       "    </tr>\n",
       "  </thead>\n",
       "  <tbody>\n",
       "    <tr>\n",
       "      <td>count</td>\n",
       "      <td>53.000000</td>\n",
       "    </tr>\n",
       "    <tr>\n",
       "      <td>mean</td>\n",
       "      <td>5716.245283</td>\n",
       "    </tr>\n",
       "    <tr>\n",
       "      <td>std</td>\n",
       "      <td>2049.898027</td>\n",
       "    </tr>\n",
       "    <tr>\n",
       "      <td>min</td>\n",
       "      <td>2021.000000</td>\n",
       "    </tr>\n",
       "    <tr>\n",
       "      <td>25%</td>\n",
       "      <td>4128.000000</td>\n",
       "    </tr>\n",
       "    <tr>\n",
       "      <td>50%</td>\n",
       "      <td>5740.000000</td>\n",
       "    </tr>\n",
       "    <tr>\n",
       "      <td>75%</td>\n",
       "      <td>7401.000000</td>\n",
       "    </tr>\n",
       "    <tr>\n",
       "      <td>max</td>\n",
       "      <td>10586.000000</td>\n",
       "    </tr>\n",
       "  </tbody>\n",
       "</table>\n",
       "</div>"
      ],
      "text/plain": [
       "                uid\n",
       "count     53.000000\n",
       "mean    5716.245283\n",
       "std     2049.898027\n",
       "min     2021.000000\n",
       "25%     4128.000000\n",
       "50%     5740.000000\n",
       "75%     7401.000000\n",
       "max    10586.000000"
      ]
     },
     "execution_count": 20,
     "metadata": {},
     "output_type": "execute_result"
    }
   ],
   "source": [
    "#сгруппируем сессии по неделям, считая только уникальные значения uid\n",
    "week_visits = visits_log.groupby(['year_ts', 'week_ts']).agg({'uid': 'nunique'})\n",
    "week_visits.describe()"
   ]
  },
  {
   "cell_type": "code",
   "execution_count": 21,
   "metadata": {},
   "outputs": [
    {
     "data": {
      "text/html": [
       "<div>\n",
       "<style scoped>\n",
       "    .dataframe tbody tr th:only-of-type {\n",
       "        vertical-align: middle;\n",
       "    }\n",
       "\n",
       "    .dataframe tbody tr th {\n",
       "        vertical-align: top;\n",
       "    }\n",
       "\n",
       "    .dataframe thead th {\n",
       "        text-align: right;\n",
       "    }\n",
       "</style>\n",
       "<table border=\"1\" class=\"dataframe\">\n",
       "  <thead>\n",
       "    <tr style=\"text-align: right;\">\n",
       "      <th></th>\n",
       "      <th>uid</th>\n",
       "    </tr>\n",
       "  </thead>\n",
       "  <tbody>\n",
       "    <tr>\n",
       "      <td>count</td>\n",
       "      <td>364.000000</td>\n",
       "    </tr>\n",
       "    <tr>\n",
       "      <td>mean</td>\n",
       "      <td>911.755495</td>\n",
       "    </tr>\n",
       "    <tr>\n",
       "      <td>std</td>\n",
       "      <td>362.004441</td>\n",
       "    </tr>\n",
       "    <tr>\n",
       "      <td>min</td>\n",
       "      <td>1.000000</td>\n",
       "    </tr>\n",
       "    <tr>\n",
       "      <td>25%</td>\n",
       "      <td>593.750000</td>\n",
       "    </tr>\n",
       "    <tr>\n",
       "      <td>50%</td>\n",
       "      <td>945.000000</td>\n",
       "    </tr>\n",
       "    <tr>\n",
       "      <td>75%</td>\n",
       "      <td>1170.500000</td>\n",
       "    </tr>\n",
       "    <tr>\n",
       "      <td>max</td>\n",
       "      <td>2851.000000</td>\n",
       "    </tr>\n",
       "  </tbody>\n",
       "</table>\n",
       "</div>"
      ],
      "text/plain": [
       "               uid\n",
       "count   364.000000\n",
       "mean    911.755495\n",
       "std     362.004441\n",
       "min       1.000000\n",
       "25%     593.750000\n",
       "50%     945.000000\n",
       "75%    1170.500000\n",
       "max    2851.000000"
      ]
     },
     "execution_count": 21,
     "metadata": {},
     "output_type": "execute_result"
    }
   ],
   "source": [
    "#сгруппируем сессии по дням, считая только уникальные значения uid\n",
    "day_visits = visits_log.groupby('day_ts').agg({'uid': 'nunique'})\n",
    "day_visits.describe()"
   ]
  },
  {
   "cell_type": "markdown",
   "metadata": {},
   "source": [
    "Посчитаем метрику sticky factor, чтобы посчитать регулярность использования нашего ресурса — то, как часто пользователи к нему обращаются."
   ]
  },
  {
   "cell_type": "code",
   "execution_count": 22,
   "metadata": {},
   "outputs": [
    {
     "data": {
      "text/plain": [
       "15.93771868439468"
      ]
     },
     "metadata": {},
     "output_type": "display_data"
    },
    {
     "data": {
      "text/plain": [
       "3.92199070087825"
      ]
     },
     "metadata": {},
     "output_type": "display_data"
    }
   ],
   "source": [
    "sticky_factor_month = int(day_visits.mean())/int(month_visits.mean())*100\n",
    "sticky_factor_week = int(day_visits.mean())/int(week_visits.mean())*100\n",
    "\n",
    "display(sticky_factor_week)\n",
    "display(sticky_factor_month)"
   ]
  },
  {
   "cell_type": "markdown",
   "metadata": {},
   "source": [
    "### Комментарий\n",
    "\n",
    "В среднем:\n",
    "- в месяц заходят 23228 уникальных пользователей\n",
    "- в неделю 5716 уникальных пользователей\n",
    "- в день 911 уникальных пользователей\n",
    "\n",
    "Sticky factor:\n",
    "- по отношению к месячной аудитории — 3.9\n",
    "- по отношению к недельной аудитории — 15.9\n",
    "\n",
    "При этом минимальные и максимальные показатели довольно значительно отличаются от среднего — посмотрим на графике, чтобы понять как они распределены."
   ]
  },
  {
   "cell_type": "code",
   "execution_count": 23,
   "metadata": {},
   "outputs": [
    {
     "data": {
      "image/png": "[encoded data removed]",
      "text/plain": [
       "<Figure size 432x288 with 1 Axes>"
      ]
     },
     "metadata": {
      "needs_background": "light"
     },
     "output_type": "display_data"
    }
   ],
   "source": [
    "month_visits.plot(color='#466667', grid=True)\n",
    "\n",
    "plt.title('Распределение посещений по месяцам')\n",
    "plt.xlabel('Месяцы')\n",
    "plt.ylabel('Количество пользователей')\n",
    "plt.show();"
   ]
  },
  {
   "cell_type": "markdown",
   "metadata": {},
   "source": [
    "### Комментарий\n",
    "\n",
    "В январе количество пользователей около 28 тысяч, но количество значительно снижается в июле примерно до 14000 и держится на низких показателях все лето. С сентября количество пользователей растет. Вероятно это сезонные изменения, хотя казалось, что летом люди должны больше интересоваться событиями в городе. Возможно это связано с тем, что летом многие уезжают на отдых из страны."
   ]
  },
  {
   "cell_type": "markdown",
   "metadata": {},
   "source": [
    "Построим также распределение метрики WAU — как менялись показатели во времени в разбивке по неделям."
   ]
  },
  {
   "cell_type": "code",
   "execution_count": 24,
   "metadata": {},
   "outputs": [
    {
     "data": {
      "image/png": "[encoded data removed]",
      "text/plain": [
       "<Figure size 1008x360 with 1 Axes>"
      ]
     },
     "metadata": {
      "needs_background": "light"
     },
     "output_type": "display_data"
    }
   ],
   "source": [
    "week_visits.plot(color='#466667', grid=True, figsize=(14, 5))\n",
    "\n",
    "plt.title('Распределение посещений по неделям')\n",
    "plt.xlabel('Недели')\n",
    "plt.ylabel('Количество пользователей')\n",
    "plt.show();"
   ]
  },
  {
   "cell_type": "markdown",
   "metadata": {},
   "source": [
    "### Комментарий\n",
    "\n",
    "Максимальный показатель за неделю составил больше 10 тысяч посещений — осенью 2017 года. Можно спросить у коллег что произошло в эту неделю, чтобы понять откуда такие показатели. При этом можно отметить, что в 2018 году показатели начали значительно снижаться и по последним данным видно, что посещаемость достигла уровня середины 2017 года — меньше 6000 посещений."
   ]
  },
  {
   "cell_type": "markdown",
   "metadata": {},
   "source": [
    "Распределение по дням будет лучше посмотреть за последний месяц, чтобы отметить есть ли скачки в течение недели."
   ]
  },
  {
   "cell_type": "code",
   "execution_count": 25,
   "metadata": {},
   "outputs": [
    {
     "data": {
      "image/png": "[encoded data removed]",
      "text/plain": [
       "<Figure size 1008x360 with 1 Axes>"
      ]
     },
     "metadata": {
      "needs_background": "light"
     },
     "output_type": "display_data"
    }
   ],
   "source": [
    "day_visits.plot(color='#466667', grid=True, figsize=(14, 5), xlim=('2018-04','2018-05'))\n",
    "\n",
    "plt.title('Распределение посещений по неделям')\n",
    "plt.xlabel('Недели')\n",
    "plt.ylabel('Количество пользователей')\n",
    "plt.show();"
   ]
  },
  {
   "cell_type": "markdown",
   "metadata": {},
   "source": [
    "### Комментарий\n",
    "\n",
    "Мы видим, что в течение недель нет закономерных изменений. Часть недель имеет падения до середины недели, а часть рост. В целом показатели за неделю редко превышали 1000 посещений. Чаще всего они были в диапазон от 500 до 1000."
   ]
  },
  {
   "cell_type": "markdown",
   "metadata": {},
   "source": [
    "---"
   ]
  },
  {
   "cell_type": "markdown",
   "metadata": {},
   "source": [
    "### <a id=\"step2\"> Сколько сессий в день?</a>"
   ]
  },
  {
   "cell_type": "code",
   "execution_count": 26,
   "metadata": {},
   "outputs": [
    {
     "data": {
      "text/html": [
       "<div>\n",
       "<style scoped>\n",
       "    .dataframe tbody tr th:only-of-type {\n",
       "        vertical-align: middle;\n",
       "    }\n",
       "\n",
       "    .dataframe tbody tr th {\n",
       "        vertical-align: top;\n",
       "    }\n",
       "\n",
       "    .dataframe thead th {\n",
       "        text-align: right;\n",
       "    }\n",
       "</style>\n",
       "<table border=\"1\" class=\"dataframe\">\n",
       "  <thead>\n",
       "    <tr style=\"text-align: right;\">\n",
       "      <th></th>\n",
       "      <th>device</th>\n",
       "      <th>end_ts</th>\n",
       "      <th>source_id</th>\n",
       "      <th>start_ts</th>\n",
       "      <th>uid</th>\n",
       "      <th>year_ts</th>\n",
       "      <th>month_ts</th>\n",
       "      <th>week_ts</th>\n",
       "      <th>day_ts</th>\n",
       "    </tr>\n",
       "  </thead>\n",
       "  <tbody>\n",
       "    <tr>\n",
       "      <td>0</td>\n",
       "      <td>touch</td>\n",
       "      <td>2017-12-20 17:38:00</td>\n",
       "      <td>4</td>\n",
       "      <td>2017-12-20 17:20:00</td>\n",
       "      <td>16879256277535980062</td>\n",
       "      <td>2017</td>\n",
       "      <td>12</td>\n",
       "      <td>51</td>\n",
       "      <td>2017-12-21</td>\n",
       "    </tr>\n",
       "    <tr>\n",
       "      <td>1</td>\n",
       "      <td>desktop</td>\n",
       "      <td>2018-02-19 17:21:00</td>\n",
       "      <td>2</td>\n",
       "      <td>2018-02-19 16:53:00</td>\n",
       "      <td>104060357244891740</td>\n",
       "      <td>2018</td>\n",
       "      <td>2</td>\n",
       "      <td>8</td>\n",
       "      <td>2018-02-20</td>\n",
       "    </tr>\n",
       "    <tr>\n",
       "      <td>2</td>\n",
       "      <td>touch</td>\n",
       "      <td>2017-07-01 01:54:00</td>\n",
       "      <td>5</td>\n",
       "      <td>2017-07-01 01:54:00</td>\n",
       "      <td>7459035603376831527</td>\n",
       "      <td>2017</td>\n",
       "      <td>7</td>\n",
       "      <td>26</td>\n",
       "      <td>2017-07-01</td>\n",
       "    </tr>\n",
       "    <tr>\n",
       "      <td>3</td>\n",
       "      <td>desktop</td>\n",
       "      <td>2018-05-20 11:23:00</td>\n",
       "      <td>9</td>\n",
       "      <td>2018-05-20 10:59:00</td>\n",
       "      <td>16174680259334210214</td>\n",
       "      <td>2018</td>\n",
       "      <td>5</td>\n",
       "      <td>20</td>\n",
       "      <td>2018-05-20</td>\n",
       "    </tr>\n",
       "    <tr>\n",
       "      <td>4</td>\n",
       "      <td>desktop</td>\n",
       "      <td>2017-12-27 14:06:00</td>\n",
       "      <td>3</td>\n",
       "      <td>2017-12-27 14:06:00</td>\n",
       "      <td>9969694820036681168</td>\n",
       "      <td>2017</td>\n",
       "      <td>12</td>\n",
       "      <td>52</td>\n",
       "      <td>2017-12-28</td>\n",
       "    </tr>\n",
       "  </tbody>\n",
       "</table>\n",
       "</div>"
      ],
      "text/plain": [
       "    device              end_ts  source_id            start_ts  \\\n",
       "0    touch 2017-12-20 17:38:00          4 2017-12-20 17:20:00   \n",
       "1  desktop 2018-02-19 17:21:00          2 2018-02-19 16:53:00   \n",
       "2    touch 2017-07-01 01:54:00          5 2017-07-01 01:54:00   \n",
       "3  desktop 2018-05-20 11:23:00          9 2018-05-20 10:59:00   \n",
       "4  desktop 2017-12-27 14:06:00          3 2017-12-27 14:06:00   \n",
       "\n",
       "                    uid  year_ts  month_ts  week_ts     day_ts  \n",
       "0  16879256277535980062     2017        12       51 2017-12-21  \n",
       "1    104060357244891740     2018         2        8 2018-02-20  \n",
       "2   7459035603376831527     2017         7       26 2017-07-01  \n",
       "3  16174680259334210214     2018         5       20 2018-05-20  \n",
       "4   9969694820036681168     2017        12       52 2017-12-28  "
      ]
     },
     "execution_count": 26,
     "metadata": {},
     "output_type": "execute_result"
    }
   ],
   "source": [
    "visits_log.head()"
   ]
  },
  {
   "cell_type": "code",
   "execution_count": 27,
   "metadata": {},
   "outputs": [],
   "source": [
    "#посчитаем количество сессий в группировке по столбцу day_ts\n",
    "day_session = visits_log.groupby('day_ts').agg({'start_ts': 'count'}).describe()"
   ]
  },
  {
   "cell_type": "markdown",
   "metadata": {},
   "source": [
    "### Комментарий\n",
    "\n",
    "Среднее количество сессий — 987, но при этом есть минимальное количество 1 и максимально 3510. Было бы неплохо посмотреть как они распределены."
   ]
  },
  {
   "cell_type": "code",
   "execution_count": 28,
   "metadata": {},
   "outputs": [
    {
     "data": {
      "image/png": "[encoded data removed]",
      "text/plain": [
       "<Figure size 432x288 with 1 Axes>"
      ]
     },
     "metadata": {
      "needs_background": "light"
     },
     "output_type": "display_data"
    }
   ],
   "source": [
    "visits_log.hist('month_ts', color='#7A8A7D')\n",
    "\n",
    "plt.title('Распределение количества сессий в течение года')\n",
    "plt.show;"
   ]
  },
  {
   "cell_type": "code",
   "execution_count": 29,
   "metadata": {},
   "outputs": [
    {
     "data": {
      "text/plain": [
       "uid    911.755495\n",
       "dtype: float64"
      ]
     },
     "execution_count": 29,
     "metadata": {},
     "output_type": "execute_result"
    }
   ],
   "source": [
    "#средний показатель метрики DAU\n",
    "day_visits.mean()"
   ]
  },
  {
   "cell_type": "markdown",
   "metadata": {},
   "source": [
    "### Комментарий\n",
    "\n",
    "Количество сессий уменьшается с января и начинает расти в сентябре, также как и количество посетителей. Вероятно это естественные сезонные изменения. Если мы разделим показатель среднего количества сессий на метрику DAU, то получим результат 1.08 — значит в среднем на пользователя приходится 1.08 сессий."
   ]
  },
  {
   "cell_type": "markdown",
   "metadata": {},
   "source": [
    "---"
   ]
  },
  {
   "cell_type": "markdown",
   "metadata": {},
   "source": [
    "### <a id=\"step3\"> Сколько длится одна сессия?</a>"
   ]
  },
  {
   "cell_type": "markdown",
   "metadata": {},
   "source": [
    "Продолжительность сессии или ASL показывает, сколько длится сессия одного пользователя в среднем.\n",
    "\n",
    "Вычтем старт сессии из окончания сессии, чтобы получить продолжительность каждой сессии в секундах."
   ]
  },
  {
   "cell_type": "code",
   "execution_count": 30,
   "metadata": {},
   "outputs": [
    {
     "data": {
      "text/html": [
       "<div>\n",
       "<style scoped>\n",
       "    .dataframe tbody tr th:only-of-type {\n",
       "        vertical-align: middle;\n",
       "    }\n",
       "\n",
       "    .dataframe tbody tr th {\n",
       "        vertical-align: top;\n",
       "    }\n",
       "\n",
       "    .dataframe thead th {\n",
       "        text-align: right;\n",
       "    }\n",
       "</style>\n",
       "<table border=\"1\" class=\"dataframe\">\n",
       "  <thead>\n",
       "    <tr style=\"text-align: right;\">\n",
       "      <th></th>\n",
       "      <th>device</th>\n",
       "      <th>end_ts</th>\n",
       "      <th>source_id</th>\n",
       "      <th>start_ts</th>\n",
       "      <th>uid</th>\n",
       "      <th>year_ts</th>\n",
       "      <th>month_ts</th>\n",
       "      <th>week_ts</th>\n",
       "      <th>day_ts</th>\n",
       "      <th>session_duration</th>\n",
       "    </tr>\n",
       "  </thead>\n",
       "  <tbody>\n",
       "    <tr>\n",
       "      <td>0</td>\n",
       "      <td>touch</td>\n",
       "      <td>2017-12-20 17:38:00</td>\n",
       "      <td>4</td>\n",
       "      <td>2017-12-20 17:20:00</td>\n",
       "      <td>16879256277535980062</td>\n",
       "      <td>2017</td>\n",
       "      <td>12</td>\n",
       "      <td>51</td>\n",
       "      <td>2017-12-21</td>\n",
       "      <td>1080.0</td>\n",
       "    </tr>\n",
       "    <tr>\n",
       "      <td>1</td>\n",
       "      <td>desktop</td>\n",
       "      <td>2018-02-19 17:21:00</td>\n",
       "      <td>2</td>\n",
       "      <td>2018-02-19 16:53:00</td>\n",
       "      <td>104060357244891740</td>\n",
       "      <td>2018</td>\n",
       "      <td>2</td>\n",
       "      <td>8</td>\n",
       "      <td>2018-02-20</td>\n",
       "      <td>1680.0</td>\n",
       "    </tr>\n",
       "    <tr>\n",
       "      <td>2</td>\n",
       "      <td>touch</td>\n",
       "      <td>2017-07-01 01:54:00</td>\n",
       "      <td>5</td>\n",
       "      <td>2017-07-01 01:54:00</td>\n",
       "      <td>7459035603376831527</td>\n",
       "      <td>2017</td>\n",
       "      <td>7</td>\n",
       "      <td>26</td>\n",
       "      <td>2017-07-01</td>\n",
       "      <td>0.0</td>\n",
       "    </tr>\n",
       "    <tr>\n",
       "      <td>3</td>\n",
       "      <td>desktop</td>\n",
       "      <td>2018-05-20 11:23:00</td>\n",
       "      <td>9</td>\n",
       "      <td>2018-05-20 10:59:00</td>\n",
       "      <td>16174680259334210214</td>\n",
       "      <td>2018</td>\n",
       "      <td>5</td>\n",
       "      <td>20</td>\n",
       "      <td>2018-05-20</td>\n",
       "      <td>1440.0</td>\n",
       "    </tr>\n",
       "    <tr>\n",
       "      <td>4</td>\n",
       "      <td>desktop</td>\n",
       "      <td>2017-12-27 14:06:00</td>\n",
       "      <td>3</td>\n",
       "      <td>2017-12-27 14:06:00</td>\n",
       "      <td>9969694820036681168</td>\n",
       "      <td>2017</td>\n",
       "      <td>12</td>\n",
       "      <td>52</td>\n",
       "      <td>2017-12-28</td>\n",
       "      <td>0.0</td>\n",
       "    </tr>\n",
       "  </tbody>\n",
       "</table>\n",
       "</div>"
      ],
      "text/plain": [
       "    device              end_ts  source_id            start_ts  \\\n",
       "0    touch 2017-12-20 17:38:00          4 2017-12-20 17:20:00   \n",
       "1  desktop 2018-02-19 17:21:00          2 2018-02-19 16:53:00   \n",
       "2    touch 2017-07-01 01:54:00          5 2017-07-01 01:54:00   \n",
       "3  desktop 2018-05-20 11:23:00          9 2018-05-20 10:59:00   \n",
       "4  desktop 2017-12-27 14:06:00          3 2017-12-27 14:06:00   \n",
       "\n",
       "                    uid  year_ts  month_ts  week_ts     day_ts  \\\n",
       "0  16879256277535980062     2017        12       51 2017-12-21   \n",
       "1    104060357244891740     2018         2        8 2018-02-20   \n",
       "2   7459035603376831527     2017         7       26 2017-07-01   \n",
       "3  16174680259334210214     2018         5       20 2018-05-20   \n",
       "4   9969694820036681168     2017        12       52 2017-12-28   \n",
       "\n",
       "   session_duration  \n",
       "0            1080.0  \n",
       "1            1680.0  \n",
       "2               0.0  \n",
       "3            1440.0  \n",
       "4               0.0  "
      ]
     },
     "execution_count": 30,
     "metadata": {},
     "output_type": "execute_result"
    }
   ],
   "source": [
    "visits_log['session_duration'] = (visits_log['end_ts'] - visits_log['start_ts']).dt.total_seconds()\n",
    "visits_log.head()"
   ]
  },
  {
   "cell_type": "code",
   "execution_count": 31,
   "metadata": {},
   "outputs": [
    {
     "data": {
      "text/plain": [
       "count    359400.000000\n",
       "mean        643.025687\n",
       "std         997.127761\n",
       "min       -2760.000000\n",
       "25%         120.000000\n",
       "50%         300.000000\n",
       "75%         840.000000\n",
       "max       42660.000000\n",
       "Name: session_duration, dtype: float64"
      ]
     },
     "execution_count": 31,
     "metadata": {},
     "output_type": "execute_result"
    }
   ],
   "source": [
    "#посмотрим статистические показатели\n",
    "visits_log['session_duration'].describe()"
   ]
  },
  {
   "cell_type": "code",
   "execution_count": 32,
   "metadata": {},
   "outputs": [
    {
     "data": {
      "text/html": [
       "<div>\n",
       "<style scoped>\n",
       "    .dataframe tbody tr th:only-of-type {\n",
       "        vertical-align: middle;\n",
       "    }\n",
       "\n",
       "    .dataframe tbody tr th {\n",
       "        vertical-align: top;\n",
       "    }\n",
       "\n",
       "    .dataframe thead th {\n",
       "        text-align: right;\n",
       "    }\n",
       "</style>\n",
       "<table border=\"1\" class=\"dataframe\">\n",
       "  <thead>\n",
       "    <tr style=\"text-align: right;\">\n",
       "      <th></th>\n",
       "      <th>device</th>\n",
       "      <th>end_ts</th>\n",
       "      <th>source_id</th>\n",
       "      <th>start_ts</th>\n",
       "      <th>uid</th>\n",
       "      <th>year_ts</th>\n",
       "      <th>month_ts</th>\n",
       "      <th>week_ts</th>\n",
       "      <th>day_ts</th>\n",
       "      <th>session_duration</th>\n",
       "    </tr>\n",
       "  </thead>\n",
       "  <tbody>\n",
       "    <tr>\n",
       "      <td>4181</td>\n",
       "      <td>desktop</td>\n",
       "      <td>2018-03-25 03:18:00</td>\n",
       "      <td>3</td>\n",
       "      <td>2018-03-25 03:50:00</td>\n",
       "      <td>13092152539246794986</td>\n",
       "      <td>2018</td>\n",
       "      <td>3</td>\n",
       "      <td>12</td>\n",
       "      <td>2018-03-25</td>\n",
       "      <td>-1920.0</td>\n",
       "    </tr>\n",
       "    <tr>\n",
       "      <td>177972</td>\n",
       "      <td>desktop</td>\n",
       "      <td>2018-03-25 03:09:00</td>\n",
       "      <td>9</td>\n",
       "      <td>2018-03-25 03:55:00</td>\n",
       "      <td>4621202742905035453</td>\n",
       "      <td>2018</td>\n",
       "      <td>3</td>\n",
       "      <td>12</td>\n",
       "      <td>2018-03-25</td>\n",
       "      <td>-2760.0</td>\n",
       "    </tr>\n",
       "  </tbody>\n",
       "</table>\n",
       "</div>"
      ],
      "text/plain": [
       "         device              end_ts  source_id            start_ts  \\\n",
       "4181    desktop 2018-03-25 03:18:00          3 2018-03-25 03:50:00   \n",
       "177972  desktop 2018-03-25 03:09:00          9 2018-03-25 03:55:00   \n",
       "\n",
       "                         uid  year_ts  month_ts  week_ts     day_ts  \\\n",
       "4181    13092152539246794986     2018         3       12 2018-03-25   \n",
       "177972   4621202742905035453     2018         3       12 2018-03-25   \n",
       "\n",
       "        session_duration  \n",
       "4181             -1920.0  \n",
       "177972           -2760.0  "
      ]
     },
     "execution_count": 32,
     "metadata": {},
     "output_type": "execute_result"
    }
   ],
   "source": [
    "visits_log[visits_log['session_duration'] < 0]"
   ]
  },
  {
   "cell_type": "code",
   "execution_count": 33,
   "metadata": {},
   "outputs": [
    {
     "data": {
      "text/plain": [
       "count    323604.000000\n",
       "mean        714.169516\n",
       "std        1026.349417\n",
       "min          19.000000\n",
       "25%         120.000000\n",
       "50%         360.000000\n",
       "75%         900.000000\n",
       "max       42660.000000\n",
       "Name: session_duration, dtype: float64"
      ]
     },
     "execution_count": 33,
     "metadata": {},
     "output_type": "execute_result"
    }
   ],
   "source": [
    "visits_log[visits_log['session_duration'] > 0]['session_duration'].describe()"
   ]
  },
  {
   "cell_type": "markdown",
   "metadata": {},
   "source": [
    "Минимальное значение отрицательно, значит где-то в данных вероятно есть ошибка — дата окончания сессии не может быть раньше, чем начало сессии. Таких значений в таблице два — вероятно это ошибка в данных. Если посмотреть на статистические показатели без двух этих строк, то показатели немного меняются — длительность средней сессии 714 секунд, около 12 минут — это неплохой показатель, но посмотрим на распределение."
   ]
  },
  {
   "cell_type": "code",
   "execution_count": 34,
   "metadata": {},
   "outputs": [
    {
     "data": {
      "image/png": "[encoded data removed]",
      "text/plain": [
       "<Figure size 432x288 with 1 Axes>"
      ]
     },
     "metadata": {
      "needs_background": "light"
     },
     "output_type": "display_data"
    }
   ],
   "source": [
    "#построим распределение\n",
    "visits_log['session_duration'].plot(kind='hist', bins=50, color='#7A8A7D', range=(0,6000), grid=True)\n",
    "\n",
    "plt.title('Распределние длительности средней сессии')\n",
    "plt.xlabel('Длительность сессии')\n",
    "plt.ylabel('Частотность')\n",
    "plt.show();"
   ]
  },
  {
   "cell_type": "markdown",
   "metadata": {},
   "source": [
    "Наше распределение не близко к нормальному, поэтому рассчитаем моду — значение в выборке, которое встречается чаще всего."
   ]
  },
  {
   "cell_type": "code",
   "execution_count": 35,
   "metadata": {},
   "outputs": [
    {
     "data": {
      "text/plain": [
       "0    60.0\n",
       "dtype: float64"
      ]
     },
     "execution_count": 35,
     "metadata": {},
     "output_type": "execute_result"
    }
   ],
   "source": [
    "visits_log['session_duration'].mode()"
   ]
  },
  {
   "cell_type": "markdown",
   "metadata": {},
   "source": [
    "### Комментарий\n",
    "\n",
    "Чаще всего сессия занимает 60 секунд, что для сессии на сайте мало, поэтому надо разобраться из-за чего такой показатель мог появиться. За это время пользователь может максимум пролистать главную страницу."
   ]
  },
  {
   "cell_type": "markdown",
   "metadata": {},
   "source": [
    "Оценим эти же данные, но для каждого устройства отдельно, так как часто сессия бывает слишком короткой из-за неполадок в мобильной версии сайта."
   ]
  },
  {
   "cell_type": "code",
   "execution_count": 37,
   "metadata": {},
   "outputs": [
    {
     "data": {
      "text/plain": [
       "0    60.0\n",
       "dtype: float64"
      ]
     },
     "metadata": {},
     "output_type": "display_data"
    },
    {
     "data": {
      "text/plain": [
       "0    60.0\n",
       "dtype: float64"
      ]
     },
     "metadata": {},
     "output_type": "display_data"
    }
   ],
   "source": [
    "display(visits_log.query('device == \"touch\"')['session_duration'].mode())\n",
    "display(visits_log.query('device == \"desktop\"')['session_duration'].mode())"
   ]
  },
  {
   "cell_type": "code",
   "execution_count": 38,
   "metadata": {},
   "outputs": [
    {
     "data": {
      "text/plain": [
       "479.6194066072517"
      ]
     },
     "metadata": {},
     "output_type": "display_data"
    },
    {
     "data": {
      "text/plain": [
       "703.2888596053579"
      ]
     },
     "metadata": {},
     "output_type": "display_data"
    }
   ],
   "source": [
    "display(visits_log.query('device == \"touch\"')['session_duration'].mean())\n",
    "display(visits_log.query('device == \"desktop\"')['session_duration'].mean())"
   ]
  },
  {
   "cell_type": "markdown",
   "metadata": {},
   "source": [
    "### Комментарий\n",
    "\n",
    "Чаще всего встречается значение сессии 60 на обоих устройствах, значит разницы нет. При это есть разница в средних значениях — на компьютерах сайт просматривают в среднем дольше, чем с мобильной версии."
   ]
  },
  {
   "cell_type": "markdown",
   "metadata": {},
   "source": [
    "---"
   ]
  },
  {
   "cell_type": "markdown",
   "metadata": {},
   "source": [
    "### <a id=\"step4\"> Как часто люди возвращаются?</a>"
   ]
  },
  {
   "cell_type": "markdown",
   "metadata": {},
   "source": [
    "Чтобы определить этот показатель, нам понадобится метрика Retention Rate. Найдем ее."
   ]
  },
  {
   "cell_type": "code",
   "execution_count": 39,
   "metadata": {},
   "outputs": [],
   "source": [
    "#найдем дату, первой сесиия каждого пользователя\n",
    "first_session_date = visits_log.groupby(['uid'])['start_ts'].min()\n",
    "first_session_date.name = 'first_session_date'\n",
    "\n",
    "#добавим столбец, где будет указана дата первой сесии для каждого пользователя\n",
    "visits_log = visits_log.merge(first_session_date,on='uid', how='left')"
   ]
  },
  {
   "cell_type": "code",
   "execution_count": 40,
   "metadata": {},
   "outputs": [],
   "source": [
    "#выделим из столбцов first_session_date и session_month месяцы\n",
    "visits_log['first_session_month'] = visits_log['first_session_date'].astype('datetime64[M]')\n",
    "visits_log['session_month'] = visits_log['start_ts'].astype('datetime64[M]')"
   ]
  },
  {
   "cell_type": "code",
   "execution_count": 41,
   "metadata": {},
   "outputs": [],
   "source": [
    "#найдем разницу между сессией и первой сессией\n",
    "visits_log['cohort_lifetime'] = visits_log['session_month'] - visits_log['first_session_month']\n",
    "\n",
    "#преобразуем этот тип в число месяцев, прошедших между датами.\n",
    "#узнаем сколько величин длиной в 1 месяц содержится в cohort_lifetime.\n",
    "visits_log['cohort_lifetime'] = visits_log['cohort_lifetime'] / np.timedelta64(1,'M')\n",
    "visits_log['cohort_lifetime'] = visits_log['cohort_lifetime'].round().astype('int')"
   ]
  },
  {
   "cell_type": "code",
   "execution_count": 42,
   "metadata": {},
   "outputs": [],
   "source": [
    "#сгруппируем по месяцу первой сессии и cohort_lifetime\n",
    "cohorts = visits_log.groupby(['first_session_month','cohort_lifetime']).agg({'uid':'nunique'}).reset_index()\n",
    "\n",
    "#найдем первоначальное количество пользователей в каждой когорте\n",
    "initial_users_count = cohorts[cohorts['cohort_lifetime'] == 0][['first_session_month','uid']]\n",
    "initial_users_count.columns = ['first_session_month', 'cohort_users']\n",
    "\n",
    "cohorts = cohorts.merge(initial_users_count,on='first_session_month')\n",
    "\n",
    "\n",
    "cohorts['first_session_month'] = cohorts['first_session_month'].dt.strftime('%Y-%m-%d')\n",
    "\n",
    "#найдем Retention Rate \n",
    "cohorts['retention'] = cohorts['uid']/cohorts['cohort_users']\n",
    "retention_pivot = cohorts.pivot_table(index='first_session_month',columns='cohort_lifetime',values='retention',\n",
    "                                      aggfunc='sum')"
   ]
  },
  {
   "cell_type": "code",
   "execution_count": 43,
   "metadata": {},
   "outputs": [
    {
     "data": {
      "image/png": "[encoded data removed]",
      "text/plain": [
       "<Figure size 936x648 with 2 Axes>"
      ]
     },
     "metadata": {
      "needs_background": "light"
     },
     "output_type": "display_data"
    }
   ],
   "source": [
    "#построим тепловую карту для наглядности\n",
    "plt.figure(figsize=(13, 9))\n",
    "plt.title('Cohorts: Retention Rate')\n",
    "sns.heatmap(retention_pivot, annot=True, fmt='.1%', linewidths=1, linecolor='gray', cmap= 'coolwarm', \n",
    "            vmin=0, vmax=0.09);"
   ]
  },
  {
   "cell_type": "markdown",
   "metadata": {},
   "source": [
    "### Комментарий\n",
    "\n",
    "Retention Rate показывает, сколько пользователей из когорты относительно их изначального числа вернулось в последующие периоды. В целом процент возвратившихся пользователей довольно мал — меньше 10 процентов пользователей возвращаются на сайт повторно. Возможно это потому, что сайтом пользуются для конкретных задач — заказать билеты, а стабильно к нему возвращается небольшое количество людей. \n",
    "\n",
    "Это может значить, что после первого посещения пользователь отмечает для себя, что на этом сайте можно заказать билеты, но при этом он не возвращается к нему без конкретной цели покупки. Значит пользователь редко приходит на сайт для того, чтобы просто ознакомиться с новостями и не обращается к сайту как к периодическому изданию. Возможно стоит улучшить этот показатель, так как постоянные читатели могут чаще пользоваться прямым продуктом — покупкой билетов.\n",
    "\n",
    "На нашей карте мы видим, что со временем процент снижается, но при этом показатель довольно стабильный в первые месяцы в одной когорте. \n",
    "\n",
    "Если для когорты пользователей, пришедших с 1 июня по 1 июля Retention Rate в первый месяц составляет 7,9%, то для пользователей, пришедших с 1 декабря по 1 января — уже 5,6%. Так, за 6 месяцев коэффициент удержания упал на 2,3% (это примерно 30% общего числа). Поведение пользователей меняется с каждой новой когортой. Нужно разобраться в чем могла быть причины — возможно выбраны неэффективные источники трафика или изменился интерфейс."
   ]
  },
  {
   "cell_type": "code",
   "execution_count": 44,
   "metadata": {},
   "outputs": [
    {
     "data": {
      "image/png": "[encoded data removed]",
      "text/plain": [
       "<Figure size 432x288 with 1 Axes>"
      ]
     },
     "metadata": {
      "needs_background": "light"
     },
     "output_type": "display_data"
    }
   ],
   "source": [
    "#построим распределение по первому месяцу, так как он самый показательный\n",
    "cohorts_lifetime_1 = cohorts.query('cohort_lifetime == 1').pivot_table(index='first_session_month', \n",
    "                                                                       columns='cohort_lifetime',\n",
    "                                                                       values='retention', \n",
    "                                                                       aggfunc='sum')\n",
    "cohorts_lifetime_1[1].plot(kind='bar', color='#7A8A7D', grid=True)\n",
    "\n",
    "plt.title('Распределение Retention Rate за первый месяц')\n",
    "plt.xlabel('Retention Rate')\n",
    "plt.ylabel('Когорты')\n",
    "plt.show();"
   ]
  },
  {
   "cell_type": "markdown",
   "metadata": {},
   "source": [
    "### Комментарий\n",
    "\n",
    "Нам важно отметить изменение Retention Rate в этот месяц в зависимости от когорт и оценить как изменяется Retention Rate с течением времен. Можно отметить, что чем моложе когорта — тем меньше показатель Retention Rate. Это может значить, что чем дольше когорта пользуется ресурсом, тем больше пользователей из когорты относительно их изначального числа вернулось в последующие периоды."
   ]
  },
  {
   "cell_type": "markdown",
   "metadata": {},
   "source": [
    "## Промежуточный вывод\n",
    "\n",
    "Благодаря первым двум вопросам, мы выяснили, что в среднем показатели для ресурса очень хорошие — в месяц заходят 23228 уникальных пользователей. При этом на распределении легко заметить изменения в разные месяцы: с января по июнь показатели снижаются, а в сентябре начинают расти. В летние месяцы самые низкие показатели.\n",
    "\n",
    "Длительность средней сессии 714 секунд, около 12 минут, но чаще всего встречается продолжительность 60 секунду, что мало для посещения ресурса. Нет разницы в разбивке по виду устройства. Нужно передать информацию коллегам, чтобы понять в чем могла быть причина.\n",
    "\n",
    "Метрика Retention Rate показала, что после первого посещения повторно приходят меньше 10% пользователей. При этом со временем показатели снижаются — новые когорты показывают, что повторно приходят меньше 6% пользователей. Возможно изменились источники трафика или был введен новый интерфейс.\n",
    "\n",
    "Также я бы посоветовала коллегам изучить данные и попробовать изменить стратегию, чтобы увеличить количество повторных посещений. "
   ]
  },
  {
   "cell_type": "markdown",
   "metadata": {},
   "source": [
    "----"
   ]
  },
  {
   "cell_type": "markdown",
   "metadata": {},
   "source": [
    "# <a id=\"four\"> Анализ данных о продажах</a>"
   ]
  },
  {
   "cell_type": "markdown",
   "metadata": {},
   "source": [
    "### Оглавление части\n",
    "\n",
    "1. [Когда люди начинают покупать?](#step6) </n>\n",
    "2. [Сколько раз покупают за период?](#step7)\n",
    "3. [Какой средний чек?](#step8)\n",
    "4. [Сколько денег приносят? (LTV)](#step9)"
   ]
  },
  {
   "cell_type": "markdown",
   "metadata": {},
   "source": [
    "Проанализируем данные о продажах и ответим на вопросы:\n",
    "- Когда люди начинают покупать?\n",
    "- Сколько раз покупают за период?\n",
    "- Какой средний чек?\n",
    "- Сколько денег приносят? (LTV)"
   ]
  },
  {
   "cell_type": "code",
   "execution_count": 47,
   "metadata": {},
   "outputs": [
    {
     "data": {
      "text/html": [
       "<div>\n",
       "<style scoped>\n",
       "    .dataframe tbody tr th:only-of-type {\n",
       "        vertical-align: middle;\n",
       "    }\n",
       "\n",
       "    .dataframe tbody tr th {\n",
       "        vertical-align: top;\n",
       "    }\n",
       "\n",
       "    .dataframe thead th {\n",
       "        text-align: right;\n",
       "    }\n",
       "</style>\n",
       "<table border=\"1\" class=\"dataframe\">\n",
       "  <thead>\n",
       "    <tr style=\"text-align: right;\">\n",
       "      <th></th>\n",
       "      <th>buy_ts</th>\n",
       "      <th>revenue</th>\n",
       "      <th>uid</th>\n",
       "    </tr>\n",
       "  </thead>\n",
       "  <tbody>\n",
       "    <tr>\n",
       "      <td>0</td>\n",
       "      <td>2017-06-01 00:10:00</td>\n",
       "      <td>17.00</td>\n",
       "      <td>10329302124590727494</td>\n",
       "    </tr>\n",
       "    <tr>\n",
       "      <td>1</td>\n",
       "      <td>2017-06-01 00:25:00</td>\n",
       "      <td>0.55</td>\n",
       "      <td>11627257723692907447</td>\n",
       "    </tr>\n",
       "    <tr>\n",
       "      <td>2</td>\n",
       "      <td>2017-06-01 00:27:00</td>\n",
       "      <td>0.37</td>\n",
       "      <td>17903680561304213844</td>\n",
       "    </tr>\n",
       "    <tr>\n",
       "      <td>3</td>\n",
       "      <td>2017-06-01 00:29:00</td>\n",
       "      <td>0.55</td>\n",
       "      <td>16109239769442553005</td>\n",
       "    </tr>\n",
       "    <tr>\n",
       "      <td>4</td>\n",
       "      <td>2017-06-01 07:58:00</td>\n",
       "      <td>0.37</td>\n",
       "      <td>14200605875248379450</td>\n",
       "    </tr>\n",
       "  </tbody>\n",
       "</table>\n",
       "</div>"
      ],
      "text/plain": [
       "               buy_ts  revenue                   uid\n",
       "0 2017-06-01 00:10:00    17.00  10329302124590727494\n",
       "1 2017-06-01 00:25:00     0.55  11627257723692907447\n",
       "2 2017-06-01 00:27:00     0.37  17903680561304213844\n",
       "3 2017-06-01 00:29:00     0.55  16109239769442553005\n",
       "4 2017-06-01 07:58:00     0.37  14200605875248379450"
      ]
     },
     "execution_count": 47,
     "metadata": {},
     "output_type": "execute_result"
    }
   ],
   "source": [
    "orders_log.head()"
   ]
  },
  {
   "cell_type": "markdown",
   "metadata": {},
   "source": [
    "### <a id=\"step6\"> Когда люди начинают покупать?</a>"
   ]
  },
  {
   "cell_type": "markdown",
   "metadata": {},
   "source": [
    "Чтобы найти количество дней от посещениях до покупки, мы можем объединить таблицы с визитами и покупками. Так мы получим дату первого визита и дату первой покупки. Мне кажется, что будет правильно считать именно так — сколько дней прошло между первым посещением сайта и первой покупкой. То есть, сколько дней понадобилось пользователю, чтобы после знакомства с платформой совершить первую покупку."
   ]
  },
  {
   "cell_type": "code",
   "execution_count": 48,
   "metadata": {},
   "outputs": [],
   "source": [
    "#оставим только нужные столбцы и объединим таблицы с визитами и покупками\n",
    "visits_start_session = visits_log[['uid', 'start_ts']].set_index('uid')\n",
    "orders_index_uid = orders_log[['buy_ts', 'uid']].set_index('uid')\n",
    "buyers = orders_index_uid.join(visits_start_session)\n",
    "buyers = buyers.reset_index()"
   ]
  },
  {
   "cell_type": "code",
   "execution_count": 49,
   "metadata": {},
   "outputs": [],
   "source": [
    "#найдем дату первого посещения для каждого пользователя\n",
    "min_start_session = buyers.groupby(['uid'])['start_ts'].min()\n",
    "min_start_session.name = 'min_start_session'\n",
    "buyers = buyers.merge(min_start_session,on='uid', how='left')\n",
    "\n",
    "#найдем дату первой покупки для каждого пользователя\n",
    "min_buy_session = buyers.groupby(['uid'])['buy_ts'].min()\n",
    "min_buy_session.name = 'min_buy_session'\n",
    "buyers = buyers.merge(min_buy_session,on='uid', how='left')\n",
    "\n",
    "#оставим только нужные столбцы\n",
    "buyers = buyers[['uid', 'min_start_session', 'min_buy_session']]\n",
    "\n",
    "#из-за такого объединения появились дубликаты — данные об одном пользователе, которые содержат одни и те же даты\n",
    "#удалим дубликаты: это облегчит таблицу и оставит достаточно данных для анализа\n",
    "buyers = buyers.drop_duplicates()"
   ]
  },
  {
   "cell_type": "code",
   "execution_count": 50,
   "metadata": {},
   "outputs": [
    {
     "data": {
      "text/html": [
       "<div>\n",
       "<style scoped>\n",
       "    .dataframe tbody tr th:only-of-type {\n",
       "        vertical-align: middle;\n",
       "    }\n",
       "\n",
       "    .dataframe tbody tr th {\n",
       "        vertical-align: top;\n",
       "    }\n",
       "\n",
       "    .dataframe thead th {\n",
       "        text-align: right;\n",
       "    }\n",
       "</style>\n",
       "<table border=\"1\" class=\"dataframe\">\n",
       "  <thead>\n",
       "    <tr style=\"text-align: right;\">\n",
       "      <th></th>\n",
       "      <th>uid</th>\n",
       "      <th>min_start_session</th>\n",
       "      <th>min_buy_session</th>\n",
       "      <th>time_to_buy</th>\n",
       "    </tr>\n",
       "  </thead>\n",
       "  <tbody>\n",
       "    <tr>\n",
       "      <td>0</td>\n",
       "      <td>9223707061355654945</td>\n",
       "      <td>2017-10-31 22:36:00</td>\n",
       "      <td>2017-10-31 22:56:00</td>\n",
       "      <td>0</td>\n",
       "    </tr>\n",
       "    <tr>\n",
       "      <td>2</td>\n",
       "      <td>9224005701666002943</td>\n",
       "      <td>2017-12-26 11:11:00</td>\n",
       "      <td>2017-12-26 11:15:00</td>\n",
       "      <td>0</td>\n",
       "    </tr>\n",
       "    <tr>\n",
       "      <td>6</td>\n",
       "      <td>9225406053864431006</td>\n",
       "      <td>2017-09-28 18:47:00</td>\n",
       "      <td>2017-12-28 16:29:00</td>\n",
       "      <td>91</td>\n",
       "    </tr>\n",
       "    <tr>\n",
       "      <td>9</td>\n",
       "      <td>9225479525411867039</td>\n",
       "      <td>2018-02-25 16:46:00</td>\n",
       "      <td>2018-02-25 16:54:00</td>\n",
       "      <td>0</td>\n",
       "    </tr>\n",
       "    <tr>\n",
       "      <td>10</td>\n",
       "      <td>9225594012261502815</td>\n",
       "      <td>2017-07-17 09:20:00</td>\n",
       "      <td>2017-07-17 10:39:00</td>\n",
       "      <td>0</td>\n",
       "    </tr>\n",
       "    <tr>\n",
       "      <td>14</td>\n",
       "      <td>9225769845961911267</td>\n",
       "      <td>2017-09-25 21:21:00</td>\n",
       "      <td>2017-09-25 21:26:00</td>\n",
       "      <td>0</td>\n",
       "    </tr>\n",
       "    <tr>\n",
       "      <td>15</td>\n",
       "      <td>9226362944924270642</td>\n",
       "      <td>2018-05-13 11:15:00</td>\n",
       "      <td>2018-05-13 11:17:00</td>\n",
       "      <td>0</td>\n",
       "    </tr>\n",
       "    <tr>\n",
       "      <td>16</td>\n",
       "      <td>9226489370443240988</td>\n",
       "      <td>2017-09-21 01:23:00</td>\n",
       "      <td>2017-09-21 01:23:00</td>\n",
       "      <td>0</td>\n",
       "    </tr>\n",
       "    <tr>\n",
       "      <td>18</td>\n",
       "      <td>9226701148503077660</td>\n",
       "      <td>2017-11-26 12:31:00</td>\n",
       "      <td>2017-11-26 12:37:00</td>\n",
       "      <td>0</td>\n",
       "    </tr>\n",
       "    <tr>\n",
       "      <td>19</td>\n",
       "      <td>9227412908740601561</td>\n",
       "      <td>2017-06-04 09:50:00</td>\n",
       "      <td>2017-06-04 09:50:00</td>\n",
       "      <td>0</td>\n",
       "    </tr>\n",
       "  </tbody>\n",
       "</table>\n",
       "</div>"
      ],
      "text/plain": [
       "                    uid   min_start_session     min_buy_session  time_to_buy\n",
       "0   9223707061355654945 2017-10-31 22:36:00 2017-10-31 22:56:00            0\n",
       "2   9224005701666002943 2017-12-26 11:11:00 2017-12-26 11:15:00            0\n",
       "6   9225406053864431006 2017-09-28 18:47:00 2017-12-28 16:29:00           91\n",
       "9   9225479525411867039 2018-02-25 16:46:00 2018-02-25 16:54:00            0\n",
       "10  9225594012261502815 2017-07-17 09:20:00 2017-07-17 10:39:00            0\n",
       "14  9225769845961911267 2017-09-25 21:21:00 2017-09-25 21:26:00            0\n",
       "15  9226362944924270642 2018-05-13 11:15:00 2018-05-13 11:17:00            0\n",
       "16  9226489370443240988 2017-09-21 01:23:00 2017-09-21 01:23:00            0\n",
       "18  9226701148503077660 2017-11-26 12:31:00 2017-11-26 12:37:00            0\n",
       "19  9227412908740601561 2017-06-04 09:50:00 2017-06-04 09:50:00            0"
      ]
     },
     "execution_count": 50,
     "metadata": {},
     "output_type": "execute_result"
    }
   ],
   "source": [
    "#посчитаем разницу между датой первого посещения и датой первой покупки\n",
    "buyers['time_to_buy'] = buyers['min_buy_session'] - buyers['min_start_session']\n",
    "buyers['time_to_buy'] = buyers['time_to_buy'] / np.timedelta64(1,'D')\n",
    "buyers['time_to_buy'] = buyers['time_to_buy'].round().astype('int')\n",
    "\n",
    "buyers.head(10)"
   ]
  },
  {
   "cell_type": "code",
   "execution_count": 51,
   "metadata": {},
   "outputs": [
    {
     "data": {
      "text/plain": [
       "count    36523.000000\n",
       "mean        16.893656\n",
       "std         47.075936\n",
       "min          0.000000\n",
       "25%          0.000000\n",
       "50%          0.000000\n",
       "75%          2.000000\n",
       "max        363.000000\n",
       "Name: time_to_buy, dtype: float64"
      ]
     },
     "execution_count": 51,
     "metadata": {},
     "output_type": "execute_result"
    }
   ],
   "source": [
    "#найдем среднее значение\n",
    "buyers['time_to_buy'].describe()"
   ]
  },
  {
   "cell_type": "code",
   "execution_count": 52,
   "metadata": {},
   "outputs": [
    {
     "data": {
      "image/png": "[encoded data removed]",
      "text/plain": [
       "<Figure size 432x288 with 1 Axes>"
      ]
     },
     "metadata": {
      "needs_background": "light"
     },
     "output_type": "display_data"
    }
   ],
   "source": [
    "#построим распределение\n",
    "buyers.query('time_to_buy < 100')['time_to_buy'].hist(bins=20, color='#7A8A7D')\n",
    "\n",
    "plt.title('Распределение по количеству пройденных дней')\n",
    "plt.xlabel('Частотность')\n",
    "plt.ylabel('Дни')\n",
    "plt.show();"
   ]
  },
  {
   "cell_type": "code",
   "execution_count": 53,
   "metadata": {},
   "outputs": [
    {
     "data": {
      "text/plain": [
       "0    25217\n",
       "1     1779\n",
       "2      671\n",
       "3      504\n",
       "4      351\n",
       "5      314\n",
       "6      266\n",
       "7      231\n",
       "8      220\n",
       "9      161\n",
       "Name: time_to_buy, dtype: int64"
      ]
     },
     "execution_count": 53,
     "metadata": {},
     "output_type": "execute_result"
    }
   ],
   "source": [
    "#посмотрим сколько дней занимает решение о покупке чаще всего\n",
    "buyers['time_to_buy'].value_counts().head(10)"
   ]
  },
  {
   "cell_type": "code",
   "execution_count": 54,
   "metadata": {},
   "outputs": [
    {
     "data": {
      "text/plain": [
       "29847"
      ]
     },
     "execution_count": 54,
     "metadata": {},
     "output_type": "execute_result"
    }
   ],
   "source": [
    "#сколько пользователей приняли решение о покупке меньше, чем за 10 дней\n",
    "buyers.query('time_to_buy <= 10')['time_to_buy'].count()"
   ]
  },
  {
   "cell_type": "markdown",
   "metadata": {},
   "source": [
    "### Комментарий\n",
    "\n",
    "В среднем пользователю требуется 16 дней на то, чтобы совершить покупку после первого посещения, однако если мы посмотрим, какие значение встречаются чаще всего, то мы увидим, что большинству требуется намного меньше дней на покупку. Это количество кажется слишком большим, так что проверим данные в разбивке по минутам."
   ]
  },
  {
   "cell_type": "markdown",
   "metadata": {},
   "source": [
    "### Когда люди начинают покупать (в разбивке минутам)?"
   ]
  },
  {
   "cell_type": "markdown",
   "metadata": {},
   "source": [
    "В разбивке по минутам можно найти необычные закономерности и ошибки, так что проверим результаты. Секунды во времени сессий не указаны, так что разбивать срок на секунды нет смысла. Посчитаем в разбивке по минутам."
   ]
  },
  {
   "cell_type": "code",
   "execution_count": 55,
   "metadata": {},
   "outputs": [
    {
     "data": {
      "text/plain": [
       "count     36523.000000\n",
       "mean      24340.175834\n",
       "std       67784.774690\n",
       "min           0.000000\n",
       "25%           4.000000\n",
       "50%          16.000000\n",
       "75%        2897.000000\n",
       "max      523144.000000\n",
       "Name: time_to_buy_minute, dtype: float64"
      ]
     },
     "execution_count": 55,
     "metadata": {},
     "output_type": "execute_result"
    }
   ],
   "source": [
    "#посчитаем разницу между датой первого посещения и датой первой покупки в секундах\n",
    "buyers['time_to_buy_minute'] = buyers['min_buy_session'] - buyers['min_start_session']\n",
    "buyers['time_to_buy_minute'] = buyers['time_to_buy_minute'] / np.timedelta64(1,'m')\n",
    "buyers['time_to_buy_minute'] = buyers['time_to_buy_minute'].round().astype('int')\n",
    "\n",
    "#buyers[buyers['time_to_buy_minute'] == 0]   #2455\n",
    "#buyers['time_to_buy_minute'].mode()         #1 минута\n",
    "#buyers[buyers['time_to_buy_minute'] == 1]  #2656 значений\n",
    "buyers['time_to_buy_minute'].describe()"
   ]
  },
  {
   "cell_type": "code",
   "execution_count": 56,
   "metadata": {},
   "outputs": [
    {
     "data": {
      "text/plain": [
       "1    2656\n",
       "0    2455\n",
       "2    2098\n",
       "3    1685\n",
       "4    1460\n",
       "5    1204\n",
       "6    1077\n",
       "7     970\n",
       "8     793\n",
       "9     742\n",
       "Name: time_to_buy_minute, dtype: int64"
      ]
     },
     "execution_count": 56,
     "metadata": {},
     "output_type": "execute_result"
    }
   ],
   "source": [
    "#слева указано время от посещения до покупки в секундах, справа количество сессий\n",
    "buyers['time_to_buy_minute'].value_counts().head(10)"
   ]
  },
  {
   "cell_type": "code",
   "execution_count": 57,
   "metadata": {},
   "outputs": [
    {
     "data": {
      "text/plain": [
       "2656"
      ]
     },
     "execution_count": 57,
     "metadata": {},
     "output_type": "execute_result"
    }
   ],
   "source": [
    "#сколько сессий заняло одну минуту\n",
    "buyers.query('time_to_buy_minute == 1')['min_start_session'].count()"
   ]
  },
  {
   "cell_type": "code",
   "execution_count": 58,
   "metadata": {},
   "outputs": [
    {
     "data": {
      "text/plain": [
       "10156"
      ]
     },
     "execution_count": 58,
     "metadata": {},
     "output_type": "execute_result"
    }
   ],
   "source": [
    "#сколько сессий заняло больше одних суток\n",
    "buyers.query('time_to_buy_minute > 1440')['min_start_session'].count()"
   ]
  },
  {
   "cell_type": "code",
   "execution_count": 59,
   "metadata": {},
   "outputs": [
    {
     "data": {
      "image/png": "[encoded data removed]",
      "text/plain": [
       "<Figure size 720x360 with 1 Axes>"
      ]
     },
     "metadata": {
      "needs_background": "light"
     },
     "output_type": "display_data"
    }
   ],
   "source": [
    "buyers['time_to_buy_minute'].hist(bins=50, range=(0, 1500), figsize=(10,5), color='#7A8A7D')\n",
    "\n",
    "plt.title('Распределение количества минут между первым посещением и первой покупкой (до 1500 минут)')\n",
    "plt.xlabel('Минуты')\n",
    "plt.ylabel('Количество сессия')\n",
    "plt.show();"
   ]
  },
  {
   "cell_type": "code",
   "execution_count": 60,
   "metadata": {},
   "outputs": [
    {
     "data": {
      "image/png": "[encoded data removed]",
      "text/plain": [
       "<Figure size 720x360 with 1 Axes>"
      ]
     },
     "metadata": {
      "needs_background": "light"
     },
     "output_type": "display_data"
    }
   ],
   "source": [
    "buyers['time_to_buy_minute'].hist(bins=30, range=(0, 300), figsize=(10,5), color='#7A8A7D')\n",
    "\n",
    "plt.title('Распределение количества минут между первым посещением и первой покупкой (до 300 минут)')\n",
    "plt.xlabel('Минуты')\n",
    "plt.ylabel('Количество сессия')\n",
    "plt.show;"
   ]
  },
  {
   "cell_type": "markdown",
   "metadata": {},
   "source": [
    "### Комментарий\n",
    "\n",
    "\n",
    "2455 покупок были совершены в первую же секунду посещения — это не очень похоже на правдивый результат, так что возможно это просто ошибка в данных.\n",
    "\n",
    "Также мы нашли моду — значение, которое встречается чаще всего и это 60 секунд. Можно ли совершить покупку за 60 секунд? Спорно, но возможно. Такой показатель есть, и если это не ошибка, то запомним это.\n",
    "\n",
    "По частоте время распределено так:\n",
    "1. 2656 покупок были совершены за одну минуту (если эти данные достоверны)\n",
    "2. 2098 покупок были совершены за две минуты от первого посещения\n",
    "3. 1685 покупок были совершены за минуты минуты от первого посещения\n",
    "\n",
    "На распределение видно, что большая часть покупой была совершена в диапазоне от 0 до 300 минут, при чем пиковые значения от 0 до 40 минут. Пик от 0 до 20 минут.\n",
    "\n",
    "- 22582 покупки из 36523 были совершены в течение часа, а это больше 60% покупок.\n",
    "- 10156 покупок из 36523 были совершены больше, чем через 24 часа, а это больше 27% покупок.\n",
    "- максимальное время — 8719 часов\n",
    "\n",
    "Значит, 60% пользователей покупают в течение часа, при этом 24593 значений расположены в диапазоне от 0 до 300 минут. Значит большинство совершает покупку после первого посещения не позже, чем через 6 часов."
   ]
  },
  {
   "cell_type": "markdown",
   "metadata": {},
   "source": [
    "---"
   ]
  },
  {
   "cell_type": "markdown",
   "metadata": {},
   "source": [
    "### <a id=\"step7\"> Сколько раз покупают за период?</a>"
   ]
  },
  {
   "cell_type": "markdown",
   "metadata": {},
   "source": [
    "Чтобы найти этот показатель, сделаем несколько сводных таблиц. Попробуем узнать сколько всего было покупок за каждый месяц, найдем средний показаетль, а затем посчитаем сколько покупок совершил каждый пользователь в месяц — так мы узнаем сколько в среднем один пользователь совершает покупок в месяц."
   ]
  },
  {
   "cell_type": "markdown",
   "metadata": {},
   "source": [
    "### Общее количество покупок за месяц"
   ]
  },
  {
   "cell_type": "code",
   "execution_count": 61,
   "metadata": {},
   "outputs": [
    {
     "data": {
      "text/html": [
       "<div>\n",
       "<style scoped>\n",
       "    .dataframe tbody tr th:only-of-type {\n",
       "        vertical-align: middle;\n",
       "    }\n",
       "\n",
       "    .dataframe tbody tr th {\n",
       "        vertical-align: top;\n",
       "    }\n",
       "\n",
       "    .dataframe thead th {\n",
       "        text-align: right;\n",
       "    }\n",
       "</style>\n",
       "<table border=\"1\" class=\"dataframe\">\n",
       "  <thead>\n",
       "    <tr style=\"text-align: right;\">\n",
       "      <th></th>\n",
       "      <th></th>\n",
       "      <th>buy_ts</th>\n",
       "    </tr>\n",
       "    <tr>\n",
       "      <th>year_buy</th>\n",
       "      <th>month_buy</th>\n",
       "      <th></th>\n",
       "    </tr>\n",
       "  </thead>\n",
       "  <tbody>\n",
       "    <tr>\n",
       "      <td rowspan=\"7\" valign=\"top\">2017</td>\n",
       "      <td>6</td>\n",
       "      <td>2354</td>\n",
       "    </tr>\n",
       "    <tr>\n",
       "      <td>7</td>\n",
       "      <td>2363</td>\n",
       "    </tr>\n",
       "    <tr>\n",
       "      <td>8</td>\n",
       "      <td>1807</td>\n",
       "    </tr>\n",
       "    <tr>\n",
       "      <td>9</td>\n",
       "      <td>3387</td>\n",
       "    </tr>\n",
       "    <tr>\n",
       "      <td>10</td>\n",
       "      <td>5679</td>\n",
       "    </tr>\n",
       "    <tr>\n",
       "      <td>11</td>\n",
       "      <td>5659</td>\n",
       "    </tr>\n",
       "    <tr>\n",
       "      <td>12</td>\n",
       "      <td>6218</td>\n",
       "    </tr>\n",
       "    <tr>\n",
       "      <td rowspan=\"6\" valign=\"top\">2018</td>\n",
       "      <td>1</td>\n",
       "      <td>4721</td>\n",
       "    </tr>\n",
       "    <tr>\n",
       "      <td>2</td>\n",
       "      <td>5281</td>\n",
       "    </tr>\n",
       "    <tr>\n",
       "      <td>3</td>\n",
       "      <td>5326</td>\n",
       "    </tr>\n",
       "    <tr>\n",
       "      <td>4</td>\n",
       "      <td>3273</td>\n",
       "    </tr>\n",
       "    <tr>\n",
       "      <td>5</td>\n",
       "      <td>4346</td>\n",
       "    </tr>\n",
       "    <tr>\n",
       "      <td>6</td>\n",
       "      <td>1</td>\n",
       "    </tr>\n",
       "  </tbody>\n",
       "</table>\n",
       "</div>"
      ],
      "text/plain": [
       "                    buy_ts\n",
       "year_buy month_buy        \n",
       "2017     6            2354\n",
       "         7            2363\n",
       "         8            1807\n",
       "         9            3387\n",
       "         10           5679\n",
       "         11           5659\n",
       "         12           6218\n",
       "2018     1            4721\n",
       "         2            5281\n",
       "         3            5326\n",
       "         4            3273\n",
       "         5            4346\n",
       "         6               1"
      ]
     },
     "execution_count": 61,
     "metadata": {},
     "output_type": "execute_result"
    }
   ],
   "source": [
    "#сколько было покупок в каждый месяц\n",
    "\n",
    "#получим два новых стобца, где сохраним месяц и год покупки\n",
    "orders_log['year_buy'] = orders_log['buy_ts'].dt.year\n",
    "orders_log['month_buy'] = orders_log['buy_ts'].dt.month\n",
    "\n",
    "#сгруппируем по году и месяцу, чтобы узнать сколько было совершено покупок в каждый месяц\n",
    "mean_orders = orders_log.pivot_table(index=['year_buy', 'month_buy'], values='buy_ts', aggfunc='count')\n",
    "mean_orders"
   ]
  },
  {
   "cell_type": "code",
   "execution_count": 62,
   "metadata": {},
   "outputs": [
    {
     "data": {
      "image/png": "[encoded data removed]",
      "text/plain": [
       "<Figure size 720x360 with 1 Axes>"
      ]
     },
     "metadata": {
      "needs_background": "light"
     },
     "output_type": "display_data"
    }
   ],
   "source": [
    "#построим распределение\n",
    "mean_orders.plot(figsize=(10, 5))\n",
    "\n",
    "plt.title('Распределение количества покупок за месяц')\n",
    "plt.xlabel('Месяц')\n",
    "plt.ylabel('Количество покупок')\n",
    "plt.show;"
   ]
  },
  {
   "cell_type": "markdown",
   "metadata": {},
   "source": [
    "Интересно, что в августе 2017 начался резкий подъем — можно узнать что произошло в этот момент, чтобы понять что так увеличило продажи. Заметный подъем с ноября до декабря, затем падение с декабря до января. Сильное падение также есть с марта по апрель. Возможно есть закономерности из-за сезонных причин — праздники, теплое время года."
   ]
  },
  {
   "cell_type": "code",
   "execution_count": 63,
   "metadata": {},
   "outputs": [
    {
     "data": {
      "text/plain": [
       "3878.076923076923"
      ]
     },
     "execution_count": 63,
     "metadata": {},
     "output_type": "execute_result"
    }
   ],
   "source": [
    "#в среднем происходит 3878 покупок в месяц\n",
    "mean_orders['buy_ts'].mean()"
   ]
  },
  {
   "cell_type": "markdown",
   "metadata": {},
   "source": [
    "### Среднее количество покупок за месяц одним пользователем"
   ]
  },
  {
   "cell_type": "code",
   "execution_count": 64,
   "metadata": {},
   "outputs": [
    {
     "data": {
      "text/html": [
       "<div>\n",
       "<style scoped>\n",
       "    .dataframe tbody tr th:only-of-type {\n",
       "        vertical-align: middle;\n",
       "    }\n",
       "\n",
       "    .dataframe tbody tr th {\n",
       "        vertical-align: top;\n",
       "    }\n",
       "\n",
       "    .dataframe thead th {\n",
       "        text-align: right;\n",
       "    }\n",
       "</style>\n",
       "<table border=\"1\" class=\"dataframe\">\n",
       "  <thead>\n",
       "    <tr style=\"text-align: right;\">\n",
       "      <th></th>\n",
       "      <th></th>\n",
       "      <th>buy_ts</th>\n",
       "    </tr>\n",
       "    <tr>\n",
       "      <th>year_buy</th>\n",
       "      <th>month_buy</th>\n",
       "      <th></th>\n",
       "    </tr>\n",
       "  </thead>\n",
       "  <tbody>\n",
       "    <tr>\n",
       "      <td rowspan=\"7\" valign=\"top\">2017</td>\n",
       "      <td>6</td>\n",
       "      <td>1.163618</td>\n",
       "    </tr>\n",
       "    <tr>\n",
       "      <td>7</td>\n",
       "      <td>1.191028</td>\n",
       "    </tr>\n",
       "    <tr>\n",
       "      <td>8</td>\n",
       "      <td>1.227582</td>\n",
       "    </tr>\n",
       "    <tr>\n",
       "      <td>9</td>\n",
       "      <td>1.231636</td>\n",
       "    </tr>\n",
       "    <tr>\n",
       "      <td>10</td>\n",
       "      <td>1.214759</td>\n",
       "    </tr>\n",
       "    <tr>\n",
       "      <td>11</td>\n",
       "      <td>1.244557</td>\n",
       "    </tr>\n",
       "    <tr>\n",
       "      <td>12</td>\n",
       "      <td>1.258195</td>\n",
       "    </tr>\n",
       "    <tr>\n",
       "      <td rowspan=\"6\" valign=\"top\">2018</td>\n",
       "      <td>1</td>\n",
       "      <td>1.211134</td>\n",
       "    </tr>\n",
       "    <tr>\n",
       "      <td>2</td>\n",
       "      <td>1.240254</td>\n",
       "    </tr>\n",
       "    <tr>\n",
       "      <td>3</td>\n",
       "      <td>1.273858</td>\n",
       "    </tr>\n",
       "    <tr>\n",
       "      <td>4</td>\n",
       "      <td>1.192784</td>\n",
       "    </tr>\n",
       "    <tr>\n",
       "      <td>5</td>\n",
       "      <td>1.226298</td>\n",
       "    </tr>\n",
       "    <tr>\n",
       "      <td>6</td>\n",
       "      <td>1.000000</td>\n",
       "    </tr>\n",
       "  </tbody>\n",
       "</table>\n",
       "</div>"
      ],
      "text/plain": [
       "                      buy_ts\n",
       "year_buy month_buy          \n",
       "2017     6          1.163618\n",
       "         7          1.191028\n",
       "         8          1.227582\n",
       "         9          1.231636\n",
       "         10         1.214759\n",
       "         11         1.244557\n",
       "         12         1.258195\n",
       "2018     1          1.211134\n",
       "         2          1.240254\n",
       "         3          1.273858\n",
       "         4          1.192784\n",
       "         5          1.226298\n",
       "         6          1.000000"
      ]
     },
     "execution_count": 64,
     "metadata": {},
     "output_type": "execute_result"
    }
   ],
   "source": [
    "#сколько в среднем покупает один пользователь за месяц\n",
    "\n",
    "#сгруппируем данные по году, месяцу и id, чтобы получить количество покупок каждого пользователя в отдельный месяц\n",
    "mean_user_buy = orders_log.pivot_table(index=['year_buy', 'month_buy', 'uid'], values='buy_ts', aggfunc='count')\n",
    "mean_user_buy = mean_user_buy.reset_index('uid')\n",
    "#mean_user_buy['buy_ts'].mode() - чаще всего один пользователь совершает одну покупку в месяц\n",
    "\n",
    "#полученную таблицу сгруппируем только по году и месяцу, чтобы найти сколько в среднем совершает покупок один пользователь в месяц\n",
    "mean_user_buy = mean_user_buy.pivot_table(index=['year_buy', 'month_buy'], values='buy_ts', aggfunc='mean')\n",
    "mean_user_buy"
   ]
  },
  {
   "cell_type": "markdown",
   "metadata": {},
   "source": [
    "В среднем один покупатель совершает одну покупку в месяц."
   ]
  },
  {
   "cell_type": "markdown",
   "metadata": {},
   "source": [
    "### Какой процент людей совершает больше одной покупки"
   ]
  },
  {
   "cell_type": "code",
   "execution_count": 65,
   "metadata": {},
   "outputs": [
    {
     "data": {
      "text/plain": [
       "buy_ts    41019\n",
       "dtype: int64"
      ]
     },
     "execution_count": 65,
     "metadata": {},
     "output_type": "execute_result"
    }
   ],
   "source": [
    "#найдем общее количество уникальных покупателей\n",
    "buyers_count = orders_log.pivot_table(index=['year_buy', 'month_buy', 'uid'], values='buy_ts', aggfunc='count')\n",
    "buyers_count.count()"
   ]
  },
  {
   "cell_type": "code",
   "execution_count": 66,
   "metadata": {
    "scrolled": false
   },
   "outputs": [
    {
     "data": {
      "text/plain": [
       "1     36303\n",
       "2      3511\n",
       "3       629\n",
       "4       190\n",
       "5        92\n",
       "6        48\n",
       "7        35\n",
       "8        30\n",
       "11       24\n",
       "9        23\n",
       "10       16\n",
       "13       12\n",
       "12       12\n",
       "17       11\n",
       "14       11\n",
       "18        8\n",
       "23        7\n",
       "27        5\n",
       "20        4\n",
       "16        4\n",
       "22        4\n",
       "25        4\n",
       "28        4\n",
       "29        4\n",
       "35        3\n",
       "19        3\n",
       "31        2\n",
       "30        2\n",
       "21        2\n",
       "42        2\n",
       "40        1\n",
       "51        1\n",
       "26        1\n",
       "33        1\n",
       "24        1\n",
       "34        1\n",
       "49        1\n",
       "67        1\n",
       "36        1\n",
       "15        1\n",
       "37        1\n",
       "45        1\n",
       "39        1\n",
       "32        1\n",
       "Name: buy_ts, dtype: int64"
      ]
     },
     "execution_count": 66,
     "metadata": {},
     "output_type": "execute_result"
    }
   ],
   "source": [
    "#сколько человек совершил разное количество покупок\n",
    "#В столбце слева — количество покупок, в столбце справа — количество людей, которые совершили столько покупок\n",
    "buyers_count['buy_ts'].value_counts()"
   ]
  },
  {
   "cell_type": "markdown",
   "metadata": {},
   "source": [
    "Всего за год было 41019 уникальный покупателей. Из них 36303 совершли всего одну покупку — это 88% от общего числа. Значит ли это, что процент повторных покупок очень мал? "
   ]
  },
  {
   "cell_type": "markdown",
   "metadata": {},
   "source": [
    "### Комментарий\n",
    "\n",
    "В среднем в месяц совершается 3878 покупок. При этом, есть пиковые значение в с октября по декабрь, и с февраля по март.\n",
    "\n",
    "При подсчете по пользователям, мы выяснили, что чаще всего и в среднем один пользователь совершает одну покупку в месяц.\n",
    "\n",
    "- 88% покупателей совершили всего одну покупку за весь период анализа\n",
    "- 8% вернулись за второй покупкой\n",
    "- значит только около 3-4% пользователей совершили больше двух покупок за год"
   ]
  },
  {
   "cell_type": "markdown",
   "metadata": {},
   "source": [
    "---"
   ]
  },
  {
   "cell_type": "markdown",
   "metadata": {},
   "source": [
    "### <a id=\"step8\"> Какой средний чек?</a>"
   ]
  },
  {
   "cell_type": "markdown",
   "metadata": {},
   "source": [
    "Посчитаем средний чек — сумму покупок, деленную на число покупок. Это поможет нам понять как он изменяется с течением времени, он увеличивается или уменьшается.\n",
    "\n",
    "Для этого: \n",
    "- рассчитаем средний чек покупателей в каждый месяц\n",
    "- найдем порядковый месяц относительно месяца первой покупки"
   ]
  },
  {
   "cell_type": "code",
   "execution_count": 67,
   "metadata": {},
   "outputs": [
    {
     "data": {
      "text/html": [
       "<div>\n",
       "<style scoped>\n",
       "    .dataframe tbody tr th:only-of-type {\n",
       "        vertical-align: middle;\n",
       "    }\n",
       "\n",
       "    .dataframe tbody tr th {\n",
       "        vertical-align: top;\n",
       "    }\n",
       "\n",
       "    .dataframe thead th {\n",
       "        text-align: right;\n",
       "    }\n",
       "</style>\n",
       "<table border=\"1\" class=\"dataframe\">\n",
       "  <thead>\n",
       "    <tr style=\"text-align: right;\">\n",
       "      <th></th>\n",
       "      <th>buy_ts</th>\n",
       "      <th>revenue</th>\n",
       "      <th>uid</th>\n",
       "      <th>year_buy</th>\n",
       "      <th>month_buy</th>\n",
       "    </tr>\n",
       "  </thead>\n",
       "  <tbody>\n",
       "    <tr>\n",
       "      <td>0</td>\n",
       "      <td>2017-06-01 00:10:00</td>\n",
       "      <td>17.00</td>\n",
       "      <td>10329302124590727494</td>\n",
       "      <td>2017</td>\n",
       "      <td>6</td>\n",
       "    </tr>\n",
       "    <tr>\n",
       "      <td>1</td>\n",
       "      <td>2017-06-01 00:25:00</td>\n",
       "      <td>0.55</td>\n",
       "      <td>11627257723692907447</td>\n",
       "      <td>2017</td>\n",
       "      <td>6</td>\n",
       "    </tr>\n",
       "    <tr>\n",
       "      <td>2</td>\n",
       "      <td>2017-06-01 00:27:00</td>\n",
       "      <td>0.37</td>\n",
       "      <td>17903680561304213844</td>\n",
       "      <td>2017</td>\n",
       "      <td>6</td>\n",
       "    </tr>\n",
       "    <tr>\n",
       "      <td>3</td>\n",
       "      <td>2017-06-01 00:29:00</td>\n",
       "      <td>0.55</td>\n",
       "      <td>16109239769442553005</td>\n",
       "      <td>2017</td>\n",
       "      <td>6</td>\n",
       "    </tr>\n",
       "    <tr>\n",
       "      <td>4</td>\n",
       "      <td>2017-06-01 07:58:00</td>\n",
       "      <td>0.37</td>\n",
       "      <td>14200605875248379450</td>\n",
       "      <td>2017</td>\n",
       "      <td>6</td>\n",
       "    </tr>\n",
       "  </tbody>\n",
       "</table>\n",
       "</div>"
      ],
      "text/plain": [
       "               buy_ts  revenue                   uid  year_buy  month_buy\n",
       "0 2017-06-01 00:10:00    17.00  10329302124590727494      2017          6\n",
       "1 2017-06-01 00:25:00     0.55  11627257723692907447      2017          6\n",
       "2 2017-06-01 00:27:00     0.37  17903680561304213844      2017          6\n",
       "3 2017-06-01 00:29:00     0.55  16109239769442553005      2017          6\n",
       "4 2017-06-01 07:58:00     0.37  14200605875248379450      2017          6"
      ]
     },
     "execution_count": 67,
     "metadata": {},
     "output_type": "execute_result"
    }
   ],
   "source": [
    "orders_log.head()"
   ]
  },
  {
   "cell_type": "code",
   "execution_count": 68,
   "metadata": {},
   "outputs": [
    {
     "data": {
      "text/html": [
       "<div>\n",
       "<style scoped>\n",
       "    .dataframe tbody tr th:only-of-type {\n",
       "        vertical-align: middle;\n",
       "    }\n",
       "\n",
       "    .dataframe tbody tr th {\n",
       "        vertical-align: top;\n",
       "    }\n",
       "\n",
       "    .dataframe thead th {\n",
       "        text-align: right;\n",
       "    }\n",
       "</style>\n",
       "<table border=\"1\" class=\"dataframe\">\n",
       "  <thead>\n",
       "    <tr style=\"text-align: right;\">\n",
       "      <th></th>\n",
       "      <th></th>\n",
       "      <th>revenue</th>\n",
       "      <th>uid</th>\n",
       "      <th>revenue_per_user</th>\n",
       "    </tr>\n",
       "    <tr>\n",
       "      <th>first_order_month</th>\n",
       "      <th>order_month</th>\n",
       "      <th></th>\n",
       "      <th></th>\n",
       "      <th></th>\n",
       "    </tr>\n",
       "  </thead>\n",
       "  <tbody>\n",
       "    <tr>\n",
       "      <td rowspan=\"10\" valign=\"top\">2017-06-01</td>\n",
       "      <td>2017-06-01</td>\n",
       "      <td>9557.49</td>\n",
       "      <td>2354</td>\n",
       "      <td>4.060106</td>\n",
       "    </tr>\n",
       "    <tr>\n",
       "      <td>2017-07-01</td>\n",
       "      <td>981.82</td>\n",
       "      <td>177</td>\n",
       "      <td>5.547006</td>\n",
       "    </tr>\n",
       "    <tr>\n",
       "      <td>2017-08-01</td>\n",
       "      <td>885.34</td>\n",
       "      <td>174</td>\n",
       "      <td>5.088161</td>\n",
       "    </tr>\n",
       "    <tr>\n",
       "      <td>2017-09-01</td>\n",
       "      <td>1931.30</td>\n",
       "      <td>226</td>\n",
       "      <td>8.545575</td>\n",
       "    </tr>\n",
       "    <tr>\n",
       "      <td>2017-10-01</td>\n",
       "      <td>2068.58</td>\n",
       "      <td>292</td>\n",
       "      <td>7.084178</td>\n",
       "    </tr>\n",
       "    <tr>\n",
       "      <td>2017-11-01</td>\n",
       "      <td>1487.92</td>\n",
       "      <td>218</td>\n",
       "      <td>6.825321</td>\n",
       "    </tr>\n",
       "    <tr>\n",
       "      <td>2017-12-01</td>\n",
       "      <td>1922.74</td>\n",
       "      <td>276</td>\n",
       "      <td>6.966449</td>\n",
       "    </tr>\n",
       "    <tr>\n",
       "      <td>2018-01-01</td>\n",
       "      <td>1176.56</td>\n",
       "      <td>174</td>\n",
       "      <td>6.761839</td>\n",
       "    </tr>\n",
       "    <tr>\n",
       "      <td>2018-02-01</td>\n",
       "      <td>1119.15</td>\n",
       "      <td>212</td>\n",
       "      <td>5.279009</td>\n",
       "    </tr>\n",
       "    <tr>\n",
       "      <td>2018-03-01</td>\n",
       "      <td>1225.51</td>\n",
       "      <td>153</td>\n",
       "      <td>8.009869</td>\n",
       "    </tr>\n",
       "  </tbody>\n",
       "</table>\n",
       "</div>"
      ],
      "text/plain": [
       "                               revenue   uid  revenue_per_user\n",
       "first_order_month order_month                                 \n",
       "2017-06-01        2017-06-01   9557.49  2354          4.060106\n",
       "                  2017-07-01    981.82   177          5.547006\n",
       "                  2017-08-01    885.34   174          5.088161\n",
       "                  2017-09-01   1931.30   226          8.545575\n",
       "                  2017-10-01   2068.58   292          7.084178\n",
       "                  2017-11-01   1487.92   218          6.825321\n",
       "                  2017-12-01   1922.74   276          6.966449\n",
       "                  2018-01-01   1176.56   174          6.761839\n",
       "                  2018-02-01   1119.15   212          5.279009\n",
       "                  2018-03-01   1225.51   153          8.009869"
      ]
     },
     "execution_count": 68,
     "metadata": {},
     "output_type": "execute_result"
    }
   ],
   "source": [
    "#сгруппируем данные по когорте first_order_month и месяцу совершения заказа order_month\n",
    "\n",
    "#найдем дату первой покупки\n",
    "first_order_date_by_customers = orders_log.groupby('uid')['buy_ts'].min()\n",
    "first_order_date_by_customers.name = 'first_order_date'\n",
    "orders_log = orders_log.join(first_order_date_by_customers,on='uid')\n",
    "\n",
    "#выделим из столбцов first_order_date_by_customers и order_month месяцы\n",
    "orders_log['first_order_month'] = orders_log['first_order_date'].astype('datetime64[M]')\n",
    "orders_log['order_month'] = orders_log['buy_ts'].astype('datetime64[M]')\n",
    "\n",
    "#сгруппируем по месяцу\n",
    "orders_grouped_by_cohorts = orders_log.groupby(['first_order_month','order_month']).agg({'revenue':'sum','uid':'count'})\n",
    "\n",
    "#найдём средний чек покупателя revenue_per_user — разделим показатель revenue на uid:\n",
    "orders_grouped_by_cohorts['revenue_per_user'] = orders_grouped_by_cohorts['revenue'] / orders_grouped_by_cohorts['uid']\n",
    "orders_grouped_by_cohorts.head(10)\n"
   ]
  },
  {
   "cell_type": "code",
   "execution_count": 69,
   "metadata": {},
   "outputs": [
    {
     "data": {
      "image/png": "[encoded data removed]",
      "text/plain": [
       "<Figure size 432x288 with 1 Axes>"
      ]
     },
     "metadata": {
      "needs_background": "light"
     },
     "output_type": "display_data"
    }
   ],
   "source": [
    "#построим распределние среднего чека\n",
    "orders_grouped_by_cohorts['revenue_per_user'].plot(kind='hist', bins=25, color='#7A8A7D', grid=True)\n",
    "\n",
    "plt.title('Распределение среднего чека')\n",
    "plt.xlabel('Средний чек')\n",
    "plt.ylabel('Частотность')\n",
    "\n",
    "plt.show();"
   ]
  },
  {
   "cell_type": "code",
   "execution_count": 70,
   "metadata": {},
   "outputs": [
    {
     "data": {
      "text/plain": [
       "count    78.000000\n",
       "mean      6.944802\n",
       "std       4.117255\n",
       "min       2.711282\n",
       "25%       4.390674\n",
       "50%       5.623390\n",
       "75%       7.332243\n",
       "max      26.084358\n",
       "Name: revenue_per_user, dtype: float64"
      ]
     },
     "execution_count": 70,
     "metadata": {},
     "output_type": "execute_result"
    }
   ],
   "source": [
    "#оставим только значения меньше 30, так как там сосредоточено основное распределние\n",
    "#так мы получим более точное среднее значение\n",
    "orders_grouped_by_cohorts[orders_grouped_by_cohorts['revenue_per_user'] < 30]['revenue_per_user'].describe()"
   ]
  },
  {
   "cell_type": "markdown",
   "metadata": {},
   "source": [
    "### Комментарий\n",
    "\n",
    "Большинство значение находится до 30, и есть небольшой выброс на отметке 60. Среднее значение равно 6, минимальное 2.7. Построим сводную таблицу, чтобы посмотреть изменения среднего чека."
   ]
  },
  {
   "cell_type": "code",
   "execution_count": 71,
   "metadata": {},
   "outputs": [],
   "source": [
    "#построим сводную таблицу изменения среднего чека в когортах по месяцу совершения покупки и оценим, как изменяется средний чек с течением времени:\n",
    "orders_grouped_by_cohorts_pivot = orders_grouped_by_cohorts.pivot_table(index='first_order_month',\n",
    "                                      columns='order_month',\n",
    "                                      values='revenue_per_user',\n",
    "                                      aggfunc='mean')"
   ]
  },
  {
   "cell_type": "code",
   "execution_count": 72,
   "metadata": {},
   "outputs": [
    {
     "data": {
      "image/png": "[encoded data removed]",
      "text/plain": [
       "<Figure size 936x648 with 2 Axes>"
      ]
     },
     "metadata": {
      "needs_background": "light"
     },
     "output_type": "display_data"
    }
   ],
   "source": [
    "#построим тепловую карту для наглядности\n",
    "plt.figure(figsize=(13, 9))\n",
    "plt.title('Средний чек')\n",
    "sns.heatmap(orders_grouped_by_cohorts_pivot, annot=True, fmt='.1f', linewidths=1, linecolor='gray', cmap= 'coolwarm', vmin=3, vmax=20);"
   ]
  },
  {
   "cell_type": "markdown",
   "metadata": {},
   "source": [
    "### Комментарий\n",
    "\n",
    "Большинство значение находится до 30, и есть небольшой выброс на отметке 60. Среднее значение равно 6, минимальное 2.7. Построим сводную табоицу, чтобы посмотреть изменения среднего чека.\n",
    "\n",
    "Интересно, что если смотреть изменения среднего чека по месяцам, то во второй месяц средний чек всегда увеличивался. При этом почти в каждый следующий месяц средний чек больше, чем первый, кроме одного случая, где в апреле средний чек упал ниже, но мне кажется это скорее исключение. Можно проверить это, и посмотреть что произошло в этом месяце с сайтом — возможно были какие-то нововведения, которые снизили продажи в этом месяце."
   ]
  },
  {
   "cell_type": "markdown",
   "metadata": {},
   "source": [
    "---"
   ]
  },
  {
   "cell_type": "markdown",
   "metadata": {},
   "source": [
    "### <a id=\"step9\"> Сколько денег приносят? (LTV)</a>"
   ]
  },
  {
   "cell_type": "markdown",
   "metadata": {},
   "source": [
    "Важно учитывать не только одну покупку, но и смотреть остается ли покупатель с нами, поэтому важно смотреть на повторные покупки. В этом нам поможет **LTV** (lifetime value) — «пожизненная» ценность клиента, а именно итоговая сумма, которую компания получает в среднем от одного клиента со всех покупок. Найдем этот показатель.\n",
    "\n",
    "Чтобы понять хороший ли у нас показатль LTV, нам надо найти CAC (customer acquisition cost) — стоимость привлечения клиента. Экономика одного покупателя сходится, если LTV больше CAC."
   ]
  },
  {
   "cell_type": "code",
   "execution_count": 73,
   "metadata": {},
   "outputs": [],
   "source": [
    "#выделим месяцы в таблице с расходами\n",
    "costs['dt'] = pd.to_datetime(costs['dt'])\n",
    "costs['month'] = costs['dt'].astype('datetime64[M]')"
   ]
  },
  {
   "cell_type": "markdown",
   "metadata": {},
   "source": [
    "Месяц первой покупки каждого покупателя — orders_log ['first_order_month']"
   ]
  },
  {
   "cell_type": "code",
   "execution_count": 74,
   "metadata": {},
   "outputs": [],
   "source": [
    "#посчитаем количество новых покупателей за каждый месяц:\n",
    "cohort_sizes = orders_log.groupby('first_order_month').agg({'uid': 'nunique'}).reset_index()\n",
    "cohort_sizes.columns = ['first_order_month', 'n_buyers']"
   ]
  },
  {
   "cell_type": "code",
   "execution_count": 75,
   "metadata": {},
   "outputs": [],
   "source": [
    "#сгруппируем таблицу заказов по месяцу первой покупки и месяцу каждого заказа, затем сложим выручку\n",
    "cohorts = orders_log.groupby(['first_order_month','order_month']).agg({'revenue': 'sum'}).reset_index()"
   ]
  },
  {
   "cell_type": "markdown",
   "metadata": {},
   "source": [
    "Теперь мы знаем какую выручку принесла каждая когорта."
   ]
  },
  {
   "cell_type": "code",
   "execution_count": 76,
   "metadata": {},
   "outputs": [],
   "source": [
    "#добавим в таблицу cohorts данные о том, сколько людей первый раз совершили покупку в каждый месяц\n",
    "report = cohorts.merge(cohort_sizes, on='first_order_month')"
   ]
  },
  {
   "cell_type": "code",
   "execution_count": 77,
   "metadata": {},
   "outputs": [],
   "source": [
    "#нам не указали какая маржинальность, так что можем предположить, что она составляет 100%\n",
    "margin_rate = 1\n",
    "\n",
    "#найдем валовую прибыль, возраст когорты\n",
    "report['gp'] = report['revenue'] * margin_rate\n",
    "report['age'] = (report['order_month'] - report['first_order_month']) / np.timedelta64(1, 'M')\n",
    "report['age'] = report['age'].round().astype('int')\n",
    "\n",
    "#найдем LTV\n",
    "report['ltv'] = report['gp'] / report['n_buyers']\n",
    "\n",
    "#визуализируем когорты в виде сводной таблицы\n",
    "result = report.pivot_table(\n",
    "    index='first_order_month', \n",
    "    columns='age', \n",
    "    values='ltv', \n",
    "    aggfunc='mean').round()\n",
    "\n",
    "#найдем сумму расходов на маркетинг за каждый месяц и CAC каждой когорты\n",
    "monthly_costs = costs.groupby('month').sum()\n",
    "report_new = report.merge(monthly_costs, left_on='first_order_month', right_on='month')\n",
    "report_new['cac'] = report_new['costs'] / report_new['n_buyers']\n",
    "\n",
    "#создадим сводную таблицу с отчётом, в значениях — накопительный средний ROMI\n",
    "report_new['romi'] = report_new['ltv'] / report_new['cac']\n",
    "output = report_new.pivot_table(\n",
    "    index='first_order_month', \n",
    "    columns='age', \n",
    "    values='romi', \n",
    "    aggfunc='mean')\n",
    "\n",
    "output = output.cumsum(axis=1).round(2)\n",
    "\n",
    "report_new['first_order_month'] = report_new['first_order_month'].dt.strftime('%Y-%m-%d')\n",
    "\n",
    "\n",
    "#посчитаем LTV средней когорты\n",
    "final_result = report_new.pivot_table(index='first_order_month', columns='age', values='ltv', aggfunc='mean')\n",
    "\n",
    "m6_cum_ltv = final_result.cumsum(axis=1).mean(axis=0)[5]"
   ]
  },
  {
   "cell_type": "markdown",
   "metadata": {},
   "source": [
    "Средний LTV за 6 месяцев после первой покупки: 7.96. Примерно такую сумму компания получает в среднем от одного клиента со всех покупок."
   ]
  },
  {
   "cell_type": "code",
   "execution_count": 78,
   "metadata": {},
   "outputs": [
    {
     "data": {
      "image/png": "[encoded data removed]",
      "text/plain": [
       "<Figure size 936x648 with 2 Axes>"
      ]
     },
     "metadata": {
      "needs_background": "light"
     },
     "output_type": "display_data"
    }
   ],
   "source": [
    "#сделаем метрику накопительной с помощью метода cumsum\n",
    "final_result = final_result.cumsum(axis=1).round(2)\n",
    "\n",
    "#построим тепловую карту для метрики LTV\n",
    "plt.figure(figsize=(13, 9))\n",
    "plt.title('Метрика LTV')\n",
    "sns.heatmap(final_result, annot=True, fmt='.1f', linewidths=1, linecolor='gray', \n",
    "            cmap= 'coolwarm', vmin=4, vmax=10);"
   ]
  },
  {
   "cell_type": "markdown",
   "metadata": {},
   "source": [
    "### Комментарий\n",
    "\n",
    "LTV за первый месяц в более молодых когортах снижается, но в целом такие показатели были и у первой когорты. Также можно отметить, что показатели более молодых когорт медленннее растут с каждым месяцем. Первая когорта в первый месяц имела показатель 4.7, а на шестой месяц уже 8.4. Тогда как например, когорта «2017-11-01» в первый месяц принесла 5.2, а в шестой месяц 6.3. Показатель за первый месяц выше, но с течением времени рост более медленный.\n",
    "\n",
    "У когорты «2017-09-01» произошел резкий рост на четвертый месяц. Последние показатели одни из самых высоких — стоит проверить почему такое могло произойти.\n"
   ]
  },
  {
   "cell_type": "markdown",
   "metadata": {},
   "source": [
    "## Промежуточный вывод"
   ]
  },
  {
   "cell_type": "markdown",
   "metadata": {},
   "source": [
    "По продажам у нас было четыре вопроса:\n",
    "\n",
    "### **Когда люди начинают покупать?**\n",
    "\n",
    "По частоте время распределено так:\n",
    "1. 2656 покупок были совершены за одну минуту (если эти данные достоверны)\n",
    "2. 2098 покупок были совершены за две минуты от первого посещения\n",
    "3. 1685 покупок были совершены за минуты минуты от первого посещения\n",
    "\n",
    "На распределение видно, что большая часть покупой была совершена в диапазоне от 0 до 300 минут, при чем пиковые значения от 0 до 40 минут. Пик от 0 до 20 минут.\n",
    "\n",
    "- 22582 покупки из 36523 были совершены в течение часа, а это больше 60% покупок.\n",
    "- 10156 покупок из 36523 были совершены больше, чем через 24 часа, а это больше 27% покупок.\n",
    "- максимальное время — 8719 часов\n",
    "\n",
    "### **Сколько раз покупают за период?**\n",
    "\n",
    "В среднем в месяц совершается 3878 покупок. Чаще всего и в среднем один пользователь совершает одну покупку в месяц.\n",
    "\n",
    "88% покупателей совершили всего одну покупку за весь период анализа\n",
    "8% вернулись за второй покупкой\n",
    "значит только около 3-4% пользователей совершили больше двух покупок за год\n",
    "\n",
    "### **Какой средний чек?**\n",
    "\n",
    "Большинство значение находится до 30, и есть небольшой выброс на отметке 60. Среднее значение равно 6, минимальное 2.7. Построим сводную табоицу, чтобы посмотреть изменения среднего чека.\n",
    "\n",
    "### **Сколько денег приносят? (LTV)**\n",
    "\n",
    "Средний LTV за 6 месяцев после первой покупки: 7.96. Примерно такую сумму компания получает в среднем от одного клиента со всех покупок.\n",
    "\n",
    "LTV за первый месяц в более молодых когортах снижается, но в целом такие показатели были и у первой когорты. Также можно отметить, что показатели более молодых когорт медленннее растут с каждым месяцем. Первая когорта в первый месяц имела показатель 4.7, а на шестой месяц уже 8.4. Тогда как например, когорта «2017-11-01» в первый месяц принесла 5.2, а в шестой месяц 6.3. Показатель за первый месяц выше, но с течением времени рост более медленный.\n",
    "\n",
    "У когорты «2017-09-01» произошел резкий рост на четвертый месяц. Последние показатели одни из самых высоких — стоит проверить почему такое могло произойти."
   ]
  },
  {
   "cell_type": "markdown",
   "metadata": {},
   "source": [
    "---"
   ]
  },
  {
   "cell_type": "markdown",
   "metadata": {},
   "source": [
    "# <a id=\"five\"> Анализ данных о затратах на маркетинг</a>"
   ]
  },
  {
   "cell_type": "markdown",
   "metadata": {},
   "source": [
    "### Оглавление части\n",
    "\n",
    "1. [Сколько денег потратили? Всего / на каждый источник / по времени](#step10) </n>\n",
    "2. [Сколько стоило привлечение одного покупателя из каждого источника?](#step11)\n",
    "3. [На сколько окупились расходы? (ROI)](#step12)"
   ]
  },
  {
   "cell_type": "markdown",
   "metadata": {},
   "source": [
    "Проанализируем данные о затратах на маркетинг и ответим на вопросы:\n",
    "- Сколько денег потратили? Всего / на каждый источник / по времени\n",
    "- Сколько стоило привлечение одного покупателя из каждого источника?\n",
    "- На сколько окупились расходы? (ROI)"
   ]
  },
  {
   "cell_type": "markdown",
   "metadata": {},
   "source": [
    "### <a id=\"step10\"> Сколько денег потратили? Всего / на каждый источник / по времени</a>"
   ]
  },
  {
   "cell_type": "markdown",
   "metadata": {},
   "source": [
    "У нас есть таблица, где указано количество затрат на маркетинг для разных рекламных источников (они указаны в столбце source_id). В таблице их всего семь. \n",
    "\n",
    "Сначала найдем сколько денег было потрачено в целом, а после в разбивке по источника и по времени."
   ]
  },
  {
   "cell_type": "code",
   "execution_count": 79,
   "metadata": {},
   "outputs": [
    {
     "data": {
      "text/html": [
       "<div>\n",
       "<style scoped>\n",
       "    .dataframe tbody tr th:only-of-type {\n",
       "        vertical-align: middle;\n",
       "    }\n",
       "\n",
       "    .dataframe tbody tr th {\n",
       "        vertical-align: top;\n",
       "    }\n",
       "\n",
       "    .dataframe thead th {\n",
       "        text-align: right;\n",
       "    }\n",
       "</style>\n",
       "<table border=\"1\" class=\"dataframe\">\n",
       "  <thead>\n",
       "    <tr style=\"text-align: right;\">\n",
       "      <th></th>\n",
       "      <th>source_id</th>\n",
       "      <th>dt</th>\n",
       "      <th>costs</th>\n",
       "      <th>month</th>\n",
       "    </tr>\n",
       "  </thead>\n",
       "  <tbody>\n",
       "    <tr>\n",
       "      <td>0</td>\n",
       "      <td>1</td>\n",
       "      <td>2017-06-01</td>\n",
       "      <td>75.20</td>\n",
       "      <td>2017-06-01</td>\n",
       "    </tr>\n",
       "    <tr>\n",
       "      <td>1</td>\n",
       "      <td>1</td>\n",
       "      <td>2017-06-02</td>\n",
       "      <td>62.25</td>\n",
       "      <td>2017-06-01</td>\n",
       "    </tr>\n",
       "    <tr>\n",
       "      <td>2</td>\n",
       "      <td>1</td>\n",
       "      <td>2017-06-03</td>\n",
       "      <td>36.53</td>\n",
       "      <td>2017-06-01</td>\n",
       "    </tr>\n",
       "    <tr>\n",
       "      <td>3</td>\n",
       "      <td>1</td>\n",
       "      <td>2017-06-04</td>\n",
       "      <td>55.00</td>\n",
       "      <td>2017-06-01</td>\n",
       "    </tr>\n",
       "    <tr>\n",
       "      <td>4</td>\n",
       "      <td>1</td>\n",
       "      <td>2017-06-05</td>\n",
       "      <td>57.08</td>\n",
       "      <td>2017-06-01</td>\n",
       "    </tr>\n",
       "  </tbody>\n",
       "</table>\n",
       "</div>"
      ],
      "text/plain": [
       "   source_id         dt  costs      month\n",
       "0          1 2017-06-01  75.20 2017-06-01\n",
       "1          1 2017-06-02  62.25 2017-06-01\n",
       "2          1 2017-06-03  36.53 2017-06-01\n",
       "3          1 2017-06-04  55.00 2017-06-01\n",
       "4          1 2017-06-05  57.08 2017-06-01"
      ]
     },
     "execution_count": 79,
     "metadata": {},
     "output_type": "execute_result"
    }
   ],
   "source": [
    "costs.head()"
   ]
  },
  {
   "cell_type": "code",
   "execution_count": 80,
   "metadata": {},
   "outputs": [
    {
     "data": {
      "text/plain": [
       "329131.62"
      ]
     },
     "execution_count": 80,
     "metadata": {},
     "output_type": "execute_result"
    }
   ],
   "source": [
    "costs['costs'].sum()"
   ]
  },
  {
   "cell_type": "markdown",
   "metadata": {},
   "source": [
    "Всего с июня 2017 по конец мая 2018 года было потрачено на маркетинг: **329131**\n",
    "\n",
    "### Потрачено денег в разбивке по источникам"
   ]
  },
  {
   "cell_type": "code",
   "execution_count": 81,
   "metadata": {},
   "outputs": [
    {
     "data": {
      "text/html": [
       "<div>\n",
       "<style scoped>\n",
       "    .dataframe tbody tr th:only-of-type {\n",
       "        vertical-align: middle;\n",
       "    }\n",
       "\n",
       "    .dataframe tbody tr th {\n",
       "        vertical-align: top;\n",
       "    }\n",
       "\n",
       "    .dataframe thead th {\n",
       "        text-align: right;\n",
       "    }\n",
       "</style>\n",
       "<table border=\"1\" class=\"dataframe\">\n",
       "  <thead>\n",
       "    <tr style=\"text-align: right;\">\n",
       "      <th></th>\n",
       "      <th>costs</th>\n",
       "    </tr>\n",
       "    <tr>\n",
       "      <th>source_id</th>\n",
       "      <th></th>\n",
       "    </tr>\n",
       "  </thead>\n",
       "  <tbody>\n",
       "    <tr>\n",
       "      <td>3</td>\n",
       "      <td>141321.63</td>\n",
       "    </tr>\n",
       "    <tr>\n",
       "      <td>4</td>\n",
       "      <td>61073.60</td>\n",
       "    </tr>\n",
       "    <tr>\n",
       "      <td>5</td>\n",
       "      <td>51757.10</td>\n",
       "    </tr>\n",
       "    <tr>\n",
       "      <td>2</td>\n",
       "      <td>42806.04</td>\n",
       "    </tr>\n",
       "    <tr>\n",
       "      <td>1</td>\n",
       "      <td>20833.27</td>\n",
       "    </tr>\n",
       "    <tr>\n",
       "      <td>10</td>\n",
       "      <td>5822.49</td>\n",
       "    </tr>\n",
       "    <tr>\n",
       "      <td>9</td>\n",
       "      <td>5517.49</td>\n",
       "    </tr>\n",
       "  </tbody>\n",
       "</table>\n",
       "</div>"
      ],
      "text/plain": [
       "               costs\n",
       "source_id           \n",
       "3          141321.63\n",
       "4           61073.60\n",
       "5           51757.10\n",
       "2           42806.04\n",
       "1           20833.27\n",
       "10           5822.49\n",
       "9            5517.49"
      ]
     },
     "metadata": {},
     "output_type": "display_data"
    },
    {
     "data": {
      "image/png": "[encoded data removed]",
      "text/plain": [
       "<Figure size 432x288 with 1 Axes>"
      ]
     },
     "metadata": {
      "needs_background": "light"
     },
     "output_type": "display_data"
    }
   ],
   "source": [
    "#сделаем сводную таблицу по источникам\n",
    "source_costs = costs.pivot_table(index='source_id', values='costs', aggfunc='sum')\n",
    "\n",
    "#отсортируем данные и построим график\n",
    "display(source_costs.sort_values(by='costs', ascending=False))\n",
    "(source_costs\n",
    " .sort_values(by='costs', ascending=False)\n",
    " .plot(kind='bar', color='#7A8A7D')\n",
    ")\n",
    " \n",
    "plt.title('Потрачено денег в разбивке по источникам')\n",
    "plt.xlabel('Сумма денег')\n",
    "plt.ylabel('Источники')\n",
    "plt.show();"
   ]
  },
  {
   "cell_type": "markdown",
   "metadata": {},
   "source": [
    "Наиболее дорогой истоник номер 3, после идут источники 4 и 5. Посмотрим сколько человек пришло из каждого источника. В таблице visits есть столбец, где указан идентификатор рекламного источника, из которого пришел пользователь."
   ]
  },
  {
   "cell_type": "code",
   "execution_count": 82,
   "metadata": {},
   "outputs": [
    {
     "data": {
      "text/html": [
       "<div>\n",
       "<style scoped>\n",
       "    .dataframe tbody tr th:only-of-type {\n",
       "        vertical-align: middle;\n",
       "    }\n",
       "\n",
       "    .dataframe tbody tr th {\n",
       "        vertical-align: top;\n",
       "    }\n",
       "\n",
       "    .dataframe thead th {\n",
       "        text-align: right;\n",
       "    }\n",
       "</style>\n",
       "<table border=\"1\" class=\"dataframe\">\n",
       "  <thead>\n",
       "    <tr style=\"text-align: right;\">\n",
       "      <th></th>\n",
       "      <th>device</th>\n",
       "      <th>source_id</th>\n",
       "      <th>session_duration</th>\n",
       "      <th>end_ts</th>\n",
       "      <th>start_ts</th>\n",
       "      <th>uid</th>\n",
       "      <th>first_session_date</th>\n",
       "      <th>first_session_month</th>\n",
       "      <th>session_month</th>\n",
       "    </tr>\n",
       "  </thead>\n",
       "  <tbody>\n",
       "    <tr>\n",
       "      <td>0</td>\n",
       "      <td>touch</td>\n",
       "      <td>4</td>\n",
       "      <td>1080.0</td>\n",
       "      <td>2017-12-20 17:38:00</td>\n",
       "      <td>2017-12-20 17:20:00</td>\n",
       "      <td>16879256277535980062</td>\n",
       "      <td>2017-12-20 17:20:00</td>\n",
       "      <td>2017-12-01</td>\n",
       "      <td>2017-12-01</td>\n",
       "    </tr>\n",
       "    <tr>\n",
       "      <td>1</td>\n",
       "      <td>desktop</td>\n",
       "      <td>2</td>\n",
       "      <td>1680.0</td>\n",
       "      <td>2018-02-19 17:21:00</td>\n",
       "      <td>2018-02-19 16:53:00</td>\n",
       "      <td>104060357244891740</td>\n",
       "      <td>2018-02-19 16:53:00</td>\n",
       "      <td>2018-02-01</td>\n",
       "      <td>2018-02-01</td>\n",
       "    </tr>\n",
       "    <tr>\n",
       "      <td>2</td>\n",
       "      <td>touch</td>\n",
       "      <td>5</td>\n",
       "      <td>0.0</td>\n",
       "      <td>2017-07-01 01:54:00</td>\n",
       "      <td>2017-07-01 01:54:00</td>\n",
       "      <td>7459035603376831527</td>\n",
       "      <td>2017-07-01 01:54:00</td>\n",
       "      <td>2017-07-01</td>\n",
       "      <td>2017-07-01</td>\n",
       "    </tr>\n",
       "    <tr>\n",
       "      <td>3</td>\n",
       "      <td>desktop</td>\n",
       "      <td>9</td>\n",
       "      <td>1440.0</td>\n",
       "      <td>2018-05-20 11:23:00</td>\n",
       "      <td>2018-05-20 10:59:00</td>\n",
       "      <td>16174680259334210214</td>\n",
       "      <td>2018-03-09 20:05:00</td>\n",
       "      <td>2018-03-01</td>\n",
       "      <td>2018-05-01</td>\n",
       "    </tr>\n",
       "    <tr>\n",
       "      <td>4</td>\n",
       "      <td>desktop</td>\n",
       "      <td>3</td>\n",
       "      <td>0.0</td>\n",
       "      <td>2017-12-27 14:06:00</td>\n",
       "      <td>2017-12-27 14:06:00</td>\n",
       "      <td>9969694820036681168</td>\n",
       "      <td>2017-12-27 14:06:00</td>\n",
       "      <td>2017-12-01</td>\n",
       "      <td>2017-12-01</td>\n",
       "    </tr>\n",
       "  </tbody>\n",
       "</table>\n",
       "</div>"
      ],
      "text/plain": [
       "    device  source_id  session_duration              end_ts  \\\n",
       "0    touch          4            1080.0 2017-12-20 17:38:00   \n",
       "1  desktop          2            1680.0 2018-02-19 17:21:00   \n",
       "2    touch          5               0.0 2017-07-01 01:54:00   \n",
       "3  desktop          9            1440.0 2018-05-20 11:23:00   \n",
       "4  desktop          3               0.0 2017-12-27 14:06:00   \n",
       "\n",
       "             start_ts                   uid  first_session_date  \\\n",
       "0 2017-12-20 17:20:00  16879256277535980062 2017-12-20 17:20:00   \n",
       "1 2018-02-19 16:53:00    104060357244891740 2018-02-19 16:53:00   \n",
       "2 2017-07-01 01:54:00   7459035603376831527 2017-07-01 01:54:00   \n",
       "3 2018-05-20 10:59:00  16174680259334210214 2018-03-09 20:05:00   \n",
       "4 2017-12-27 14:06:00   9969694820036681168 2017-12-27 14:06:00   \n",
       "\n",
       "  first_session_month session_month  \n",
       "0          2017-12-01    2017-12-01  \n",
       "1          2018-02-01    2018-02-01  \n",
       "2          2017-07-01    2017-07-01  \n",
       "3          2018-03-01    2018-05-01  \n",
       "4          2017-12-01    2017-12-01  "
      ]
     },
     "execution_count": 82,
     "metadata": {},
     "output_type": "execute_result"
    }
   ],
   "source": [
    "#оставим только нужные столбцы\n",
    "visits_sourch = visits_log[['device', 'source_id','session_duration', 'end_ts', 'start_ts', 'uid', \n",
    "       'first_session_date', 'first_session_month', 'session_month']]\n",
    "\n",
    "visits_sourch.head()"
   ]
  },
  {
   "cell_type": "code",
   "execution_count": 83,
   "metadata": {},
   "outputs": [
    {
     "data": {
      "text/html": [
       "<div>\n",
       "<style scoped>\n",
       "    .dataframe tbody tr th:only-of-type {\n",
       "        vertical-align: middle;\n",
       "    }\n",
       "\n",
       "    .dataframe tbody tr th {\n",
       "        vertical-align: top;\n",
       "    }\n",
       "\n",
       "    .dataframe thead th {\n",
       "        text-align: right;\n",
       "    }\n",
       "</style>\n",
       "<table border=\"1\" class=\"dataframe\">\n",
       "  <thead>\n",
       "    <tr style=\"text-align: right;\">\n",
       "      <th></th>\n",
       "      <th>start_ts</th>\n",
       "    </tr>\n",
       "    <tr>\n",
       "      <th>source_id</th>\n",
       "      <th></th>\n",
       "    </tr>\n",
       "  </thead>\n",
       "  <tbody>\n",
       "    <tr>\n",
       "      <td>4</td>\n",
       "      <td>101794</td>\n",
       "    </tr>\n",
       "    <tr>\n",
       "      <td>3</td>\n",
       "      <td>85610</td>\n",
       "    </tr>\n",
       "    <tr>\n",
       "      <td>5</td>\n",
       "      <td>66905</td>\n",
       "    </tr>\n",
       "    <tr>\n",
       "      <td>2</td>\n",
       "      <td>47626</td>\n",
       "    </tr>\n",
       "    <tr>\n",
       "      <td>1</td>\n",
       "      <td>34121</td>\n",
       "    </tr>\n",
       "    <tr>\n",
       "      <td>9</td>\n",
       "      <td>13277</td>\n",
       "    </tr>\n",
       "    <tr>\n",
       "      <td>10</td>\n",
       "      <td>10025</td>\n",
       "    </tr>\n",
       "    <tr>\n",
       "      <td>7</td>\n",
       "      <td>36</td>\n",
       "    </tr>\n",
       "    <tr>\n",
       "      <td>6</td>\n",
       "      <td>6</td>\n",
       "    </tr>\n",
       "  </tbody>\n",
       "</table>\n",
       "</div>"
      ],
      "text/plain": [
       "           start_ts\n",
       "source_id          \n",
       "4            101794\n",
       "3             85610\n",
       "5             66905\n",
       "2             47626\n",
       "1             34121\n",
       "9             13277\n",
       "10            10025\n",
       "7                36\n",
       "6                 6"
      ]
     },
     "metadata": {},
     "output_type": "display_data"
    },
    {
     "data": {
      "image/png": "[encoded data removed]",
      "text/plain": [
       "<Figure size 432x288 with 1 Axes>"
      ]
     },
     "metadata": {
      "needs_background": "light"
     },
     "output_type": "display_data"
    }
   ],
   "source": [
    "#посчитаем сколько было сессий для каждого источника\n",
    "visits_sourch_counts = visits_sourch.pivot_table(index='source_id', values='start_ts', aggfunc='count')\n",
    "\n",
    "display(visits_sourch_counts.sort_values(by='start_ts', ascending=False))\n",
    "(visits_sourch_counts\n",
    " .sort_values(by='start_ts', ascending=False)\n",
    " .plot(kind='bar', color='#7A8A7D')\n",
    ")\n",
    " \n",
    "plt.title('Количество сессий для каждого источника')\n",
    "plt.xlabel('Количество сессий')\n",
    "plt.ylabel('Источники')\n",
    "plt.show();\n"
   ]
  },
  {
   "cell_type": "markdown",
   "metadata": {},
   "source": [
    "### Комментарий\n",
    "\n",
    "Уже можно отметить, что источники под номером 3 и 4 приводят больше всего пользователей. \n",
    "\n",
    "Также в таблице есть два источника, в которые маркетинг не вкладывает деньги, но оттуда тоже приходят небольшое количество пользователей. Возможно нужно обратить на них внимание или повысить органический трафик без вложений.\n",
    "\n",
    "По остальным источникам показатели закономерны относительно вкладываемых денег."
   ]
  },
  {
   "cell_type": "markdown",
   "metadata": {},
   "source": [
    "### Показатели в разбивке по устройствам"
   ]
  },
  {
   "cell_type": "markdown",
   "metadata": {},
   "source": [
    "Посмотрим отличаются ли показатели на разных устройствах — возможно какие-то источники лучше работают для компьютера, а какие-то для мобильных устройств."
   ]
  },
  {
   "cell_type": "code",
   "execution_count": 84,
   "metadata": {},
   "outputs": [],
   "source": [
    "#разделим данные по устройству\n",
    "visits_sourch_desktop = visits_sourch.query('device == \"desktop\"').pivot_table(index='source_id', \n",
    "                                                                        values='start_ts', aggfunc='count')\n",
    "\n",
    "visits_sourch_touch = visits_sourch.query('device == \"touch\"').pivot_table(index='source_id', \n",
    "                                                                        values='start_ts', aggfunc='count')"
   ]
  },
  {
   "cell_type": "code",
   "execution_count": 85,
   "metadata": {
    "scrolled": true
   },
   "outputs": [
    {
     "data": {
      "text/html": [
       "<div>\n",
       "<style scoped>\n",
       "    .dataframe tbody tr th:only-of-type {\n",
       "        vertical-align: middle;\n",
       "    }\n",
       "\n",
       "    .dataframe tbody tr th {\n",
       "        vertical-align: top;\n",
       "    }\n",
       "\n",
       "    .dataframe thead th {\n",
       "        text-align: right;\n",
       "    }\n",
       "</style>\n",
       "<table border=\"1\" class=\"dataframe\">\n",
       "  <thead>\n",
       "    <tr style=\"text-align: right;\">\n",
       "      <th></th>\n",
       "      <th>start_ts_desktop</th>\n",
       "      <th>start_ts_touch</th>\n",
       "      <th>procent</th>\n",
       "    </tr>\n",
       "    <tr>\n",
       "      <th>source_id</th>\n",
       "      <th></th>\n",
       "      <th></th>\n",
       "      <th></th>\n",
       "    </tr>\n",
       "  </thead>\n",
       "  <tbody>\n",
       "    <tr>\n",
       "      <td>4</td>\n",
       "      <td>67640</td>\n",
       "      <td>34154</td>\n",
       "      <td>50.493791</td>\n",
       "    </tr>\n",
       "    <tr>\n",
       "      <td>3</td>\n",
       "      <td>65777</td>\n",
       "      <td>19833</td>\n",
       "      <td>30.151877</td>\n",
       "    </tr>\n",
       "    <tr>\n",
       "      <td>5</td>\n",
       "      <td>50069</td>\n",
       "      <td>16836</td>\n",
       "      <td>33.625597</td>\n",
       "    </tr>\n",
       "    <tr>\n",
       "      <td>2</td>\n",
       "      <td>35661</td>\n",
       "      <td>11965</td>\n",
       "      <td>33.552060</td>\n",
       "    </tr>\n",
       "    <tr>\n",
       "      <td>1</td>\n",
       "      <td>25901</td>\n",
       "      <td>8220</td>\n",
       "      <td>31.736226</td>\n",
       "    </tr>\n",
       "    <tr>\n",
       "      <td>9</td>\n",
       "      <td>10119</td>\n",
       "      <td>3158</td>\n",
       "      <td>31.208617</td>\n",
       "    </tr>\n",
       "    <tr>\n",
       "      <td>10</td>\n",
       "      <td>7367</td>\n",
       "      <td>2658</td>\n",
       "      <td>36.079815</td>\n",
       "    </tr>\n",
       "    <tr>\n",
       "      <td>7</td>\n",
       "      <td>28</td>\n",
       "      <td>8</td>\n",
       "      <td>28.571429</td>\n",
       "    </tr>\n",
       "    <tr>\n",
       "      <td>6</td>\n",
       "      <td>5</td>\n",
       "      <td>1</td>\n",
       "      <td>20.000000</td>\n",
       "    </tr>\n",
       "  </tbody>\n",
       "</table>\n",
       "</div>"
      ],
      "text/plain": [
       "           start_ts_desktop  start_ts_touch    procent\n",
       "source_id                                             \n",
       "4                     67640           34154  50.493791\n",
       "3                     65777           19833  30.151877\n",
       "5                     50069           16836  33.625597\n",
       "2                     35661           11965  33.552060\n",
       "1                     25901            8220  31.736226\n",
       "9                     10119            3158  31.208617\n",
       "10                     7367            2658  36.079815\n",
       "7                        28               8  28.571429\n",
       "6                         5               1  20.000000"
      ]
     },
     "execution_count": 85,
     "metadata": {},
     "output_type": "execute_result"
    }
   ],
   "source": [
    "#объединим две таблицы для наглядности\n",
    "visits_sourc_by_devices = pd.concat([visits_sourch_desktop, visits_sourch_touch], axis=1)\n",
    "visits_sourc_by_devices.columns = ['start_ts_desktop', 'start_ts_touch']\n",
    "\n",
    "visits_sourc_by_devices = visits_sourc_by_devices.sort_values(by='start_ts_desktop', ascending=False)\n",
    "\n",
    "visits_sourc_by_devices['procent'] = (visits_sourc_by_devices['start_ts_touch']\n",
    "                                      /visits_sourc_by_devices['start_ts_desktop'])*100\n",
    "\n",
    "visits_sourc_by_devices"
   ]
  },
  {
   "cell_type": "markdown",
   "metadata": {},
   "source": [
    "### Комментарий\n",
    "\n",
    "Разницы между источниками мы не обнаружили, но заметили, что с компьютера ресурсом пользуются почти в два раза больше. Справа появился столбцец, где в процентах указано отношение одного источника к другому по посещениям. Например, по 4 источнику на компьютерах посещений на 50 процентов больше, а по источнику 3 на 30 процентов больше."
   ]
  },
  {
   "cell_type": "markdown",
   "metadata": {},
   "source": [
    "---"
   ]
  },
  {
   "cell_type": "markdown",
   "metadata": {},
   "source": [
    "### Потрачено денег в разбивке по месяцам"
   ]
  },
  {
   "cell_type": "markdown",
   "metadata": {},
   "source": [
    "Сначала посмотрим сколько было потрачено в каждый месяц, а потом в разбивке по источникам."
   ]
  },
  {
   "cell_type": "code",
   "execution_count": 86,
   "metadata": {
    "scrolled": false
   },
   "outputs": [
    {
     "data": {
      "text/html": [
       "<div>\n",
       "<style scoped>\n",
       "    .dataframe tbody tr th:only-of-type {\n",
       "        vertical-align: middle;\n",
       "    }\n",
       "\n",
       "    .dataframe tbody tr th {\n",
       "        vertical-align: top;\n",
       "    }\n",
       "\n",
       "    .dataframe thead th {\n",
       "        text-align: right;\n",
       "    }\n",
       "</style>\n",
       "<table border=\"1\" class=\"dataframe\">\n",
       "  <thead>\n",
       "    <tr style=\"text-align: right;\">\n",
       "      <th></th>\n",
       "      <th>costs</th>\n",
       "    </tr>\n",
       "    <tr>\n",
       "      <th>month</th>\n",
       "      <th></th>\n",
       "    </tr>\n",
       "  </thead>\n",
       "  <tbody>\n",
       "    <tr>\n",
       "      <td>2017-06-01</td>\n",
       "      <td>18015.00</td>\n",
       "    </tr>\n",
       "    <tr>\n",
       "      <td>2017-07-01</td>\n",
       "      <td>18240.59</td>\n",
       "    </tr>\n",
       "    <tr>\n",
       "      <td>2017-08-01</td>\n",
       "      <td>14790.54</td>\n",
       "    </tr>\n",
       "    <tr>\n",
       "      <td>2017-09-01</td>\n",
       "      <td>24368.91</td>\n",
       "    </tr>\n",
       "    <tr>\n",
       "      <td>2017-10-01</td>\n",
       "      <td>36322.88</td>\n",
       "    </tr>\n",
       "    <tr>\n",
       "      <td>2017-11-01</td>\n",
       "      <td>37907.88</td>\n",
       "    </tr>\n",
       "    <tr>\n",
       "      <td>2017-12-01</td>\n",
       "      <td>38315.35</td>\n",
       "    </tr>\n",
       "    <tr>\n",
       "      <td>2018-01-01</td>\n",
       "      <td>33518.52</td>\n",
       "    </tr>\n",
       "    <tr>\n",
       "      <td>2018-02-01</td>\n",
       "      <td>32723.03</td>\n",
       "    </tr>\n",
       "    <tr>\n",
       "      <td>2018-03-01</td>\n",
       "      <td>30415.27</td>\n",
       "    </tr>\n",
       "    <tr>\n",
       "      <td>2018-04-01</td>\n",
       "      <td>22289.38</td>\n",
       "    </tr>\n",
       "    <tr>\n",
       "      <td>2018-05-01</td>\n",
       "      <td>22224.27</td>\n",
       "    </tr>\n",
       "  </tbody>\n",
       "</table>\n",
       "</div>"
      ],
      "text/plain": [
       "               costs\n",
       "month               \n",
       "2017-06-01  18015.00\n",
       "2017-07-01  18240.59\n",
       "2017-08-01  14790.54\n",
       "2017-09-01  24368.91\n",
       "2017-10-01  36322.88\n",
       "2017-11-01  37907.88\n",
       "2017-12-01  38315.35\n",
       "2018-01-01  33518.52\n",
       "2018-02-01  32723.03\n",
       "2018-03-01  30415.27\n",
       "2018-04-01  22289.38\n",
       "2018-05-01  22224.27"
      ]
     },
     "metadata": {},
     "output_type": "display_data"
    },
    {
     "data": {
      "image/png": "[encoded data removed]",
      "text/plain": [
       "<Figure size 720x360 with 1 Axes>"
      ]
     },
     "metadata": {
      "needs_background": "light"
     },
     "output_type": "display_data"
    }
   ],
   "source": [
    "#сократим даты на графике\n",
    "costs['month'] = costs['month'].dt.strftime('%Y-%m-%d')\n",
    "\n",
    "costs_month = costs.pivot_table(index='month', values='costs', aggfunc='sum')\n",
    "\n",
    "display(costs_month)\n",
    "costs_month.plot(kind='bar', color='#7A8A7D', grid=True, figsize=(10, 5))\n",
    "\n",
    "plt.title('Количество денег потраченных в каждый месяц')\n",
    "plt.xlabel('Количество денег')\n",
    "plt.ylabel('Месяц')\n",
    "plt.show();"
   ]
  },
  {
   "cell_type": "markdown",
   "metadata": {},
   "source": [
    "### Комментарий\n",
    "\n",
    "Затраты заметно начали расти с сентября 2019 года и снижаться в январе 2018. Возможно затраты были увеличины в связи с введением нового продукта или чтобы поднять посещаемость. Проверим это по визитам."
   ]
  },
  {
   "cell_type": "code",
   "execution_count": 87,
   "metadata": {},
   "outputs": [
    {
     "name": "stderr",
     "output_type": "stream",
     "text": [
      "/opt/conda/lib/python3.7/site-packages/ipykernel_launcher.py:2: SettingWithCopyWarning: \n",
      "A value is trying to be set on a copy of a slice from a DataFrame.\n",
      "Try using .loc[row_indexer,col_indexer] = value instead\n",
      "\n",
      "See the caveats in the documentation: http://pandas.pydata.org/pandas-docs/stable/user_guide/indexing.html#returning-a-view-versus-a-copy\n",
      "  \n"
     ]
    },
    {
     "data": {
      "text/html": [
       "<div>\n",
       "<style scoped>\n",
       "    .dataframe tbody tr th:only-of-type {\n",
       "        vertical-align: middle;\n",
       "    }\n",
       "\n",
       "    .dataframe tbody tr th {\n",
       "        vertical-align: top;\n",
       "    }\n",
       "\n",
       "    .dataframe thead th {\n",
       "        text-align: right;\n",
       "    }\n",
       "</style>\n",
       "<table border=\"1\" class=\"dataframe\">\n",
       "  <thead>\n",
       "    <tr style=\"text-align: right;\">\n",
       "      <th></th>\n",
       "      <th>start_ts</th>\n",
       "    </tr>\n",
       "    <tr>\n",
       "      <th>session_month</th>\n",
       "      <th></th>\n",
       "    </tr>\n",
       "  </thead>\n",
       "  <tbody>\n",
       "    <tr>\n",
       "      <td>2017-06-01</td>\n",
       "      <td>16505</td>\n",
       "    </tr>\n",
       "    <tr>\n",
       "      <td>2017-07-01</td>\n",
       "      <td>17828</td>\n",
       "    </tr>\n",
       "    <tr>\n",
       "      <td>2017-08-01</td>\n",
       "      <td>14355</td>\n",
       "    </tr>\n",
       "    <tr>\n",
       "      <td>2017-09-01</td>\n",
       "      <td>23907</td>\n",
       "    </tr>\n",
       "    <tr>\n",
       "      <td>2017-10-01</td>\n",
       "      <td>37903</td>\n",
       "    </tr>\n",
       "    <tr>\n",
       "      <td>2017-11-01</td>\n",
       "      <td>43969</td>\n",
       "    </tr>\n",
       "    <tr>\n",
       "      <td>2017-12-01</td>\n",
       "      <td>41983</td>\n",
       "    </tr>\n",
       "    <tr>\n",
       "      <td>2018-01-01</td>\n",
       "      <td>36939</td>\n",
       "    </tr>\n",
       "    <tr>\n",
       "      <td>2018-02-01</td>\n",
       "      <td>37182</td>\n",
       "    </tr>\n",
       "    <tr>\n",
       "      <td>2018-03-01</td>\n",
       "      <td>35679</td>\n",
       "    </tr>\n",
       "    <tr>\n",
       "      <td>2018-04-01</td>\n",
       "      <td>26515</td>\n",
       "    </tr>\n",
       "    <tr>\n",
       "      <td>2018-05-01</td>\n",
       "      <td>26635</td>\n",
       "    </tr>\n",
       "  </tbody>\n",
       "</table>\n",
       "</div>"
      ],
      "text/plain": [
       "               start_ts\n",
       "session_month          \n",
       "2017-06-01        16505\n",
       "2017-07-01        17828\n",
       "2017-08-01        14355\n",
       "2017-09-01        23907\n",
       "2017-10-01        37903\n",
       "2017-11-01        43969\n",
       "2017-12-01        41983\n",
       "2018-01-01        36939\n",
       "2018-02-01        37182\n",
       "2018-03-01        35679\n",
       "2018-04-01        26515\n",
       "2018-05-01        26635"
      ]
     },
     "metadata": {},
     "output_type": "display_data"
    },
    {
     "data": {
      "image/png": "[encoded data removed]",
      "text/plain": [
       "<Figure size 720x360 with 1 Axes>"
      ]
     },
     "metadata": {
      "needs_background": "light"
     },
     "output_type": "display_data"
    }
   ],
   "source": [
    "#сократим даты на графике\n",
    "visits_sourch['session_month'] = visits_sourch['session_month'].dt.strftime('%Y-%m-%d')\n",
    "\n",
    "visits_month = visits_sourch.pivot_table(index='session_month', values='start_ts', aggfunc='count')\n",
    "\n",
    "display(visits_month)\n",
    "visits_month.plot(kind='bar', color='#7A8A7D', grid=True, figsize=(10, 5))\n",
    "\n",
    "plt.title('Количество посещений в каждый месяц')\n",
    "plt.xlabel('Количество посещений')\n",
    "plt.ylabel('Месяц')\n",
    "plt.show();"
   ]
  },
  {
   "cell_type": "markdown",
   "metadata": {},
   "source": [
    "### Комментарий\n",
    "\n",
    "В августе 2017 показатели были действительно ниже, чем в июне и июле, а с сентября они резко начали расти и достигли 40 тысяч сессий в месяц."
   ]
  },
  {
   "cell_type": "markdown",
   "metadata": {},
   "source": [
    "---"
   ]
  },
  {
   "cell_type": "markdown",
   "metadata": {},
   "source": [
    "### <a id=\"step11\"> Сколько стоило привлечение одного покупателя из каждого источника?</a>"
   ]
  },
  {
   "cell_type": "markdown",
   "metadata": {},
   "source": [
    "Для того, чтобы посчитать этот показатель, используем данных из двух таблиц. Мы сгруппируем данные по источнику и посчитаем показатель в отдельном столбце."
   ]
  },
  {
   "cell_type": "code",
   "execution_count": 88,
   "metadata": {},
   "outputs": [
    {
     "data": {
      "text/html": [
       "<div>\n",
       "<style scoped>\n",
       "    .dataframe tbody tr th:only-of-type {\n",
       "        vertical-align: middle;\n",
       "    }\n",
       "\n",
       "    .dataframe tbody tr th {\n",
       "        vertical-align: top;\n",
       "    }\n",
       "\n",
       "    .dataframe thead th {\n",
       "        text-align: right;\n",
       "    }\n",
       "</style>\n",
       "<table border=\"1\" class=\"dataframe\">\n",
       "  <thead>\n",
       "    <tr style=\"text-align: right;\">\n",
       "      <th></th>\n",
       "      <th>costs</th>\n",
       "    </tr>\n",
       "    <tr>\n",
       "      <th>source_id</th>\n",
       "      <th></th>\n",
       "    </tr>\n",
       "  </thead>\n",
       "  <tbody>\n",
       "    <tr>\n",
       "      <td>1</td>\n",
       "      <td>20833.27</td>\n",
       "    </tr>\n",
       "    <tr>\n",
       "      <td>2</td>\n",
       "      <td>42806.04</td>\n",
       "    </tr>\n",
       "    <tr>\n",
       "      <td>3</td>\n",
       "      <td>141321.63</td>\n",
       "    </tr>\n",
       "    <tr>\n",
       "      <td>4</td>\n",
       "      <td>61073.60</td>\n",
       "    </tr>\n",
       "    <tr>\n",
       "      <td>5</td>\n",
       "      <td>51757.10</td>\n",
       "    </tr>\n",
       "    <tr>\n",
       "      <td>9</td>\n",
       "      <td>5517.49</td>\n",
       "    </tr>\n",
       "    <tr>\n",
       "      <td>10</td>\n",
       "      <td>5822.49</td>\n",
       "    </tr>\n",
       "  </tbody>\n",
       "</table>\n",
       "</div>"
      ],
      "text/plain": [
       "               costs\n",
       "source_id           \n",
       "1           20833.27\n",
       "2           42806.04\n",
       "3          141321.63\n",
       "4           61073.60\n",
       "5           51757.10\n",
       "9            5517.49\n",
       "10           5822.49"
      ]
     },
     "execution_count": 88,
     "metadata": {},
     "output_type": "execute_result"
    }
   ],
   "source": [
    "#посчитаем сколько было потрачено на каждый источник\n",
    "total_sourch_costs = costs.pivot_table(index='source_id', values='costs', aggfunc='sum')\n",
    "total_sourch_costs"
   ]
  },
  {
   "cell_type": "code",
   "execution_count": 89,
   "metadata": {},
   "outputs": [
    {
     "data": {
      "text/html": [
       "<div>\n",
       "<style scoped>\n",
       "    .dataframe tbody tr th:only-of-type {\n",
       "        vertical-align: middle;\n",
       "    }\n",
       "\n",
       "    .dataframe tbody tr th {\n",
       "        vertical-align: top;\n",
       "    }\n",
       "\n",
       "    .dataframe thead th {\n",
       "        text-align: right;\n",
       "    }\n",
       "</style>\n",
       "<table border=\"1\" class=\"dataframe\">\n",
       "  <thead>\n",
       "    <tr style=\"text-align: right;\">\n",
       "      <th></th>\n",
       "      <th>source_id</th>\n",
       "      <th>uid</th>\n",
       "    </tr>\n",
       "    <tr>\n",
       "      <th>source_id</th>\n",
       "      <th></th>\n",
       "      <th></th>\n",
       "    </tr>\n",
       "  </thead>\n",
       "  <tbody>\n",
       "    <tr>\n",
       "      <td>1</td>\n",
       "      <td>1</td>\n",
       "      <td>7138</td>\n",
       "    </tr>\n",
       "    <tr>\n",
       "      <td>2</td>\n",
       "      <td>1</td>\n",
       "      <td>7305</td>\n",
       "    </tr>\n",
       "    <tr>\n",
       "      <td>3</td>\n",
       "      <td>1</td>\n",
       "      <td>13846</td>\n",
       "    </tr>\n",
       "    <tr>\n",
       "      <td>4</td>\n",
       "      <td>1</td>\n",
       "      <td>14253</td>\n",
       "    </tr>\n",
       "    <tr>\n",
       "      <td>5</td>\n",
       "      <td>1</td>\n",
       "      <td>10156</td>\n",
       "    </tr>\n",
       "    <tr>\n",
       "      <td>7</td>\n",
       "      <td>1</td>\n",
       "      <td>1</td>\n",
       "    </tr>\n",
       "    <tr>\n",
       "      <td>9</td>\n",
       "      <td>1</td>\n",
       "      <td>2793</td>\n",
       "    </tr>\n",
       "    <tr>\n",
       "      <td>10</td>\n",
       "      <td>1</td>\n",
       "      <td>1773</td>\n",
       "    </tr>\n",
       "  </tbody>\n",
       "</table>\n",
       "</div>"
      ],
      "text/plain": [
       "           source_id    uid\n",
       "source_id                  \n",
       "1                  1   7138\n",
       "2                  1   7305\n",
       "3                  1  13846\n",
       "4                  1  14253\n",
       "5                  1  10156\n",
       "7                  1      1\n",
       "9                  1   2793\n",
       "10                 1   1773"
      ]
     },
     "execution_count": 89,
     "metadata": {},
     "output_type": "execute_result"
    }
   ],
   "source": [
    "#получим источник для пользователя по визитам\n",
    "visits_sourch_uid = visits_log[['uid', 'source_id']]\n",
    "\n",
    "#присоединим источник к заказам по пользователям\n",
    "uid_orders_sourch = orders_log.merge(visits_sourch_uid, on='uid')\n",
    "\n",
    "#оставим только нужные столбцы и сделаем сводную таблицу по источникам\n",
    "uid_orders_sourch = uid_orders_sourch[['source_id', 'uid', 'order_month']]\n",
    "orders_users_sourch_pivot = uid_orders_sourch.pivot_table(index='source_id', values='uid', aggfunc='nunique')\n",
    "orders_users_sourch_pivot"
   ]
  },
  {
   "cell_type": "code",
   "execution_count": 90,
   "metadata": {},
   "outputs": [
    {
     "data": {
      "text/html": [
       "<div>\n",
       "<style scoped>\n",
       "    .dataframe tbody tr th:only-of-type {\n",
       "        vertical-align: middle;\n",
       "    }\n",
       "\n",
       "    .dataframe tbody tr th {\n",
       "        vertical-align: top;\n",
       "    }\n",
       "\n",
       "    .dataframe thead th {\n",
       "        text-align: right;\n",
       "    }\n",
       "</style>\n",
       "<table border=\"1\" class=\"dataframe\">\n",
       "  <thead>\n",
       "    <tr style=\"text-align: right;\">\n",
       "      <th></th>\n",
       "      <th>source_id</th>\n",
       "      <th>uid</th>\n",
       "      <th>costs</th>\n",
       "      <th>user_cost</th>\n",
       "    </tr>\n",
       "    <tr>\n",
       "      <th>source_id</th>\n",
       "      <th></th>\n",
       "      <th></th>\n",
       "      <th></th>\n",
       "      <th></th>\n",
       "    </tr>\n",
       "  </thead>\n",
       "  <tbody>\n",
       "    <tr>\n",
       "      <td>1</td>\n",
       "      <td>1</td>\n",
       "      <td>7138</td>\n",
       "      <td>20833.27</td>\n",
       "      <td>2.918642</td>\n",
       "    </tr>\n",
       "    <tr>\n",
       "      <td>2</td>\n",
       "      <td>1</td>\n",
       "      <td>7305</td>\n",
       "      <td>42806.04</td>\n",
       "      <td>5.859828</td>\n",
       "    </tr>\n",
       "    <tr>\n",
       "      <td>3</td>\n",
       "      <td>1</td>\n",
       "      <td>13846</td>\n",
       "      <td>141321.63</td>\n",
       "      <td>10.206676</td>\n",
       "    </tr>\n",
       "    <tr>\n",
       "      <td>4</td>\n",
       "      <td>1</td>\n",
       "      <td>14253</td>\n",
       "      <td>61073.60</td>\n",
       "      <td>4.284965</td>\n",
       "    </tr>\n",
       "    <tr>\n",
       "      <td>5</td>\n",
       "      <td>1</td>\n",
       "      <td>10156</td>\n",
       "      <td>51757.10</td>\n",
       "      <td>5.096209</td>\n",
       "    </tr>\n",
       "    <tr>\n",
       "      <td>7</td>\n",
       "      <td>1</td>\n",
       "      <td>1</td>\n",
       "      <td>NaN</td>\n",
       "      <td>NaN</td>\n",
       "    </tr>\n",
       "    <tr>\n",
       "      <td>9</td>\n",
       "      <td>1</td>\n",
       "      <td>2793</td>\n",
       "      <td>5517.49</td>\n",
       "      <td>1.975471</td>\n",
       "    </tr>\n",
       "    <tr>\n",
       "      <td>10</td>\n",
       "      <td>1</td>\n",
       "      <td>1773</td>\n",
       "      <td>5822.49</td>\n",
       "      <td>3.283976</td>\n",
       "    </tr>\n",
       "  </tbody>\n",
       "</table>\n",
       "</div>"
      ],
      "text/plain": [
       "           source_id    uid      costs  user_cost\n",
       "source_id                                        \n",
       "1                  1   7138   20833.27   2.918642\n",
       "2                  1   7305   42806.04   5.859828\n",
       "3                  1  13846  141321.63  10.206676\n",
       "4                  1  14253   61073.60   4.284965\n",
       "5                  1  10156   51757.10   5.096209\n",
       "7                  1      1        NaN        NaN\n",
       "9                  1   2793    5517.49   1.975471\n",
       "10                 1   1773    5822.49   3.283976"
      ]
     },
     "execution_count": 90,
     "metadata": {},
     "output_type": "execute_result"
    }
   ],
   "source": [
    "#объединим таблицы и посчитаем стоимость одного пользователя из каждого источника\n",
    "final_sourch_cost_data = orders_users_sourch_pivot.join(total_sourch_costs)\n",
    "final_sourch_cost_data['user_cost'] = final_sourch_cost_data['costs']/final_sourch_cost_data['uid']\n",
    "final_sourch_cost_data"
   ]
  },
  {
   "cell_type": "markdown",
   "metadata": {},
   "source": [
    "### Комментарий\n",
    "\n",
    "Самая высокая стоимость привлечения пользователя у источника 3 — 10.2, но и показатели по нему довольно высокие, хотя из источника номер 4 приходят больше пользователей, а стоимость одного привлеченного пользователя здесь — 4.28. На третьем место по количеству пришедших пользователей источник номер 5, и стоимость здесь — 5.09.\n",
    "\n",
    "Получается, что среди трех лидирующих источников, 4 наиболее выгодный. Он дешевле, чем источники 2, 3 и 5 но приводит больше пользователей."
   ]
  },
  {
   "cell_type": "markdown",
   "metadata": {},
   "source": [
    "---"
   ]
  },
  {
   "cell_type": "markdown",
   "metadata": {},
   "source": [
    "### <a id=\"step12\"> На сколько окупились расходы? (ROI)</a>"
   ]
  },
  {
   "cell_type": "markdown",
   "metadata": {},
   "source": [
    "Метрика ROI можно перевести как «возврат на инвестиции» — она помогает понять как скоро окупятся вложенные инвестиции. В нашем случае нужно выяснить окупились ли деньги, которые были вложены в привлечение покупателей.\n",
    "\n",
    "У нас есть столбец costs, где указаны затраты на каждый рекламный источник за день. Используем эти данные для рассчета.\n",
    "\n",
    "Для рассчета окупаемости маркетинга, вместо ROI рассчитывают ROMI."
   ]
  },
  {
   "cell_type": "code",
   "execution_count": 91,
   "metadata": {},
   "outputs": [],
   "source": [
    "#сделаем таблицу с затратами на маркетинг по месяцам\n",
    "costs_pivot = costs.pivot_table(index='month', values='costs', aggfunc='sum')\n",
    "\n",
    "#найдем таблицу прибылью по месяцам\n",
    "orders_revenue = orders_log[['buy_ts', 'revenue', 'first_order_date','first_order_month', 'order_month']]\n",
    "orders_revenue = orders_revenue.pivot_table(index='order_month', values='revenue', aggfunc='sum')"
   ]
  },
  {
   "cell_type": "code",
   "execution_count": 92,
   "metadata": {},
   "outputs": [
    {
     "data": {
      "text/html": [
       "<div>\n",
       "<style scoped>\n",
       "    .dataframe tbody tr th:only-of-type {\n",
       "        vertical-align: middle;\n",
       "    }\n",
       "\n",
       "    .dataframe tbody tr th {\n",
       "        vertical-align: top;\n",
       "    }\n",
       "\n",
       "    .dataframe thead th {\n",
       "        text-align: right;\n",
       "    }\n",
       "</style>\n",
       "<table border=\"1\" class=\"dataframe\">\n",
       "  <thead>\n",
       "    <tr style=\"text-align: right;\">\n",
       "      <th></th>\n",
       "      <th>costs_marketing</th>\n",
       "      <th>buy_revenue</th>\n",
       "      <th>proceeds</th>\n",
       "    </tr>\n",
       "    <tr>\n",
       "      <th>month</th>\n",
       "      <th></th>\n",
       "      <th></th>\n",
       "      <th></th>\n",
       "    </tr>\n",
       "  </thead>\n",
       "  <tbody>\n",
       "    <tr>\n",
       "      <td>2017-06-01</td>\n",
       "      <td>18015.00</td>\n",
       "      <td>9557.49</td>\n",
       "      <td>-46.947044</td>\n",
       "    </tr>\n",
       "    <tr>\n",
       "      <td>2017-07-01</td>\n",
       "      <td>18240.59</td>\n",
       "      <td>12539.47</td>\n",
       "      <td>-31.255129</td>\n",
       "    </tr>\n",
       "    <tr>\n",
       "      <td>2017-08-01</td>\n",
       "      <td>14790.54</td>\n",
       "      <td>8758.78</td>\n",
       "      <td>-40.781202</td>\n",
       "    </tr>\n",
       "    <tr>\n",
       "      <td>2017-09-01</td>\n",
       "      <td>24368.91</td>\n",
       "      <td>18345.51</td>\n",
       "      <td>-24.717560</td>\n",
       "    </tr>\n",
       "    <tr>\n",
       "      <td>2017-10-01</td>\n",
       "      <td>36322.88</td>\n",
       "      <td>27987.70</td>\n",
       "      <td>-22.947465</td>\n",
       "    </tr>\n",
       "    <tr>\n",
       "      <td>2017-11-01</td>\n",
       "      <td>37907.88</td>\n",
       "      <td>27069.93</td>\n",
       "      <td>-28.590230</td>\n",
       "    </tr>\n",
       "    <tr>\n",
       "      <td>2017-12-01</td>\n",
       "      <td>38315.35</td>\n",
       "      <td>36388.60</td>\n",
       "      <td>-5.028663</td>\n",
       "    </tr>\n",
       "    <tr>\n",
       "      <td>2018-01-01</td>\n",
       "      <td>33518.52</td>\n",
       "      <td>19417.13</td>\n",
       "      <td>-42.070443</td>\n",
       "    </tr>\n",
       "    <tr>\n",
       "      <td>2018-02-01</td>\n",
       "      <td>32723.03</td>\n",
       "      <td>25560.54</td>\n",
       "      <td>-21.888224</td>\n",
       "    </tr>\n",
       "    <tr>\n",
       "      <td>2018-03-01</td>\n",
       "      <td>30415.27</td>\n",
       "      <td>28834.59</td>\n",
       "      <td>-5.196995</td>\n",
       "    </tr>\n",
       "    <tr>\n",
       "      <td>2018-04-01</td>\n",
       "      <td>22289.38</td>\n",
       "      <td>16858.06</td>\n",
       "      <td>-24.367300</td>\n",
       "    </tr>\n",
       "    <tr>\n",
       "      <td>2018-05-01</td>\n",
       "      <td>22224.27</td>\n",
       "      <td>20735.98</td>\n",
       "      <td>-6.696688</td>\n",
       "    </tr>\n",
       "  </tbody>\n",
       "</table>\n",
       "</div>"
      ],
      "text/plain": [
       "            costs_marketing  buy_revenue   proceeds\n",
       "month                                              \n",
       "2017-06-01         18015.00      9557.49 -46.947044\n",
       "2017-07-01         18240.59     12539.47 -31.255129\n",
       "2017-08-01         14790.54      8758.78 -40.781202\n",
       "2017-09-01         24368.91     18345.51 -24.717560\n",
       "2017-10-01         36322.88     27987.70 -22.947465\n",
       "2017-11-01         37907.88     27069.93 -28.590230\n",
       "2017-12-01         38315.35     36388.60  -5.028663\n",
       "2018-01-01         33518.52     19417.13 -42.070443\n",
       "2018-02-01         32723.03     25560.54 -21.888224\n",
       "2018-03-01         30415.27     28834.59  -5.196995\n",
       "2018-04-01         22289.38     16858.06 -24.367300\n",
       "2018-05-01         22224.27     20735.98  -6.696688"
      ]
     },
     "execution_count": 92,
     "metadata": {},
     "output_type": "execute_result"
    }
   ],
   "source": [
    "#объединим таблицы и найдем выручку\n",
    "proceeds = costs_pivot.join(orders_revenue)\n",
    "proceeds.columns = ['costs_marketing', 'buy_revenue']\n",
    "proceeds['proceeds'] = ((proceeds['buy_revenue'] - proceeds['costs_marketing'])/proceeds['costs_marketing'])*100\n",
    "proceeds"
   ]
  },
  {
   "cell_type": "markdown",
   "metadata": {},
   "source": [
    "Сейчас мы видим убытки в течение всего года."
   ]
  },
  {
   "cell_type": "code",
   "execution_count": 93,
   "metadata": {},
   "outputs": [
    {
     "data": {
      "text/plain": [
       "252053.77999999846"
      ]
     },
     "execution_count": 93,
     "metadata": {},
     "output_type": "execute_result"
    }
   ],
   "source": [
    "#посчитаем общую сумму дохода за год\n",
    "proceeds['buy_revenue'].sum()"
   ]
  },
  {
   "cell_type": "code",
   "execution_count": 94,
   "metadata": {},
   "outputs": [
    {
     "data": {
      "image/png": "[encoded data removed]",
      "text/plain": [
       "<Figure size 936x648 with 2 Axes>"
      ]
     },
     "metadata": {
      "needs_background": "light"
     },
     "output_type": "display_data"
    }
   ],
   "source": [
    "#создадим сводную таблицу и посчитаем ROMI\n",
    "#для этого поделим LTV на CAC\n",
    "report_new['romi'] = report_new['ltv'] / report_new['cac']\n",
    "output = report_new.pivot_table(\n",
    "    index='first_order_month', \n",
    "    columns='age', \n",
    "    values='romi', \n",
    "    aggfunc='mean')\n",
    "\n",
    "#чтобы посчитать накопительный ROMI, вызовем метод cumsum()\n",
    "output = output.cumsum(axis=1).round(2)\n",
    "\n",
    "#построим тепловую карту для метрики ROMI\n",
    "plt.figure(figsize=(13, 9))\n",
    "plt.title('Метрика ROMI')\n",
    "sns.heatmap(output, annot=True, fmt='.3f', linewidths=1, linecolor='gray', \n",
    "            cmap= 'coolwarm', vmin=0, vmax=2);"
   ]
  },
  {
   "cell_type": "markdown",
   "metadata": {},
   "source": [
    "### Комментарий\n",
    "\n",
    "В таблице видно, что на маркетинг тратилось в разы больше денег, чем приносили компании покупки — ни в одном месяце компания не получила прибыль, а даже скорее получала убытки.\n",
    "\n",
    "ROMI мы можем проанализировать по тепловой карте. \n",
    "Когорта за июнь 2017 окупилась на 7 месяц (ROMI = 1.11). Когорты за июль и август еще не окупились, а вот сентябрьская окупилась на 4 месяц (ROMI = 1.19). Остальные когорты пока не окупились.\n",
    "\n",
    "Всего 2 когорты окупились за весь период жизни."
   ]
  },
  {
   "cell_type": "markdown",
   "metadata": {},
   "source": [
    "## Промежуточный вывод\n",
    "\n",
    "Нам было нужно ответить на три вопроса:\n",
    "- **Сколько денег потратили? Всего / на каждый источник / по времени**\n",
    "\n",
    "Всего с июня 2017 по конец мая 2018 года было потрачено на маркетинг: 329131. При этом прибыль за год составила 252053.\n",
    "\n",
    "Наиболее дорогой источник номер 3, после идут источники 4 и 5. Уже можно отметить, что источники под номером 3 и 4 приводят больше всего пользователей. \n",
    "\n",
    "Затраты заметно начали расти с сентября 2019 года и снижаться в январе 2018. \n",
    "\n",
    "- **Сколько стоило привлечение одного покупателя из каждого источника?**\n",
    "\n",
    "Самая высокая стоимость привлечения пользователя у источника 3 — 10.2, но и показатели по нему довольно высокие, хотя из источника номер 4 приходят больше пользователей, а стоимость одного привлеченного пользователя здесь — 4.28. На третьем место по количеству пришедших пользователей источник номер 5, и стоимость здесь — 5.09.\n",
    "\n",
    "Получается, что среди трех лидирующих источников, 4 наиболее выгодный. Он дешевле, чем источники 2, 3 и 5 но приводит больше пользователей.\n",
    "\n",
    "- **На сколько окупились расходы? (ROI)**\n",
    "\n",
    "В таблице видно, что на маркетинг тратилось в разы больше денег, чем приносили компании покупки — ни в одном месяце компания не получила прибыль, а даже скорее получала убытки.\n",
    "\n",
    "ROMI мы можем проанализировать по тепловой карте. Когорта за июнь 2017 окупилась на 7 месяц (ROMI = 1.11). Когорты за июль и август еще не окупились, а вот сентябрьская окупилась на 4 месяц (ROMI = 1.19). Остальные когорты пока не окупились."
   ]
  },
  {
   "cell_type": "markdown",
   "metadata": {},
   "source": [
    "---"
   ]
  },
  {
   "cell_type": "markdown",
   "metadata": {},
   "source": [
    "# <a id=\"six\">Итоговый вывод</a>"
   ]
  },
  {
   "cell_type": "markdown",
   "metadata": {},
   "source": [
    "### Цель проекта\n",
    "\n",
    "Целью проекта было изучить взаимодействие пользователя с нашим продуктом и оптимизировать маркетинговые затраты.\n",
    "\n",
    "#### Как люди пользуются продуктом?\n",
    "\n",
    "В среднем:\n",
    "\n",
    "- в месяц заходят 23228 уникальных пользователей\n",
    "- в неделю 5716 уникальных пользователей\n",
    "- в день 911 уникальных пользователей\n",
    "\n",
    "Sticky factor (регулярность использования ресурса):\n",
    "\n",
    "- по отношению к месячной аудитории — 3.9\n",
    "- по отношению к недельной аудитории — 15.9\n",
    "\n",
    "\n",
    "- В январе количество пользователей около 28 тысяч, но количество значительно **снижается до июля и держится на низких показателях все лето. С сентября количество пользователей растет.** Вероятно это сезонные изменения, хотя казалось, что летом люди должны больше интересоваться событиями в городе. Возможно это связано с тем, что летом многие уезжают на отдых из страны.\n",
    "- Процент возвратившихся пользователей довольно мал — **меньше 10 процентов пользователей возвращаются на сайт повторно**. Возможно это потому, что сайтом пользуются для конкретных задач — заказать билеты, а стабильно к нему возвращается небольшое количество людей. Со временем процент снижается, но при этом показатель довольно стабильный в первые месяцы в одной когорте.\n",
    "\n",
    "#### Сессии\n",
    "\n",
    "- **Среднее количество сессий — 987**, но при этом есть минимальное количество 1 и максимально 3510. Было бы неплохо посмотреть как они распределены. Количество сессий уменьшается с января и начинает расти в сентябре, также как и количество посетителей. Вероятно это естественные сезонные изменения.\n",
    "\n",
    "- Длительность средней сессии 714 секунд, около 12 минут — это неплохой показатель, но посмотрим на распределение.\n",
    "\n",
    "\n",
    "#### Когда они начинают покупать?\n",
    "\n",
    "По частоте время распределено так:\n",
    "1. 2656 покупок были совершены за одну минуту (если эти данные достоверны)\n",
    "2. 2098 покупок были совершены за две минуты от первого посещения\n",
    "3. 1685 покупок были совершены за минуты минуты от первого посещения\n",
    "\n",
    "На распределение видно, что большая часть покупой была совершена в диапазоне от 0 до 300 минут, при чем пиковые значения от 0 до 40 минут. Пик от 0 до 20 минут.\n",
    "\n",
    "\n",
    "- 22582 покупки из 36523 были совершены в течение часа, а это больше 60% покупок.\n",
    "- 10156 покупок из 36523 были совершены больше, чем через 24 часа, а это больше 27% покупок.\n",
    "- максимальное время — 8719 часов\n",
    "\n",
    "- Значит, 60% пользователей покупают в течение часа, при этом 24593 значений расположены в диапазоне от 0 до 300 минут. Значит большинство совершает покупку после первого посещения не позже, чем через 6 часов.\n",
    "\n",
    "\n",
    "В среднем один покупатель совершает одну покупку в месяц.\n",
    "\n",
    "\n",
    "- В августе 2017 начался резкий подъем продаж — можно узнать что произошло в этот момент, чтобы понять что так увеличило продажи. Заметный подъем с ноября до декабря, затем падение с декабря до января. Сильное падение также есть с марта по апрель. Возможно есть закономерности из-за сезонных причин — праздники, теплое время года.\n",
    "\n",
    "\n",
    "- Всего за год было 41019 уникальный покупателей. Из них 36303 совершили всего одну покупку — это 88% от общего числа. Значит ли это, что процент повторных покупок очень мал?\n",
    "\n",
    "#### Сколько денег приносит каждый клиент?\n",
    "\n",
    "- В среднем в месяц совершается 3878 покупок. При этом, есть пиковые значение в с октября по декабрь, и с февраля по март.\n",
    "\n",
    "\n",
    "- 88% покупателей совершили всего одну покупку за весь период анализа\n",
    "- 8% вернулись за второй покупкой\n",
    "- значит только около 3-4% пользователей совершили больше двух покупок за год\n",
    "\n",
    "\n",
    "- Cредний чек равен 13, при этом большая часть значений распределена от 3 до 10.\n",
    "\n",
    "\n",
    "- Средний LTV за 6 месяцев после первой покупки: 7.96. Примерно такую сумму компания получает в среднем от одного клиента со всех покупок.\n",
    "\n",
    "- LTV за первый месяц в более молодых когортах снижается, но в целом такие показатели были и у первой когорты. Также можно отметить, что показатели более молодых когорт медленннее растут с каждым месяцем. Первая когорта в первый месяц имела показатель 4.7, а на шестой месяц уже 8.4. Тогда как например, когорта «2017-11-01» в первый месяц принесла 5.2, а в шестой месяц 6.3. Показатель за первый месяц выше, но с течением времени рост более медленный.\n",
    "\n",
    "\n",
    "#### Когда клиент окупается?\n",
    "\n",
    "- **Сколько денег потратила компания?**\n",
    "\n",
    "Всего с июня 2017 по конец мая 2018 года было потрачено на маркетинг: 329131. При этом прибыль за год составила 252053.\n",
    "\n",
    "Наиболее дорогой источник номер 3, после идут источники 4 и 5. Источники под номером 3 и 4 приводят больше всего пользователей.\n",
    "\n",
    "Затраты заметно начали расти с сентября 2019 года и снижаться в январе 2018.\n",
    "\n",
    "- **Сколько стоило привлечение одного покупателя из каждого источника?**\n",
    "\n",
    "Самая высокая стоимость привлечения пользователя у источника 3 — 10.2, но и показатели по нему довольно высокие, хотя из источника номер 4 приходят больше пользователей, а стоимость одного привлеченного пользователя здесь — 4.28. На третьем место по количеству пришедших пользователей источник номер 5, и стоимость здесь — 5.09.\n",
    "\n",
    "- **На сколько окупились расходы? (ROI)**\n",
    "\n",
    "В таблице видно, что на маркетинг тратилось в разы больше денег, чем приносили компании покупки — ни в одном месяце компания не получила прибыль, а даже скорее получала убытки.\n",
    "\n",
    "ROMI мы можем проанализировать по тепловой карте. Когорта за июнь 2017 окупилась на 7 месяц (ROMI = 1.11). Когорты за июль и август еще не окупились, а вот сентябрьская окупилась на 4 месяц (ROMI = 1.19). Остальные когорты пока не окупились.\n",
    "\n",
    "----\n",
    "\n",
    "### Общие замечания\n",
    "\n",
    "- На компьютерах сайт просматривают в среднем дольше, чем с мобильной версии.\n",
    "\n",
    "- Всего с июня 2017 по конец мая 2018 года было потрачено на маркетинг: 329131\n",
    "\n",
    "- По данным можно сказать, что после первого посещения пользователь отмечает для себя, что на этом сайте можно заказать билеты, но при этом он не возвращается к нему без конкретной цели покупки. \n",
    "\n",
    "- Интересно, что если смотреть изменения среднего чека по месяцам, то во второй месяц средний чек всегда увеличивался. При этом почти в каждый следующий месяц средний чек больше, чем первый, кроме одного случая, где в апреле средний чек упал ниже, но мне кажется это скорее исключение. Можно проверить это, и посмотреть что произошло в этом месяце с сайтом — возможно были какие-то нововведения, которые снизили продажи в этом месяце.\n",
    "\n",
    "-----\n",
    "\n",
    "### Ошибки в данных\n",
    "\n",
    "- Основная проблема с типами данных: столбцы с датами не имеют тип datetime.\n",
    "\n",
    "\n",
    "- 2455 покупок были совершены в первую же секунду посещения — это не очень похоже на правдивый результат, так что возможно это просто ошибка в данных. Нужно проверить.\n",
    "\n",
    "-----\n",
    "\n",
    "### Рекомендации\n",
    "\n",
    "- За 6 месяцев коэффициент удержания упал на 2,3% (это примерно 30% общего числа). Поведение пользователей меняется с каждой новой когортой. Возможно стоит разобраться в чем могла быть причины — возможно выбраны неэффективные источники трафика или изменился интерфейс.\n",
    "\n",
    "- Также я бы посоветовала коллегам изучить данные и попробовать изменить стратегию, чтобы увеличить количество повторных посещений.\n",
    "- Меньше 10% пользователей возвращаются к ресурсу после первого посещения. Значит пользователь редко приходит на сайт для того, чтобы просто ознакомиться с новостями и не обращается к сайту как к периодическому изданию. Возможно стоит улучшить этот показатель, так как постоянные читатели могут чаще пользоваться прямым продуктом — покупкой билетов.\n",
    "- Получается, что среди трех лидирующих источников, 4 наиболее выгодный. Он дешевле, чем источники 2, 3 и 5 но приводит больше пользователей. Возможно стоит больше сосредоточиться на нем.\n",
    "- У когорты «2017-09-01» произошел резкий рост LTV на четвертый месяц. Последние показатели одни из самых высоких — стоит проверить почему такое могло произойти."
   ]
  }
 ],
 "metadata": {
  "kernelspec": {
   "display_name": "Python 3",
   "language": "python",
   "name": "python3"
  },
  "language_info": {
   "codemirror_mode": {
    "name": "ipython",
    "version": 3
   },
   "file_extension": ".py",
   "mimetype": "text/x-python",
   "name": "python",
   "nbconvert_exporter": "python",
   "pygments_lexer": "ipython3",
   "version": "3.7.4"
  }
 },
 "nbformat": 4,
 "nbformat_minor": 2
}
