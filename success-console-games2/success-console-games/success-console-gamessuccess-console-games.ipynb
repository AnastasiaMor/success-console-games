{
 "cells": [
  {
   "cell_type": "markdown",
   "metadata": {},
   "source": [
    "# Выявление закономерностей, которые определяют успешность игры "
   ]
  },
  {
   "cell_type": "markdown",
   "metadata": {},
   "source": [
    "**Цель проекта:** выявить определяющие успешность игры закономерности, благодаря которым можно будет найти потенциально популярный продукт и спланировать рекламные кампании.\n",
    "\n",
    "\n",
    "**Задачи проекта:** \n",
    "- сделать предварительный анализ данных, определить ключевые показатели по жанрам и платформам\n",
    "- найти закономерности и точки влияния на примере успешных игр\n",
    "- составить портрет пользователя каждого региона"
   ]
  },
  {
   "cell_type": "markdown",
   "metadata": {},
   "source": [
    "**Описание данных:** нам предоставлены данные до 2016 года, где содержится вся информация об играх разных платформ, а именно: год выпуска, место продаж, жанр игры, оценки критиков и пользователей и рейтинг от организации ESRB.\n",
    "\n",
    "В наборе данных попадается аббревиатура ESRB (Entertainment Software Rating Board) — это ассоциация, определяющая возрастной рейтинг компьютерных игр. ESRB оценивает игровой контент и присваивает ему подходящую возрастную категорию, например, «Для взрослых», «Для детей младшего возраста» или «Для подростков».\n",
    "\n",
    "#### Содержание набора данных:\n",
    "- Name — название игры\n",
    "- Platform — платформа\n",
    "- Year_of_Release — год выпуска\n",
    "- Genre — жанр игры\n",
    "- NA_sales — продажи в Северной Америке (миллионы долларов)\n",
    "- EU_sales — продажи в Европе (миллионы долларов)\n",
    "- JP_sales — продажи в Японии (миллионы долларов)\n",
    "- Other_sales — продажи в других странах (миллионы долларов)\n",
    "- Critic_Score — оценка критиков (максимум 100)\n",
    "- User_Score — оценка пользователей (максимум 10)\n",
    "- Rating — рейтинг от организации ESRB (англ. Entertainment Software Rating Board). Эта ассоциация определяет рейтинг компьютерных игр и присваивает им подходящую возрастную категорию."
   ]
  },
  {
   "cell_type": "markdown",
   "metadata": {},
   "source": [
    "#### План анализа:\n",
    "- Обзор и подготовка данных (анализ и обработка ошибок).\n",
    "- Провести исследовательский анализ данных (анализ по годам, жанрам, платформам и отзывам)\n",
    "- Визуализировать полученные данные.\n",
    "- Составить портрет пользователя каждого региона\n",
    "- Сформулировать и проверить гипотезы о выручке.\n",
    "- Итоговый вывод и рекомендации."
   ]
  },
  {
   "cell_type": "markdown",
   "metadata": {},
   "source": [
    "### Оглавление\n",
    "\n",
    "1. [Обзор и подготовка данных](#one) </n>\n",
    "2. [Исследовательский анализ данных](#two)\n",
    "3. [Портрет пользователя каждого региона](#three)\n",
    "4. [Проверка гипотез](#four)\n",
    "5. [Итоговый вывод](#five)"
   ]
  },
  {
   "cell_type": "markdown",
   "metadata": {},
   "source": [
    "-----"
   ]
  },
  {
   "cell_type": "markdown",
   "metadata": {},
   "source": [
    "# <a id=\"one\"> Обзор и подготовка данных</a>\n"
   ]
  },
  {
   "cell_type": "code",
   "execution_count": 1,
   "metadata": {},
   "outputs": [],
   "source": [
    "import pandas as pd\n",
    "import matplotlib.pyplot as plt\n",
    "from scipy import stats as st\n",
    "\n",
    "games_data = pd.read_csv('/datasets/games.csv')"
   ]
  },
  {
   "cell_type": "code",
   "execution_count": 4,
   "metadata": {},
   "outputs": [
    {
     "name": "stdout",
     "output_type": "stream",
     "text": [
      "<class 'pandas.core.frame.DataFrame'>\n",
      "RangeIndex: 16715 entries, 0 to 16714\n",
      "Data columns (total 11 columns):\n",
      "Name               16713 non-null object\n",
      "Platform           16715 non-null object\n",
      "Year_of_Release    16446 non-null float64\n",
      "Genre              16713 non-null object\n",
      "NA_sales           16715 non-null float64\n",
      "EU_sales           16715 non-null float64\n",
      "JP_sales           16715 non-null float64\n",
      "Other_sales        16715 non-null float64\n",
      "Critic_Score       8137 non-null float64\n",
      "User_Score         10014 non-null object\n",
      "Rating             9949 non-null object\n",
      "dtypes: float64(6), object(5)\n",
      "memory usage: 1.4+ MB\n"
     ]
    }
   ],
   "source": [
    "games_data.info()"
   ]
  },
  {
   "cell_type": "code",
   "execution_count": 5,
   "metadata": {},
   "outputs": [
    {
     "data": {
      "text/html": [
       "<div>\n",
       "<style scoped>\n",
       "    .dataframe tbody tr th:only-of-type {\n",
       "        vertical-align: middle;\n",
       "    }\n",
       "\n",
       "    .dataframe tbody tr th {\n",
       "        vertical-align: top;\n",
       "    }\n",
       "\n",
       "    .dataframe thead th {\n",
       "        text-align: right;\n",
       "    }\n",
       "</style>\n",
       "<table border=\"1\" class=\"dataframe\">\n",
       "  <thead>\n",
       "    <tr style=\"text-align: right;\">\n",
       "      <th></th>\n",
       "      <th>Name</th>\n",
       "      <th>Platform</th>\n",
       "      <th>Year_of_Release</th>\n",
       "      <th>Genre</th>\n",
       "      <th>NA_sales</th>\n",
       "      <th>EU_sales</th>\n",
       "      <th>JP_sales</th>\n",
       "      <th>Other_sales</th>\n",
       "      <th>Critic_Score</th>\n",
       "      <th>User_Score</th>\n",
       "      <th>Rating</th>\n",
       "    </tr>\n",
       "  </thead>\n",
       "  <tbody>\n",
       "    <tr>\n",
       "      <td>0</td>\n",
       "      <td>Wii Sports</td>\n",
       "      <td>Wii</td>\n",
       "      <td>2006.0</td>\n",
       "      <td>Sports</td>\n",
       "      <td>41.36</td>\n",
       "      <td>28.96</td>\n",
       "      <td>3.77</td>\n",
       "      <td>8.45</td>\n",
       "      <td>76.0</td>\n",
       "      <td>8</td>\n",
       "      <td>E</td>\n",
       "    </tr>\n",
       "    <tr>\n",
       "      <td>1</td>\n",
       "      <td>Super Mario Bros.</td>\n",
       "      <td>NES</td>\n",
       "      <td>1985.0</td>\n",
       "      <td>Platform</td>\n",
       "      <td>29.08</td>\n",
       "      <td>3.58</td>\n",
       "      <td>6.81</td>\n",
       "      <td>0.77</td>\n",
       "      <td>NaN</td>\n",
       "      <td>NaN</td>\n",
       "      <td>NaN</td>\n",
       "    </tr>\n",
       "    <tr>\n",
       "      <td>2</td>\n",
       "      <td>Mario Kart Wii</td>\n",
       "      <td>Wii</td>\n",
       "      <td>2008.0</td>\n",
       "      <td>Racing</td>\n",
       "      <td>15.68</td>\n",
       "      <td>12.76</td>\n",
       "      <td>3.79</td>\n",
       "      <td>3.29</td>\n",
       "      <td>82.0</td>\n",
       "      <td>8.3</td>\n",
       "      <td>E</td>\n",
       "    </tr>\n",
       "    <tr>\n",
       "      <td>3</td>\n",
       "      <td>Wii Sports Resort</td>\n",
       "      <td>Wii</td>\n",
       "      <td>2009.0</td>\n",
       "      <td>Sports</td>\n",
       "      <td>15.61</td>\n",
       "      <td>10.93</td>\n",
       "      <td>3.28</td>\n",
       "      <td>2.95</td>\n",
       "      <td>80.0</td>\n",
       "      <td>8</td>\n",
       "      <td>E</td>\n",
       "    </tr>\n",
       "    <tr>\n",
       "      <td>4</td>\n",
       "      <td>Pokemon Red/Pokemon Blue</td>\n",
       "      <td>GB</td>\n",
       "      <td>1996.0</td>\n",
       "      <td>Role-Playing</td>\n",
       "      <td>11.27</td>\n",
       "      <td>8.89</td>\n",
       "      <td>10.22</td>\n",
       "      <td>1.00</td>\n",
       "      <td>NaN</td>\n",
       "      <td>NaN</td>\n",
       "      <td>NaN</td>\n",
       "    </tr>\n",
       "  </tbody>\n",
       "</table>\n",
       "</div>"
      ],
      "text/plain": [
       "                       Name Platform  Year_of_Release         Genre  NA_sales  \\\n",
       "0                Wii Sports      Wii           2006.0        Sports     41.36   \n",
       "1         Super Mario Bros.      NES           1985.0      Platform     29.08   \n",
       "2            Mario Kart Wii      Wii           2008.0        Racing     15.68   \n",
       "3         Wii Sports Resort      Wii           2009.0        Sports     15.61   \n",
       "4  Pokemon Red/Pokemon Blue       GB           1996.0  Role-Playing     11.27   \n",
       "\n",
       "   EU_sales  JP_sales  Other_sales  Critic_Score User_Score Rating  \n",
       "0     28.96      3.77         8.45          76.0          8      E  \n",
       "1      3.58      6.81         0.77           NaN        NaN    NaN  \n",
       "2     12.76      3.79         3.29          82.0        8.3      E  \n",
       "3     10.93      3.28         2.95          80.0          8      E  \n",
       "4      8.89     10.22         1.00           NaN        NaN    NaN  "
      ]
     },
     "execution_count": 5,
     "metadata": {},
     "output_type": "execute_result"
    }
   ],
   "source": [
    "games_data.head()"
   ]
  },
  {
   "cell_type": "markdown",
   "metadata": {},
   "source": [
    "### Комментарий к данным\n",
    "\n",
    "В таблице предоставлены данные по 16715 играм. Есть типы данных, которые скорее всего придется поменять. Например, год выпуска имеет тип float64, а лучше, чтобы тип был int. \n",
    "\n",
    "Есть пропуски: \n",
    "- В столбце с именем всего два пропуска, что скорее всего ошибка при выгрузке. К тому же, пропуски совпадают с пропусками в столбце Genre. Думаю, что их можно удалить, так как два значения относительно всей таблицы, это очень мало, а пропуски могут помешать при анализе. \n",
    "- 269 пропусков в столбце с годом выпуска. Вероятно это ошибка при заполнение базы, так как их не мало, а год выпуска есть у каждой игры. Можно попробовать узнать год выпуск и заполнить вручную, но их немало.\n",
    "- В столбце Critic_Score почти половина значений пропущено. Это важный показатель, а пропусков очень много. Так же много пропусков в столбце с оценкой пользователей — около 6 тысяч. Попробуем их заполнить, если будет нужно для анализа. \n",
    "- В столбце Rating 6766 пропусков, и это может быть потому, что играм начали присваивать рейтинг с определенного года — скорее всего рейтинг не указан у игр, которые вышли давно. Проверим это."
   ]
  },
  {
   "cell_type": "code",
   "execution_count": 6,
   "metadata": {},
   "outputs": [
    {
     "data": {
      "text/html": [
       "<div>\n",
       "<style scoped>\n",
       "    .dataframe tbody tr th:only-of-type {\n",
       "        vertical-align: middle;\n",
       "    }\n",
       "\n",
       "    .dataframe tbody tr th {\n",
       "        vertical-align: top;\n",
       "    }\n",
       "\n",
       "    .dataframe thead th {\n",
       "        text-align: right;\n",
       "    }\n",
       "</style>\n",
       "<table border=\"1\" class=\"dataframe\">\n",
       "  <thead>\n",
       "    <tr style=\"text-align: right;\">\n",
       "      <th></th>\n",
       "      <th>Name</th>\n",
       "      <th>Platform</th>\n",
       "      <th>Year_of_Release</th>\n",
       "      <th>Genre</th>\n",
       "      <th>NA_sales</th>\n",
       "      <th>EU_sales</th>\n",
       "      <th>JP_sales</th>\n",
       "      <th>Other_sales</th>\n",
       "      <th>Critic_Score</th>\n",
       "      <th>User_Score</th>\n",
       "      <th>Rating</th>\n",
       "    </tr>\n",
       "  </thead>\n",
       "  <tbody>\n",
       "    <tr>\n",
       "      <td>659</td>\n",
       "      <td>NaN</td>\n",
       "      <td>GEN</td>\n",
       "      <td>1993.0</td>\n",
       "      <td>NaN</td>\n",
       "      <td>1.78</td>\n",
       "      <td>0.53</td>\n",
       "      <td>0.00</td>\n",
       "      <td>0.08</td>\n",
       "      <td>NaN</td>\n",
       "      <td>NaN</td>\n",
       "      <td>NaN</td>\n",
       "    </tr>\n",
       "    <tr>\n",
       "      <td>14244</td>\n",
       "      <td>NaN</td>\n",
       "      <td>GEN</td>\n",
       "      <td>1993.0</td>\n",
       "      <td>NaN</td>\n",
       "      <td>0.00</td>\n",
       "      <td>0.00</td>\n",
       "      <td>0.03</td>\n",
       "      <td>0.00</td>\n",
       "      <td>NaN</td>\n",
       "      <td>NaN</td>\n",
       "      <td>NaN</td>\n",
       "    </tr>\n",
       "  </tbody>\n",
       "</table>\n",
       "</div>"
      ],
      "text/plain": [
       "      Name Platform  Year_of_Release Genre  NA_sales  EU_sales  JP_sales  \\\n",
       "659    NaN      GEN           1993.0   NaN      1.78      0.53      0.00   \n",
       "14244  NaN      GEN           1993.0   NaN      0.00      0.00      0.03   \n",
       "\n",
       "       Other_sales  Critic_Score User_Score Rating  \n",
       "659           0.08           NaN        NaN    NaN  \n",
       "14244         0.00           NaN        NaN    NaN  "
      ]
     },
     "execution_count": 6,
     "metadata": {},
     "output_type": "execute_result"
    }
   ],
   "source": [
    "#проверим сопадают ли пропуски в столбцах Name и Genre\n",
    "games_data.query('Genre != Genre')"
   ]
  },
  {
   "cell_type": "code",
   "execution_count": 7,
   "metadata": {},
   "outputs": [
    {
     "data": {
      "text/html": [
       "<div>\n",
       "<style scoped>\n",
       "    .dataframe tbody tr th:only-of-type {\n",
       "        vertical-align: middle;\n",
       "    }\n",
       "\n",
       "    .dataframe tbody tr th {\n",
       "        vertical-align: top;\n",
       "    }\n",
       "\n",
       "    .dataframe thead th {\n",
       "        text-align: right;\n",
       "    }\n",
       "</style>\n",
       "<table border=\"1\" class=\"dataframe\">\n",
       "  <thead>\n",
       "    <tr style=\"text-align: right;\">\n",
       "      <th></th>\n",
       "      <th>Name</th>\n",
       "      <th>Platform</th>\n",
       "      <th>Year_of_Release</th>\n",
       "      <th>Genre</th>\n",
       "      <th>NA_sales</th>\n",
       "      <th>EU_sales</th>\n",
       "      <th>JP_sales</th>\n",
       "      <th>Other_sales</th>\n",
       "      <th>Critic_Score</th>\n",
       "      <th>User_Score</th>\n",
       "      <th>Rating</th>\n",
       "    </tr>\n",
       "  </thead>\n",
       "  <tbody>\n",
       "    <tr>\n",
       "      <td>1</td>\n",
       "      <td>Super Mario Bros.</td>\n",
       "      <td>NES</td>\n",
       "      <td>1985.0</td>\n",
       "      <td>Platform</td>\n",
       "      <td>29.08</td>\n",
       "      <td>3.58</td>\n",
       "      <td>6.81</td>\n",
       "      <td>0.77</td>\n",
       "      <td>NaN</td>\n",
       "      <td>NaN</td>\n",
       "      <td>NaN</td>\n",
       "    </tr>\n",
       "    <tr>\n",
       "      <td>4</td>\n",
       "      <td>Pokemon Red/Pokemon Blue</td>\n",
       "      <td>GB</td>\n",
       "      <td>1996.0</td>\n",
       "      <td>Role-Playing</td>\n",
       "      <td>11.27</td>\n",
       "      <td>8.89</td>\n",
       "      <td>10.22</td>\n",
       "      <td>1.00</td>\n",
       "      <td>NaN</td>\n",
       "      <td>NaN</td>\n",
       "      <td>NaN</td>\n",
       "    </tr>\n",
       "    <tr>\n",
       "      <td>5</td>\n",
       "      <td>Tetris</td>\n",
       "      <td>GB</td>\n",
       "      <td>1989.0</td>\n",
       "      <td>Puzzle</td>\n",
       "      <td>23.20</td>\n",
       "      <td>2.26</td>\n",
       "      <td>4.22</td>\n",
       "      <td>0.58</td>\n",
       "      <td>NaN</td>\n",
       "      <td>NaN</td>\n",
       "      <td>NaN</td>\n",
       "    </tr>\n",
       "    <tr>\n",
       "      <td>9</td>\n",
       "      <td>Duck Hunt</td>\n",
       "      <td>NES</td>\n",
       "      <td>1984.0</td>\n",
       "      <td>Shooter</td>\n",
       "      <td>26.93</td>\n",
       "      <td>0.63</td>\n",
       "      <td>0.28</td>\n",
       "      <td>0.47</td>\n",
       "      <td>NaN</td>\n",
       "      <td>NaN</td>\n",
       "      <td>NaN</td>\n",
       "    </tr>\n",
       "    <tr>\n",
       "      <td>10</td>\n",
       "      <td>Nintendogs</td>\n",
       "      <td>DS</td>\n",
       "      <td>2005.0</td>\n",
       "      <td>Simulation</td>\n",
       "      <td>9.05</td>\n",
       "      <td>10.95</td>\n",
       "      <td>1.93</td>\n",
       "      <td>2.74</td>\n",
       "      <td>NaN</td>\n",
       "      <td>NaN</td>\n",
       "      <td>NaN</td>\n",
       "    </tr>\n",
       "    <tr>\n",
       "      <td>...</td>\n",
       "      <td>...</td>\n",
       "      <td>...</td>\n",
       "      <td>...</td>\n",
       "      <td>...</td>\n",
       "      <td>...</td>\n",
       "      <td>...</td>\n",
       "      <td>...</td>\n",
       "      <td>...</td>\n",
       "      <td>...</td>\n",
       "      <td>...</td>\n",
       "      <td>...</td>\n",
       "    </tr>\n",
       "    <tr>\n",
       "      <td>16710</td>\n",
       "      <td>Samurai Warriors: Sanada Maru</td>\n",
       "      <td>PS3</td>\n",
       "      <td>2016.0</td>\n",
       "      <td>Action</td>\n",
       "      <td>0.00</td>\n",
       "      <td>0.00</td>\n",
       "      <td>0.01</td>\n",
       "      <td>0.00</td>\n",
       "      <td>NaN</td>\n",
       "      <td>NaN</td>\n",
       "      <td>NaN</td>\n",
       "    </tr>\n",
       "    <tr>\n",
       "      <td>16711</td>\n",
       "      <td>LMA Manager 2007</td>\n",
       "      <td>X360</td>\n",
       "      <td>2006.0</td>\n",
       "      <td>Sports</td>\n",
       "      <td>0.00</td>\n",
       "      <td>0.01</td>\n",
       "      <td>0.00</td>\n",
       "      <td>0.00</td>\n",
       "      <td>NaN</td>\n",
       "      <td>NaN</td>\n",
       "      <td>NaN</td>\n",
       "    </tr>\n",
       "    <tr>\n",
       "      <td>16712</td>\n",
       "      <td>Haitaka no Psychedelica</td>\n",
       "      <td>PSV</td>\n",
       "      <td>2016.0</td>\n",
       "      <td>Adventure</td>\n",
       "      <td>0.00</td>\n",
       "      <td>0.00</td>\n",
       "      <td>0.01</td>\n",
       "      <td>0.00</td>\n",
       "      <td>NaN</td>\n",
       "      <td>NaN</td>\n",
       "      <td>NaN</td>\n",
       "    </tr>\n",
       "    <tr>\n",
       "      <td>16713</td>\n",
       "      <td>Spirits &amp; Spells</td>\n",
       "      <td>GBA</td>\n",
       "      <td>2003.0</td>\n",
       "      <td>Platform</td>\n",
       "      <td>0.01</td>\n",
       "      <td>0.00</td>\n",
       "      <td>0.00</td>\n",
       "      <td>0.00</td>\n",
       "      <td>NaN</td>\n",
       "      <td>NaN</td>\n",
       "      <td>NaN</td>\n",
       "    </tr>\n",
       "    <tr>\n",
       "      <td>16714</td>\n",
       "      <td>Winning Post 8 2016</td>\n",
       "      <td>PSV</td>\n",
       "      <td>2016.0</td>\n",
       "      <td>Simulation</td>\n",
       "      <td>0.00</td>\n",
       "      <td>0.00</td>\n",
       "      <td>0.01</td>\n",
       "      <td>0.00</td>\n",
       "      <td>NaN</td>\n",
       "      <td>NaN</td>\n",
       "      <td>NaN</td>\n",
       "    </tr>\n",
       "  </tbody>\n",
       "</table>\n",
       "<p>6766 rows × 11 columns</p>\n",
       "</div>"
      ],
      "text/plain": [
       "                                Name Platform  Year_of_Release         Genre  \\\n",
       "1                  Super Mario Bros.      NES           1985.0      Platform   \n",
       "4           Pokemon Red/Pokemon Blue       GB           1996.0  Role-Playing   \n",
       "5                             Tetris       GB           1989.0        Puzzle   \n",
       "9                          Duck Hunt      NES           1984.0       Shooter   \n",
       "10                        Nintendogs       DS           2005.0    Simulation   \n",
       "...                              ...      ...              ...           ...   \n",
       "16710  Samurai Warriors: Sanada Maru      PS3           2016.0        Action   \n",
       "16711               LMA Manager 2007     X360           2006.0        Sports   \n",
       "16712        Haitaka no Psychedelica      PSV           2016.0     Adventure   \n",
       "16713               Spirits & Spells      GBA           2003.0      Platform   \n",
       "16714            Winning Post 8 2016      PSV           2016.0    Simulation   \n",
       "\n",
       "       NA_sales  EU_sales  JP_sales  Other_sales  Critic_Score User_Score  \\\n",
       "1         29.08      3.58      6.81         0.77           NaN        NaN   \n",
       "4         11.27      8.89     10.22         1.00           NaN        NaN   \n",
       "5         23.20      2.26      4.22         0.58           NaN        NaN   \n",
       "9         26.93      0.63      0.28         0.47           NaN        NaN   \n",
       "10         9.05     10.95      1.93         2.74           NaN        NaN   \n",
       "...         ...       ...       ...          ...           ...        ...   \n",
       "16710      0.00      0.00      0.01         0.00           NaN        NaN   \n",
       "16711      0.00      0.01      0.00         0.00           NaN        NaN   \n",
       "16712      0.00      0.00      0.01         0.00           NaN        NaN   \n",
       "16713      0.01      0.00      0.00         0.00           NaN        NaN   \n",
       "16714      0.00      0.00      0.01         0.00           NaN        NaN   \n",
       "\n",
       "      Rating  \n",
       "1        NaN  \n",
       "4        NaN  \n",
       "5        NaN  \n",
       "9        NaN  \n",
       "10       NaN  \n",
       "...      ...  \n",
       "16710    NaN  \n",
       "16711    NaN  \n",
       "16712    NaN  \n",
       "16713    NaN  \n",
       "16714    NaN  \n",
       "\n",
       "[6766 rows x 11 columns]"
      ]
     },
     "execution_count": 7,
     "metadata": {},
     "output_type": "execute_result"
    }
   ],
   "source": [
    "#проверим правда ли рейтинг отсуствует только у старых игр\n",
    "games_data.query('Rating != Rating')"
   ]
  },
  {
   "cell_type": "markdown",
   "metadata": {},
   "source": [
    "В таблице видно, что рейтинг отсутствует также у игр выпущенных в 2016 и 2005 году, значит дело не в этом. Посмотрим дальше в чем еще может быть причина."
   ]
  },
  {
   "cell_type": "markdown",
   "metadata": {},
   "source": [
    "----"
   ]
  },
  {
   "cell_type": "markdown",
   "metadata": {},
   "source": [
    "## Подготовка данных"
   ]
  },
  {
   "cell_type": "markdown",
   "metadata": {},
   "source": [
    "### 1. Заменим названия столбцов — приведем к нижнему регистру"
   ]
  },
  {
   "cell_type": "code",
   "execution_count": 8,
   "metadata": {},
   "outputs": [],
   "source": [
    "games_data.columns = ['name', 'platform', 'year_of_release', 'genre', 'na_sales', 'eu_sales','jp_sales', \n",
    "                      'other_sales', 'critic_score', 'user_score', 'rating']"
   ]
  },
  {
   "cell_type": "markdown",
   "metadata": {},
   "source": [
    "### 2. Обработаем пропуски"
   ]
  },
  {
   "cell_type": "markdown",
   "metadata": {},
   "source": [
    "Посмотрим на пропуски в отзывах."
   ]
  },
  {
   "cell_type": "code",
   "execution_count": 9,
   "metadata": {},
   "outputs": [
    {
     "data": {
      "text/plain": [
       "8578"
      ]
     },
     "execution_count": 9,
     "metadata": {},
     "output_type": "execute_result"
    }
   ],
   "source": [
    "games_data['user_score'].isnull().sum()  #6701\n",
    "games_data['critic_score'].isnull().sum()  #8578"
   ]
  },
  {
   "cell_type": "markdown",
   "metadata": {},
   "source": [
    "В столбце critic_score 8578 пропусков, а в user_score 6701 пропуск — это много, но дальше станет понятно, что эти столбцы нужны нам, чтобы оценить данные за 1-2 последних года."
   ]
  },
  {
   "cell_type": "code",
   "execution_count": 10,
   "metadata": {},
   "outputs": [
    {
     "data": {
      "text/plain": [
       "270"
      ]
     },
     "execution_count": 10,
     "metadata": {},
     "output_type": "execute_result"
    }
   ],
   "source": [
    "games_data.query('year_of_release == 2016')['critic_score'].isnull().sum()"
   ]
  },
  {
   "cell_type": "markdown",
   "metadata": {},
   "source": [
    "Почти половина пропусков за 2016 год."
   ]
  },
  {
   "cell_type": "markdown",
   "metadata": {},
   "source": [
    "Так как нам важно определить показатели по продажам для каждой платформы, то и заполнить было был логичнее средним значением для каждой платформы, но поможет ли это? Возможно будет лучше посмотреть зависимость по тем показателям, которые уже есть, чтобы не искажать результат. Посмотрим как заполнить лучше, когда это понадобится. Будем учитывать исходя из задачи."
   ]
  },
  {
   "cell_type": "markdown",
   "metadata": {},
   "source": [
    "### 3. Преобразуем данные в нужные типы"
   ]
  },
  {
   "cell_type": "markdown",
   "metadata": {},
   "source": [
    "В столбце, где указан год 269 пропусков, и их будет сложно заменить точной датой выхода. В некоторых названиях указан год, но присвоить их автоматически не получится. Но нам нужно поменять тип данных, так как целочисленное значение больше подходит для указания года. \n",
    "\n",
    "Думаю, что заменить пропуски нулями или другими значениями будет некорректно, поэтому оставлю пропуски, а тип заменю на Int16."
   ]
  },
  {
   "cell_type": "code",
   "execution_count": 11,
   "metadata": {
    "scrolled": true
   },
   "outputs": [],
   "source": [
    "#проверим количество пропусков и изменим тип данных\n",
    "\n",
    "#games_data.query('year_of_release != year_of_release').head(20) #269 — примерно два процентра\n",
    "games_data['year_of_release'] = games_data['year_of_release'].astype('Int16')"
   ]
  },
  {
   "cell_type": "markdown",
   "metadata": {},
   "source": [
    "Дальше поменяем тип в столбце user_score, так как оценка может показать нам завиимость, а для этого ей нужен числовой тип."
   ]
  },
  {
   "cell_type": "code",
   "execution_count": 12,
   "metadata": {},
   "outputs": [
    {
     "data": {
      "text/plain": [
       "tbd    2424\n",
       "7.8     324\n",
       "8       290\n",
       "8.2     282\n",
       "8.3     254\n",
       "8.5     253\n",
       "7.5     251\n",
       "7.9     249\n",
       "8.1     244\n",
       "7.7     240\n",
       "7.3     236\n",
       "8.4     223\n",
       "7.6     220\n",
       "7       220\n",
       "7.4     215\n",
       "Name: user_score, dtype: int64"
      ]
     },
     "execution_count": 12,
     "metadata": {},
     "output_type": "execute_result"
    }
   ],
   "source": [
    "games_data['user_score'].value_counts().head(15)"
   ]
  },
  {
   "cell_type": "markdown",
   "metadata": {},
   "source": [
    "### Комментарий\n",
    "\n",
    "Кроме числовых значений, здесь встречается значение «tbd». Буквы tba означают to be announced. Перевод простой — «будет объявлено дополнительно». Вероятно, это пометка означает, что оценка не выставлена, но должна быть. Таких значений много и они не помогут нам определить зависимость. Оставим ее как есть, потому что заменять нет смысла — мы исказим результат. Поменяем тип обходя это значение, а сравнивать будем только по числовым."
   ]
  },
  {
   "cell_type": "code",
   "execution_count": 13,
   "metadata": {},
   "outputs": [],
   "source": [
    "games_data['user_score'] = pd.to_numeric(games_data.query('user_score != \"tbd\"')['user_score'])"
   ]
  },
  {
   "cell_type": "markdown",
   "metadata": {},
   "source": [
    "### 4. Найдем суммарные продажи во всех регионах"
   ]
  },
  {
   "cell_type": "code",
   "execution_count": 14,
   "metadata": {},
   "outputs": [
    {
     "data": {
      "text/plain": [
       "0"
      ]
     },
     "execution_count": 14,
     "metadata": {},
     "output_type": "execute_result"
    }
   ],
   "source": [
    "#проверим есть ли пропуски в столбце с прожажами, прежде чем считать сумму\n",
    "\n",
    "#games_data['eu_sales'].isnull().sum()\n",
    "#games_data['na_sales'].isnull().sum()\n",
    "#games_data['jp_sales'].isnull().sum()\n",
    "games_data['other_sales'].isnull().sum() #пропусков нет"
   ]
  },
  {
   "cell_type": "code",
   "execution_count": 15,
   "metadata": {},
   "outputs": [
    {
     "data": {
      "text/html": [
       "<div>\n",
       "<style scoped>\n",
       "    .dataframe tbody tr th:only-of-type {\n",
       "        vertical-align: middle;\n",
       "    }\n",
       "\n",
       "    .dataframe tbody tr th {\n",
       "        vertical-align: top;\n",
       "    }\n",
       "\n",
       "    .dataframe thead th {\n",
       "        text-align: right;\n",
       "    }\n",
       "</style>\n",
       "<table border=\"1\" class=\"dataframe\">\n",
       "  <thead>\n",
       "    <tr style=\"text-align: right;\">\n",
       "      <th></th>\n",
       "      <th>name</th>\n",
       "      <th>platform</th>\n",
       "      <th>year_of_release</th>\n",
       "      <th>genre</th>\n",
       "      <th>na_sales</th>\n",
       "      <th>eu_sales</th>\n",
       "      <th>jp_sales</th>\n",
       "      <th>other_sales</th>\n",
       "      <th>critic_score</th>\n",
       "      <th>user_score</th>\n",
       "      <th>rating</th>\n",
       "      <th>total_sales</th>\n",
       "    </tr>\n",
       "  </thead>\n",
       "  <tbody>\n",
       "    <tr>\n",
       "      <td>0</td>\n",
       "      <td>Wii Sports</td>\n",
       "      <td>Wii</td>\n",
       "      <td>2006</td>\n",
       "      <td>Sports</td>\n",
       "      <td>41.36</td>\n",
       "      <td>28.96</td>\n",
       "      <td>3.77</td>\n",
       "      <td>8.45</td>\n",
       "      <td>76.0</td>\n",
       "      <td>8.0</td>\n",
       "      <td>E</td>\n",
       "      <td>82</td>\n",
       "    </tr>\n",
       "    <tr>\n",
       "      <td>1</td>\n",
       "      <td>Super Mario Bros.</td>\n",
       "      <td>NES</td>\n",
       "      <td>1985</td>\n",
       "      <td>Platform</td>\n",
       "      <td>29.08</td>\n",
       "      <td>3.58</td>\n",
       "      <td>6.81</td>\n",
       "      <td>0.77</td>\n",
       "      <td>NaN</td>\n",
       "      <td>NaN</td>\n",
       "      <td>NaN</td>\n",
       "      <td>40</td>\n",
       "    </tr>\n",
       "    <tr>\n",
       "      <td>2</td>\n",
       "      <td>Mario Kart Wii</td>\n",
       "      <td>Wii</td>\n",
       "      <td>2008</td>\n",
       "      <td>Racing</td>\n",
       "      <td>15.68</td>\n",
       "      <td>12.76</td>\n",
       "      <td>3.79</td>\n",
       "      <td>3.29</td>\n",
       "      <td>82.0</td>\n",
       "      <td>8.3</td>\n",
       "      <td>E</td>\n",
       "      <td>35</td>\n",
       "    </tr>\n",
       "    <tr>\n",
       "      <td>3</td>\n",
       "      <td>Wii Sports Resort</td>\n",
       "      <td>Wii</td>\n",
       "      <td>2009</td>\n",
       "      <td>Sports</td>\n",
       "      <td>15.61</td>\n",
       "      <td>10.93</td>\n",
       "      <td>3.28</td>\n",
       "      <td>2.95</td>\n",
       "      <td>80.0</td>\n",
       "      <td>8.0</td>\n",
       "      <td>E</td>\n",
       "      <td>32</td>\n",
       "    </tr>\n",
       "    <tr>\n",
       "      <td>4</td>\n",
       "      <td>Pokemon Red/Pokemon Blue</td>\n",
       "      <td>GB</td>\n",
       "      <td>1996</td>\n",
       "      <td>Role-Playing</td>\n",
       "      <td>11.27</td>\n",
       "      <td>8.89</td>\n",
       "      <td>10.22</td>\n",
       "      <td>1.00</td>\n",
       "      <td>NaN</td>\n",
       "      <td>NaN</td>\n",
       "      <td>NaN</td>\n",
       "      <td>31</td>\n",
       "    </tr>\n",
       "  </tbody>\n",
       "</table>\n",
       "</div>"
      ],
      "text/plain": [
       "                       name platform  year_of_release         genre  na_sales  \\\n",
       "0                Wii Sports      Wii             2006        Sports     41.36   \n",
       "1         Super Mario Bros.      NES             1985      Platform     29.08   \n",
       "2            Mario Kart Wii      Wii             2008        Racing     15.68   \n",
       "3         Wii Sports Resort      Wii             2009        Sports     15.61   \n",
       "4  Pokemon Red/Pokemon Blue       GB             1996  Role-Playing     11.27   \n",
       "\n",
       "   eu_sales  jp_sales  other_sales  critic_score  user_score rating  \\\n",
       "0     28.96      3.77         8.45          76.0         8.0      E   \n",
       "1      3.58      6.81         0.77           NaN         NaN    NaN   \n",
       "2     12.76      3.79         3.29          82.0         8.3      E   \n",
       "3     10.93      3.28         2.95          80.0         8.0      E   \n",
       "4      8.89     10.22         1.00           NaN         NaN    NaN   \n",
       "\n",
       "   total_sales  \n",
       "0           82  \n",
       "1           40  \n",
       "2           35  \n",
       "3           32  \n",
       "4           31  "
      ]
     },
     "execution_count": 15,
     "metadata": {},
     "output_type": "execute_result"
    }
   ],
   "source": [
    "#посчитаем сумму продаж по всем регионам и сохраним в отдельный столбец total_sales\n",
    "games_data['total_sales'] = games_data['na_sales'] + games_data['eu_sales'] + games_data['jp_sales'] + games_data['other_sales']\n",
    "\n",
    "#заменим тип данных, чтобы в столбце были целочисленные значения\n",
    "games_data['total_sales'] = games_data['total_sales'].astype('int')\n",
    "\n",
    "games_data.head()"
   ]
  },
  {
   "cell_type": "markdown",
   "metadata": {},
   "source": [
    "Эти данные помогут нам позже составить рейтинги, чтобы проверить гипотезы и прописать портрет пользователя."
   ]
  },
  {
   "cell_type": "markdown",
   "metadata": {},
   "source": [
    "----"
   ]
  },
  {
   "cell_type": "markdown",
   "metadata": {},
   "source": [
    "# <a id=\"two\"> Исследовательский анализ данных</a>"
   ]
  },
  {
   "cell_type": "markdown",
   "metadata": {},
   "source": [
    "Чтобы сделать прогноз на следующий год, нужно проанализировать несколько аспектов и выбрать наиболее важные показатели. В этом разделе рассмотрим:\n",
    "- Cколько игр выпускалось в разные годы?\n",
    "- Как менялись продажи по платформам?\n",
    "- Какая платформа потенциально прибыльная?\n",
    "- Как менялись глобальные продажи игр в разбивке по платформам?\n",
    "- Как влияют отзывы пользователей и критиков на продажи?\n",
    "- Что можно сказать о самых прибыльных жанрах? Выделяются ли жанры с высокими и низкими продажами?"
   ]
  },
  {
   "cell_type": "markdown",
   "metadata": {},
   "source": [
    "## Cколько игр выпускалось в разные годы"
   ]
  },
  {
   "cell_type": "markdown",
   "metadata": {},
   "source": [
    "Посчитаем сколько игр было выпущено в каждый год, чтобы понять, за какие годы данные нужны нам для анализа."
   ]
  },
  {
   "cell_type": "code",
   "execution_count": 16,
   "metadata": {
    "scrolled": true
   },
   "outputs": [
    {
     "data": {
      "text/plain": [
       "2008    1427\n",
       "2009    1426\n",
       "2010    1255\n",
       "2007    1197\n",
       "2011    1136\n",
       "2006    1006\n",
       "2005     939\n",
       "2002     829\n",
       "2003     775\n",
       "2004     762\n",
       "2012     653\n",
       "2015     606\n",
       "2014     581\n",
       "2013     544\n",
       "2016     502\n",
       "2001     482\n",
       "1998     379\n",
       "2000     350\n",
       "1999     338\n",
       "1997     289\n",
       "1996     263\n",
       "1995     219\n",
       "1994     121\n",
       "1993      62\n",
       "1981      46\n",
       "1992      43\n",
       "1991      41\n",
       "1982      36\n",
       "1986      21\n",
       "1983      17\n",
       "1989      17\n",
       "1987      16\n",
       "1990      16\n",
       "1988      15\n",
       "1984      14\n",
       "1985      14\n",
       "1980       9\n",
       "Name: year_of_release, dtype: int64"
      ]
     },
     "execution_count": 16,
     "metadata": {},
     "output_type": "execute_result"
    }
   ],
   "source": [
    "#найдем количество выпущенных игр за каждый год\n",
    "games_data['year_of_release'].value_counts()"
   ]
  },
  {
   "cell_type": "markdown",
   "metadata": {},
   "source": [
    "#### Комментарий\n",
    "\n",
    "Больше всего данных представлено с 2006 по 2011 годы, но нам нужно дать прогноз на 2017 года, так что для анализа оставим данные за 2016 и 2015 годы. За 2016 было выпущено 502 игры, а за 2015 - 606 игр. Мне кажется, что также можно посмотреть выходили ли эти игры в предыдущие года и посмотреть были ли они популярны. Ведь игры часто выпускают обновленными или просто с новыми частями. Так мы получим немного больше информации, раз у нас есть данные за прошлые года."
   ]
  },
  {
   "cell_type": "code",
   "execution_count": 17,
   "metadata": {},
   "outputs": [
    {
     "data": {
      "text/html": [
       "<div>\n",
       "<style scoped>\n",
       "    .dataframe tbody tr th:only-of-type {\n",
       "        vertical-align: middle;\n",
       "    }\n",
       "\n",
       "    .dataframe tbody tr th {\n",
       "        vertical-align: top;\n",
       "    }\n",
       "\n",
       "    .dataframe thead th {\n",
       "        text-align: right;\n",
       "    }\n",
       "</style>\n",
       "<table border=\"1\" class=\"dataframe\">\n",
       "  <thead>\n",
       "    <tr style=\"text-align: right;\">\n",
       "      <th></th>\n",
       "      <th>name</th>\n",
       "      <th>platform</th>\n",
       "      <th>year_of_release</th>\n",
       "      <th>genre</th>\n",
       "      <th>na_sales</th>\n",
       "      <th>eu_sales</th>\n",
       "      <th>jp_sales</th>\n",
       "      <th>other_sales</th>\n",
       "      <th>critic_score</th>\n",
       "      <th>user_score</th>\n",
       "      <th>rating</th>\n",
       "      <th>total_sales</th>\n",
       "    </tr>\n",
       "  </thead>\n",
       "  <tbody>\n",
       "    <tr>\n",
       "      <td>94</td>\n",
       "      <td>FIFA 17</td>\n",
       "      <td>PS4</td>\n",
       "      <td>2016</td>\n",
       "      <td>Sports</td>\n",
       "      <td>0.66</td>\n",
       "      <td>5.75</td>\n",
       "      <td>0.08</td>\n",
       "      <td>1.11</td>\n",
       "      <td>85.0</td>\n",
       "      <td>5.0</td>\n",
       "      <td>E</td>\n",
       "      <td>7</td>\n",
       "    </tr>\n",
       "    <tr>\n",
       "      <td>108</td>\n",
       "      <td>Pokemon Sun/Moon</td>\n",
       "      <td>3DS</td>\n",
       "      <td>2016</td>\n",
       "      <td>Role-Playing</td>\n",
       "      <td>2.98</td>\n",
       "      <td>1.45</td>\n",
       "      <td>2.26</td>\n",
       "      <td>0.45</td>\n",
       "      <td>NaN</td>\n",
       "      <td>NaN</td>\n",
       "      <td>NaN</td>\n",
       "      <td>7</td>\n",
       "    </tr>\n",
       "    <tr>\n",
       "      <td>171</td>\n",
       "      <td>Uncharted 4: A Thief's End</td>\n",
       "      <td>PS4</td>\n",
       "      <td>2016</td>\n",
       "      <td>Shooter</td>\n",
       "      <td>1.85</td>\n",
       "      <td>2.50</td>\n",
       "      <td>0.19</td>\n",
       "      <td>0.85</td>\n",
       "      <td>93.0</td>\n",
       "      <td>7.9</td>\n",
       "      <td>T</td>\n",
       "      <td>5</td>\n",
       "    </tr>\n",
       "    <tr>\n",
       "      <td>245</td>\n",
       "      <td>Call of Duty: Infinite Warfare</td>\n",
       "      <td>PS4</td>\n",
       "      <td>2016</td>\n",
       "      <td>Shooter</td>\n",
       "      <td>1.61</td>\n",
       "      <td>2.00</td>\n",
       "      <td>0.15</td>\n",
       "      <td>0.71</td>\n",
       "      <td>77.0</td>\n",
       "      <td>3.4</td>\n",
       "      <td>M</td>\n",
       "      <td>4</td>\n",
       "    </tr>\n",
       "    <tr>\n",
       "      <td>289</td>\n",
       "      <td>Battlefield 1</td>\n",
       "      <td>PS4</td>\n",
       "      <td>2016</td>\n",
       "      <td>Shooter</td>\n",
       "      <td>1.10</td>\n",
       "      <td>2.15</td>\n",
       "      <td>0.21</td>\n",
       "      <td>0.61</td>\n",
       "      <td>88.0</td>\n",
       "      <td>8.4</td>\n",
       "      <td>M</td>\n",
       "      <td>4</td>\n",
       "    </tr>\n",
       "  </tbody>\n",
       "</table>\n",
       "</div>"
      ],
      "text/plain": [
       "                               name platform  year_of_release         genre  \\\n",
       "94                          FIFA 17      PS4             2016        Sports   \n",
       "108                Pokemon Sun/Moon      3DS             2016  Role-Playing   \n",
       "171      Uncharted 4: A Thief's End      PS4             2016       Shooter   \n",
       "245  Call of Duty: Infinite Warfare      PS4             2016       Shooter   \n",
       "289                   Battlefield 1      PS4             2016       Shooter   \n",
       "\n",
       "     na_sales  eu_sales  jp_sales  other_sales  critic_score  user_score  \\\n",
       "94       0.66      5.75      0.08         1.11          85.0         5.0   \n",
       "108      2.98      1.45      2.26         0.45           NaN         NaN   \n",
       "171      1.85      2.50      0.19         0.85          93.0         7.9   \n",
       "245      1.61      2.00      0.15         0.71          77.0         3.4   \n",
       "289      1.10      2.15      0.21         0.61          88.0         8.4   \n",
       "\n",
       "    rating  total_sales  \n",
       "94       E            7  \n",
       "108    NaN            7  \n",
       "171      T            5  \n",
       "245      M            4  \n",
       "289      M            4  "
      ]
     },
     "execution_count": 17,
     "metadata": {},
     "output_type": "execute_result"
    }
   ],
   "source": [
    "#посмотрим на срез за 2016 год\n",
    "games_data.query('year_of_release == 2016').head()"
   ]
  },
  {
   "cell_type": "code",
   "execution_count": 18,
   "metadata": {},
   "outputs": [
    {
     "data": {
      "text/html": [
       "<div>\n",
       "<style scoped>\n",
       "    .dataframe tbody tr th:only-of-type {\n",
       "        vertical-align: middle;\n",
       "    }\n",
       "\n",
       "    .dataframe tbody tr th {\n",
       "        vertical-align: top;\n",
       "    }\n",
       "\n",
       "    .dataframe thead th {\n",
       "        text-align: right;\n",
       "    }\n",
       "</style>\n",
       "<table border=\"1\" class=\"dataframe\">\n",
       "  <thead>\n",
       "    <tr style=\"text-align: right;\">\n",
       "      <th></th>\n",
       "      <th>name</th>\n",
       "      <th>platform</th>\n",
       "      <th>year_of_release</th>\n",
       "      <th>genre</th>\n",
       "      <th>na_sales</th>\n",
       "      <th>eu_sales</th>\n",
       "      <th>jp_sales</th>\n",
       "      <th>other_sales</th>\n",
       "      <th>critic_score</th>\n",
       "      <th>user_score</th>\n",
       "      <th>rating</th>\n",
       "      <th>total_sales</th>\n",
       "    </tr>\n",
       "  </thead>\n",
       "  <tbody>\n",
       "    <tr>\n",
       "      <td>31</td>\n",
       "      <td>Call of Duty: Black Ops 3</td>\n",
       "      <td>PS4</td>\n",
       "      <td>2015</td>\n",
       "      <td>Shooter</td>\n",
       "      <td>6.03</td>\n",
       "      <td>5.86</td>\n",
       "      <td>0.36</td>\n",
       "      <td>2.38</td>\n",
       "      <td>NaN</td>\n",
       "      <td>NaN</td>\n",
       "      <td>NaN</td>\n",
       "      <td>14</td>\n",
       "    </tr>\n",
       "    <tr>\n",
       "      <td>77</td>\n",
       "      <td>FIFA 16</td>\n",
       "      <td>PS4</td>\n",
       "      <td>2015</td>\n",
       "      <td>Sports</td>\n",
       "      <td>1.12</td>\n",
       "      <td>6.12</td>\n",
       "      <td>0.06</td>\n",
       "      <td>1.28</td>\n",
       "      <td>82.0</td>\n",
       "      <td>4.3</td>\n",
       "      <td>E</td>\n",
       "      <td>8</td>\n",
       "    </tr>\n",
       "    <tr>\n",
       "      <td>87</td>\n",
       "      <td>Star Wars Battlefront (2015)</td>\n",
       "      <td>PS4</td>\n",
       "      <td>2015</td>\n",
       "      <td>Shooter</td>\n",
       "      <td>2.99</td>\n",
       "      <td>3.49</td>\n",
       "      <td>0.22</td>\n",
       "      <td>1.28</td>\n",
       "      <td>NaN</td>\n",
       "      <td>NaN</td>\n",
       "      <td>NaN</td>\n",
       "      <td>7</td>\n",
       "    </tr>\n",
       "  </tbody>\n",
       "</table>\n",
       "</div>"
      ],
      "text/plain": [
       "                            name platform  year_of_release    genre  na_sales  \\\n",
       "31     Call of Duty: Black Ops 3      PS4             2015  Shooter      6.03   \n",
       "77                       FIFA 16      PS4             2015   Sports      1.12   \n",
       "87  Star Wars Battlefront (2015)      PS4             2015  Shooter      2.99   \n",
       "\n",
       "    eu_sales  jp_sales  other_sales  critic_score  user_score rating  \\\n",
       "31      5.86      0.36         2.38           NaN         NaN    NaN   \n",
       "77      6.12      0.06         1.28          82.0         4.3      E   \n",
       "87      3.49      0.22         1.28           NaN         NaN    NaN   \n",
       "\n",
       "    total_sales  \n",
       "31           14  \n",
       "77            8  \n",
       "87            7  "
      ]
     },
     "execution_count": 18,
     "metadata": {},
     "output_type": "execute_result"
    }
   ],
   "source": [
    "#посмотрим на данные за предыдущие годы\n",
    "\n",
    "#games_data.query('year_of_release == 2013').head(10) \n",
    "#games_data.query('year_of_release == 2014').head(10) \n",
    "games_data.query('year_of_release == 2015').head(3)"
   ]
  },
  {
   "cell_type": "markdown",
   "metadata": {},
   "source": [
    "#### Комментарий\n",
    "\n",
    "Вот, например, игры FIFA и Call of Duty выходили два года подряд, так что можно посмотреть на их популярность в предыдущие годы. "
   ]
  },
  {
   "cell_type": "code",
   "execution_count": 19,
   "metadata": {},
   "outputs": [
    {
     "data": {
      "image/png": "[encoded data removed]",
      "text/plain": [
       "<Figure size 504x360 with 1 Axes>"
      ]
     },
     "metadata": {
      "needs_background": "light"
     },
     "output_type": "display_data"
    }
   ],
   "source": [
    "#построим распределение выпущенныхх игр по годам\n",
    "games_data['year_of_release'].plot(kind='hist', color='darkcyan', bins=15, grid=True, figsize=(7,5), \n",
    "                                   title='Распределение количества игр по годам')\n",
    "plt.xlabel('Годы')\n",
    "plt.ylabel('Количество игр')\n",
    "\n",
    "plt.show()"
   ]
  },
  {
   "cell_type": "code",
   "execution_count": 20,
   "metadata": {},
   "outputs": [
    {
     "data": {
      "text/plain": [
       "SNES    202\n",
       "PS      116\n",
       "2600    116\n",
       "NES      98\n",
       "SAT      71\n",
       "GB       37\n",
       "GEN      29\n",
       "PC       15\n",
       "NG       10\n",
       "SCD       6\n",
       "3DO       3\n",
       "TG16      2\n",
       "DS        1\n",
       "GG        1\n",
       "Name: platform, dtype: int64"
      ]
     },
     "execution_count": 20,
     "metadata": {},
     "output_type": "execute_result"
    }
   ],
   "source": [
    "#games_data.query('year_of_release <= 1995') #707\n",
    "games_data.query('year_of_release <= 1995')['platform'].value_counts()"
   ]
  },
  {
   "cell_type": "markdown",
   "metadata": {},
   "source": [
    "### Промежуточный вывод\n",
    "\n",
    "Мы не знаем все ли данные были занесены в эту таблицу, но на распределение видно, что до 2010 года количество выпущенных игр увеличивалось, а после начало снижаться. До 1995 года игр выпускалось очень мало — меньше 400 в год. За 15 лет, с 1980 по 1995 годы было выпущено всего 707 игр. \n",
    "\n",
    "Вероятно это связано не только с тем, что индустрия тогда только зарождалась, но и с тем, что самые популярные приставки тогда еще [не были запущены](https://ru.wikipedia.org/wiki/%D0%A1%D0%BF%D0%B8%D1%81%D0%BE%D0%BA_%D0%B8%D0%B3%D1%80%D0%BE%D0%B2%D1%8B%D1%85_%D0%BA%D0%BE%D0%BD%D1%81%D0%BE%D0%BB%D0%B5%D0%B9). Например, PlayStation появилась в 1994 году, Xbox в 2001, а Game Boy Advance в 2000 году. А продажи Nintendo Wii были запущены в 2006 году — именно в тот года количество выпущенных игр превысило 1000 в год. "
   ]
  },
  {
   "cell_type": "markdown",
   "metadata": {},
   "source": [
    "-----"
   ]
  },
  {
   "cell_type": "markdown",
   "metadata": {},
   "source": [
    "## Как менялись продажи по платформам"
   ]
  },
  {
   "cell_type": "markdown",
   "metadata": {},
   "source": [
    "Проверим как менялись продажи по платформам. Для этого выберем платформы с наибольшими суммарными продажами и построим распределение по годам. Это поможет нам понять за какой характерный срок появляются новые и исчезают старые платформы."
   ]
  },
  {
   "cell_type": "code",
   "execution_count": 21,
   "metadata": {},
   "outputs": [
    {
     "data": {
      "text/html": [
       "<div>\n",
       "<style scoped>\n",
       "    .dataframe tbody tr th:only-of-type {\n",
       "        vertical-align: middle;\n",
       "    }\n",
       "\n",
       "    .dataframe tbody tr th {\n",
       "        vertical-align: top;\n",
       "    }\n",
       "\n",
       "    .dataframe thead th {\n",
       "        text-align: right;\n",
       "    }\n",
       "</style>\n",
       "<table border=\"1\" class=\"dataframe\">\n",
       "  <thead>\n",
       "    <tr style=\"text-align: right;\">\n",
       "      <th></th>\n",
       "      <th>total_sales</th>\n",
       "    </tr>\n",
       "    <tr>\n",
       "      <th>platform</th>\n",
       "      <th></th>\n",
       "    </tr>\n",
       "  </thead>\n",
       "  <tbody>\n",
       "    <tr>\n",
       "      <td>PS2</td>\n",
       "      <td>645</td>\n",
       "    </tr>\n",
       "    <tr>\n",
       "      <td>X360</td>\n",
       "      <td>588</td>\n",
       "    </tr>\n",
       "    <tr>\n",
       "      <td>Wii</td>\n",
       "      <td>563</td>\n",
       "    </tr>\n",
       "    <tr>\n",
       "      <td>PS3</td>\n",
       "      <td>528</td>\n",
       "    </tr>\n",
       "    <tr>\n",
       "      <td>DS</td>\n",
       "      <td>414</td>\n",
       "    </tr>\n",
       "    <tr>\n",
       "      <td>PS</td>\n",
       "      <td>384</td>\n",
       "    </tr>\n",
       "    <tr>\n",
       "      <td>GB</td>\n",
       "      <td>220</td>\n",
       "    </tr>\n",
       "    <tr>\n",
       "      <td>NES</td>\n",
       "      <td>211</td>\n",
       "    </tr>\n",
       "    <tr>\n",
       "      <td>PS4</td>\n",
       "      <td>205</td>\n",
       "    </tr>\n",
       "    <tr>\n",
       "      <td>3DS</td>\n",
       "      <td>151</td>\n",
       "    </tr>\n",
       "  </tbody>\n",
       "</table>\n",
       "</div>"
      ],
      "text/plain": [
       "          total_sales\n",
       "platform             \n",
       "PS2               645\n",
       "X360              588\n",
       "Wii               563\n",
       "PS3               528\n",
       "DS                414\n",
       "PS                384\n",
       "GB                220\n",
       "NES               211\n",
       "PS4               205\n",
       "3DS               151"
      ]
     },
     "execution_count": 21,
     "metadata": {},
     "output_type": "execute_result"
    }
   ],
   "source": [
    "#найдем общую сумму продаж для каждой платформы за все годы\n",
    "\n",
    "games_data.pivot_table(index='platform', values='total_sales', aggfunc='sum').sort_values(by='total_sales', \n",
    "                                                                                          ascending=False).head(10)"
   ]
  },
  {
   "cell_type": "code",
   "execution_count": 22,
   "metadata": {},
   "outputs": [
    {
     "data": {
      "text/plain": [
       "2008    492\n",
       "2009    403\n",
       "2007    376\n",
       "2010    323\n",
       "2006    201\n",
       "2011    153\n",
       "2005    118\n",
       "2004     23\n",
       "2012     23\n",
       "2013      8\n",
       "1985      1\n",
       "Name: year_of_release, dtype: int64"
      ]
     },
     "execution_count": 22,
     "metadata": {},
     "output_type": "execute_result"
    }
   ],
   "source": [
    "#на примере одной платформы из топа, проверим до какого года для нее выпускали игры\n",
    "games_data.query('platform == \"DS\"')['year_of_release'].value_counts()"
   ]
  },
  {
   "cell_type": "markdown",
   "metadata": {},
   "source": [
    "### Комментарий\n",
    "\n",
    "Если построить график по этим даннным, то мы увидим, что платформы, которые лидирует здесь могут вообще не иметь продаж в последние несколько лет. Например, Nintendo DS суммарно заработал 414 миллионов, но после 2013 для этой платформы ничего не выпускали, значит не стоит влючать ее в распределение."
   ]
  },
  {
   "cell_type": "code",
   "execution_count": 23,
   "metadata": {},
   "outputs": [
    {
     "data": {
      "text/html": [
       "<div>\n",
       "<style scoped>\n",
       "    .dataframe tbody tr th:only-of-type {\n",
       "        vertical-align: middle;\n",
       "    }\n",
       "\n",
       "    .dataframe tbody tr th {\n",
       "        vertical-align: top;\n",
       "    }\n",
       "\n",
       "    .dataframe thead th {\n",
       "        text-align: right;\n",
       "    }\n",
       "</style>\n",
       "<table border=\"1\" class=\"dataframe\">\n",
       "  <thead>\n",
       "    <tr style=\"text-align: right;\">\n",
       "      <th></th>\n",
       "      <th>total_sales</th>\n",
       "    </tr>\n",
       "    <tr>\n",
       "      <th>platform</th>\n",
       "      <th></th>\n",
       "    </tr>\n",
       "  </thead>\n",
       "  <tbody>\n",
       "    <tr>\n",
       "      <td>PS4</td>\n",
       "      <td>205</td>\n",
       "    </tr>\n",
       "    <tr>\n",
       "      <td>PS3</td>\n",
       "      <td>97</td>\n",
       "    </tr>\n",
       "    <tr>\n",
       "      <td>XOne</td>\n",
       "      <td>96</td>\n",
       "    </tr>\n",
       "    <tr>\n",
       "      <td>3DS</td>\n",
       "      <td>87</td>\n",
       "    </tr>\n",
       "    <tr>\n",
       "      <td>X360</td>\n",
       "      <td>80</td>\n",
       "    </tr>\n",
       "    <tr>\n",
       "      <td>WiiU</td>\n",
       "      <td>35</td>\n",
       "    </tr>\n",
       "    <tr>\n",
       "      <td>PC</td>\n",
       "      <td>9</td>\n",
       "    </tr>\n",
       "    <tr>\n",
       "      <td>Wii</td>\n",
       "      <td>8</td>\n",
       "    </tr>\n",
       "    <tr>\n",
       "      <td>PSV</td>\n",
       "      <td>1</td>\n",
       "    </tr>\n",
       "    <tr>\n",
       "      <td>DS</td>\n",
       "      <td>0</td>\n",
       "    </tr>\n",
       "    <tr>\n",
       "      <td>PSP</td>\n",
       "      <td>0</td>\n",
       "    </tr>\n",
       "  </tbody>\n",
       "</table>\n",
       "</div>"
      ],
      "text/plain": [
       "          total_sales\n",
       "platform             \n",
       "PS4               205\n",
       "PS3                97\n",
       "XOne               96\n",
       "3DS                87\n",
       "X360               80\n",
       "WiiU               35\n",
       "PC                  9\n",
       "Wii                 8\n",
       "PSV                 1\n",
       "DS                  0\n",
       "PSP                 0"
      ]
     },
     "execution_count": 23,
     "metadata": {},
     "output_type": "execute_result"
    }
   ],
   "source": [
    "#найдем суммарную выручку для платформа, которые выпускали игры в том числе с 2013 по 2016 год\n",
    "\n",
    "total_sales_2013_2016 = (games_data\n",
    "    .query('year_of_release == [2013,2014,2015,2016]')\n",
    "    .pivot_table(index='platform', values='total_sales', aggfunc='sum')\n",
    "    .sort_values(by='total_sales', ascending=False)\n",
    ")\n",
    "\n",
    "total_sales_2013_2016"
   ]
  },
  {
   "cell_type": "code",
   "execution_count": 24,
   "metadata": {},
   "outputs": [
    {
     "data": {
      "image/png": "[encoded data removed]",
      "text/plain": [
       "<Figure size 1080x360 with 1 Axes>"
      ]
     },
     "metadata": {
      "needs_background": "light"
     },
     "output_type": "display_data"
    }
   ],
   "source": [
    "#построим распределение выручки за четыре года по девяти топовым платформам\n",
    "#оставим только нужные столбцы\n",
    "\n",
    "(games_data[['platform','year_of_release','total_sales']] \n",
    " #оставим только нужные года\n",
    " .query('year_of_release == [2013,2014,2015,2016]')   \n",
    " #оставим только нужные платформы\n",
    " .query('platform == [\"PSP\",\"PS4\", \"PS3\", \"XOne\", \"3DS\", \"X360\", \"WiiU\", \"PC\", \"Wii\",\"DS\"]')\n",
    " #сгруппируем по платформам, чтобы получить суммарную выручку за каждый год по каждой платформе\n",
    " .pivot_table(index='platform', columns='year_of_release', values='total_sales', aggfunc='sum')\n",
    " .plot(kind='bar', alpha=0.5, figsize=(15,5), grid=True, color=('darkgray', 'darkcyan', 'lightcoral', 'darkred'))\n",
    ")\n",
    "\n",
    "plt.title('Диаграмма для платформ с максимальной выручкой с 2013 по 2016 год')\n",
    "plt.xlabel('Платформы')\n",
    "plt.ylabel('Продажи в миллионах долларов')\n",
    "\n",
    "plt.show()"
   ]
  },
  {
   "cell_type": "code",
   "execution_count": 26,
   "metadata": {},
   "outputs": [
    {
     "data": {
      "image/png": "[encoded data removed]",
      "text/plain": [
       "<Figure size 1080x360 with 1 Axes>"
      ]
     },
     "metadata": {
      "needs_background": "light"
     },
     "output_type": "display_data"
    }
   ],
   "source": [
    "#построим распределение выручки за четыре года по девяти топовым платформам\n",
    "#оставим только нужные столбцы\n",
    "\n",
    "(games_data[['platform','year_of_release','total_sales']] \n",
    " #оставим только нужные года\n",
    " .query('year_of_release == [2013,2014,2015,2016]')   \n",
    " #оставим только нужные платформы\n",
    " .query('platform == [\"PSP\",\"PS4\", \"PS3\", \"XOne\", \"3DS\", \"X360\", \"WiiU\", \"PC\", \"Wii\",\"DS\"]')\n",
    " #сгруппируем по платформам, чтобы получить суммарную выручку за каждый год по каждой платформе\n",
    " .pivot_table(index='year_of_release', columns='platform', values='total_sales', aggfunc='sum')\n",
    " .plot(alpha=0.95, figsize=(15,5), grid=True, marker='v')\n",
    ")\n",
    "\n",
    "plt.title('Диаграмма для платформ с максимальной выручкой с 2013 по 2016 год')\n",
    "plt.xlabel('Годы')\n",
    "plt.ylabel('Продажи в миллионах долларов')\n",
    "\n",
    "plt.show()"
   ]
  },
  {
   "cell_type": "markdown",
   "metadata": {},
   "source": [
    "## Комментарий\n",
    "\n",
    "На графике представлены:\n",
    "- PC — персональный компьютер\n",
    "\n",
    "\n",
    "- Nintendo DS — 2004\n",
    "- Nintendo Wii — 2006\n",
    "- Nintendo 3DS — 2011\n",
    "- Nintendo Wii U — 2012\n",
    "\n",
    "\n",
    "- PSP (PlayStation Portable) — первые продажи консоли были начаты в Японии в **2004** году\n",
    "- PlayStation 3 — выход PS3 в Японии состоялся в **2006** году\n",
    "- PlayStation 4 — продажи начались в **2013** году\n",
    "\n",
    "\n",
    "- Xbox 360 — запущен в продажу **2005** года \n",
    "- Xbox One — первые продажи начались в **2013** году\n",
    "\n",
    "\n",
    "- В 2013 году лидировали PS3, X360 и 3DS\n",
    "- В 2014 году: PS4, XOne и 3DS\n",
    "- В 2015 году: PS4 и XOne\n",
    "- В 2016 году: PS4 и XOne\n",
    "\n",
    "По этим данным можно проследить как менялись продажи по платформам, за какой характерный срок появляются новые и исчезают старые платформы, как часто компании выпуcкают новые версии приставок, как растут и падают продажи по каждой.\n"
   ]
  },
  {
   "cell_type": "markdown",
   "metadata": {},
   "source": [
    "----"
   ]
  },
  {
   "cell_type": "markdown",
   "metadata": {},
   "source": [
    "## За какой характерный срок появляются новые и исчезают старые платформы"
   ]
  },
  {
   "cell_type": "markdown",
   "metadata": {},
   "source": [
    "Для того, что определить за какой характерный срок появляются новые и исчезают старые платформы, проанализируем данные с 2005 года по 2016, так как в 2005 году появилась в продаже одна из популярных консолей Xbox 360.\n",
    "\n",
    "**Актуальным же можно считать период с 2012 по 2016 год, так как в 2012 начали появляться новые консоли и терять продажи старые платформы. Это можно считать «закатом эпохи» старых консолей**."
   ]
  },
  {
   "cell_type": "code",
   "execution_count": 27,
   "metadata": {},
   "outputs": [],
   "source": [
    "#оставим только данные с 2005 года\n",
    "games_data_after_2005 = games_data.query('year_of_release >= 2005')"
   ]
  },
  {
   "cell_type": "code",
   "execution_count": 28,
   "metadata": {},
   "outputs": [
    {
     "data": {
      "image/png": "[encoded data removed]",
      "text/plain": [
       "<Figure size 1080x360 with 1 Axes>"
      ]
     },
     "metadata": {
      "needs_background": "light"
     },
     "output_type": "display_data"
    }
   ],
   "source": [
    "#построим диаграмму для консолей Nintendo\n",
    "\n",
    "(games_data_after_2005[['platform','year_of_release','total_sales']] \n",
    " .query('platform == [\"3DS\", \"WiiU\",\"Wii\",\"DS\"]')\n",
    " .pivot_table(index='year_of_release', columns='platform', values='total_sales', aggfunc='sum')\n",
    " .plot(kind='bar', alpha=0.5, figsize=(15,5), grid=True, color=('darkgray', 'darkcyan', 'lightcoral', 'darkred'))\n",
    ")\n",
    "\n",
    "plt.title('Распределение прибыли по консолям компании Nintendo')\n",
    "plt.xlabel('Годы')\n",
    "plt.ylabel('Продажи в миллионах долларов')\n",
    "\n",
    "plt.show()"
   ]
  },
  {
   "cell_type": "markdown",
   "metadata": {},
   "source": [
    "### Комментарий\n",
    "\n",
    "- Первая консоль Nintendo — DS приносила прибыль с 2005 до 2012 года — 8 лет.\n",
    "- Вторая платформа Wii появилась через год, в 2006 году и приносила прибыль с 2006 по 2012 год — 7 лет.\n",
    "- Третья платформа 3DS появилась с через пять лет, после выхода последней — в 2011 году и приносит прибыль и в 2016 году — 6 лет.\n",
    "- Четвертая платформа WiiU появилась через года после последнее, в 2012 году и приносит прибыль в 2016 — 5 лет.\n",
    "\n",
    "Позже нужно сравнить какие платформы появлялись у конкурентов, чтобы можно было объяснить почему продажи резко упали."
   ]
  },
  {
   "cell_type": "code",
   "execution_count": 29,
   "metadata": {},
   "outputs": [
    {
     "data": {
      "image/png": "[encoded data removed]",
      "text/plain": [
       "<Figure size 1080x360 with 1 Axes>"
      ]
     },
     "metadata": {
      "needs_background": "light"
     },
     "output_type": "display_data"
    }
   ],
   "source": [
    "#построим диаграмму для консолей Microsoft\n",
    "\n",
    "(games_data_after_2005[['platform','year_of_release','total_sales']] \n",
    " .query('platform == [\"XOne\", \"X360\"]')\n",
    " .pivot_table(index='year_of_release', columns='platform', values='total_sales', aggfunc='sum')\n",
    " .plot(kind='bar', alpha=0.5, figsize=(15,5), grid=True, color=('darkgray', 'darkcyan', 'lightcoral', 'darkred'))\n",
    ")\n",
    "\n",
    "plt.title('Распределение прибыли по консолям компании Microsoft')\n",
    "plt.xlabel('Годы')\n",
    "plt.ylabel('Продажи в миллионах долларов')\n",
    "\n",
    "plt.show()"
   ]
  },
  {
   "cell_type": "markdown",
   "metadata": {},
   "source": [
    "### Комментарий\n",
    "\n",
    "X360 приносит прибыль в течение 10 лет, а XOne появилась через 8 лет после выпуска первой консоли."
   ]
  },
  {
   "cell_type": "code",
   "execution_count": 30,
   "metadata": {},
   "outputs": [
    {
     "data": {
      "image/png": "[encoded data removed]",
      "text/plain": [
       "<Figure size 1080x360 with 1 Axes>"
      ]
     },
     "metadata": {
      "needs_background": "light"
     },
     "output_type": "display_data"
    }
   ],
   "source": [
    "#построим диаграмму для консолей PlayStation\n",
    "\n",
    "(games_data_after_2005[['platform','year_of_release','total_sales']] \n",
    " .query('platform == [\"PSP\",\"PS4\", \"PS3\"]')\n",
    " .pivot_table(index='year_of_release', columns='platform', values='total_sales', aggfunc='sum')\n",
    " .plot(kind='bar', alpha=0.5, figsize=(15,5), grid=True, color=('darkgray', 'darkcyan', 'lightcoral', 'darkred'))\n",
    ")\n",
    "\n",
    "plt.title('Распределение прибыли по консолям компании PlayStation')\n",
    "plt.xlabel('Годы')\n",
    "plt.ylabel('Продажи в миллионах долларов')\n",
    "\n",
    "plt.show()"
   ]
  },
  {
   "cell_type": "markdown",
   "metadata": {},
   "source": [
    "### Комментарий\n",
    "\n",
    "- PSP появилась в 2005 году — в этом же году у Nintendo появилась портативная консоль DS, и вероятно они стали прямыми конкурентами. \n",
    "\n",
    "\n",
    "- PSP приносила прибыль с 2005 по 2010 — 5 лет.\n",
    "- Через год, в 2006 появилась консоль PS3 и она приносила прибыль до 2015 года. Выручка начала резко снижаться после появления PS4.\n",
    "- PS4 появилась через 7 лет после выхода последней — в 2013 году и приносит прибыль в 2016 в том числе."
   ]
  },
  {
   "cell_type": "markdown",
   "metadata": {},
   "source": [
    "### Вывод по характерному сроку\n",
    "\n",
    "Новые платформы часто появляются исходя из выпуска конкурентов. Если же конкурентов нет, то новая консоль может просуществовать долго. Мне кажется, что нет какого-то характерного срока, и выпуск новой консоли напрямую зависит от появления новых консолей у конкурентов.\n",
    "\n",
    "Портативные консоли вышли в один год, тогда, в 2005 году у Xbox не было конкурентов, и ровно через год появилась PS3 и Wii, которые смогли конкурировать с Xbox. После этого 4 года новые платформы не появлялись, ровно до момента, пока не появилась XOne — и сразу в 2011 появилась 3DS, в 2012 Wii U, в 2013 PS4. \n",
    "\n",
    "Также мне кажется, что нет характерного срока для исчезновения платформ. В среднем консоль приносит прибыль около 6 лет, но есть и те, кто без конкурентов существовал в разы больше. Я думаю, что при существовании конкурентом платформа исчезает примерно через 6 лет, но если появляется консоль нового поколения в любой компании, то прошлые консоли начинают терять выручку."
   ]
  },
  {
   "cell_type": "markdown",
   "metadata": {},
   "source": [
    "## Промежуточный вывод\n",
    "\n",
    "#### 1. Анализ платформ\n",
    " - Самый популярные компании Sony и Microsoft стараются выпускать новые консоли одновременно, но выходят они не очень часто. При чем, старые консоли также продолжают покупать и использовать, просто постепенно спрос на них снижается. Так, например, PlayStation 3 и Xbox 360 были запущены с разнице всего в пару месяцев, а PlayStation 4 и Xbox One были запущены в один год.\n",
    " \n",
    "\n",
    " - Платформам нет смысла выпускать новые консоли слишком часто — вероятно, выпускают новые только тогда, когда технически старые консоли сильно устаревают, и уже не способны нормально воспроизводить новые игры.\n",
    " \n",
    "\n",
    " - Еще, большие продажи для консолей по сравнению с PC можно объяснить тем, что компании выкупают права на уникальные игры, в которые можно играть только на приставках. Из-за этого повышается спрос на ту или иную консоль.\n",
    " \n",
    "#### 2. Анализ выручки\n",
    "\n",
    " - Рассмотрим три ведущие платформы:  PlayStation, Xbox и Nintendo.\n",
    "Самую большую суммарную выручку за все года принесла консоль PS2, но я думаю, что это связано с тем, что она вышла одна из первых и просущестовала много лет практически без конкурентов. Ее поддержка прекратилась в 2012 году, так что рассматривать ее не будем. \n",
    "\n",
    "\n",
    " - На второй месте по выручке X360 (588 миллионов), на третьем Nintendo Wii (563 миллиона), и на четвертом PlayStation 3 (528 миллионов), но если рассматривать распределение выручки за последние четыре года в данных, то выводы немного меняются.\n",
    " \n",
    "\n",
    " - с 2013 по 2016 год самые популярные такие: на первом месте **PlayStation 4 (205 миллионов), на втором PlayStation 3 (97 миллионов), на третьем Xbox One (96 миллионов)** — приведены на графике ниже.\n"
   ]
  },
  {
   "cell_type": "code",
   "execution_count": 31,
   "metadata": {},
   "outputs": [
    {
     "data": {
      "image/png": "[encoded data removed]",
      "text/plain": [
       "<Figure size 432x288 with 1 Axes>"
      ]
     },
     "metadata": {
      "needs_background": "light"
     },
     "output_type": "display_data"
    }
   ],
   "source": [
    "#распределение суммарной выручки с 2013 по 2016 год\n",
    "total_sales_2013_2016.plot(kind='bar', color='darkcyan', grid=True);\n",
    "\n",
    "plt.title('Распределение суммарной выручки с 2013 по 2016 год')\n",
    "plt.xlabel('Платформы')\n",
    "plt.ylabel('Продажи в миллионах долларов')\n",
    "\n",
    "plt.show()"
   ]
  },
  {
   "cell_type": "markdown",
   "metadata": {},
   "source": [
    "#### 3. Как менялись продажи по платформам\n",
    "\n",
    "- У **Nintendo** продажи были значительно ниже, чем у других платформ. Причем каждая новая консоль приносила все меньше выручки с каждым годом. Самая прибыльная — это Nintendo 3DS — 87 миллионов за 4 года, но меньше 10 миллионов за последний год. Прибыль значительно снижалась с каждым годом.\n",
    "\n",
    "\n",
    "- **Xbox** на втором месте по выручке — 96 млн. заработала XOne и 80 млн. X360. Для консоли XOne выручка росла до 2015 года, но в 2016 упала почти до выручки 2014 года. Вероятно это связано с тем, что в 2016 году у PlayStation вышла обновленная консоль PlayStation 4 Pro, которой еще нет в этой таблице. Xbox 360 была очень популярна в 2013 году, но с каждым годом продажи резко падали и в 2016 продаж было меньше, чем на один миллион.\n",
    "\n",
    "\n",
    "- На графике можно выделить **PS3 и PS4** — у них рекордные продажи, которые превышают даже пиковые значения по самым популярным консолям конкурентов. Выручка по PS3 начала снижаться в 2014 году — как раз тогда появилась PS4. PlayStation 4 уже через год после запуска достигла прибыли больше 70 млн., а в 2015 — почти 80 млн. В 2016 выручка упала ниже 40 млн, но это все еще высокий показатель по графику.\n",
    "\n",
    "\n",
    "\n",
    "#### За какой характерный срок появляются новые и исчезают старые платформы?\n",
    "\n",
    "Новые платформы часто появляются исходя из выпуска конкурентов. Если же конкурентов нет, то новая консоль может просуществовать долго. Мне кажется, что нет какого-то характерного срока, и выпуск новой консоли напрямую зависит от появления новых консолей у конкурентов.\n",
    "\n",
    "Также мне кажется, что нет характерного срока для исчезновения платформ. В среднем консоль приносит прибыль около 6 лет, но есть и те, кто без конкурентов существовал в разы больше. Я думаю, что при существовании конкурентом платформа исчезает примерно через 6 лет, но если появляется консоль нового поколения в любой компании, то прошлые консоли начинают терять выручку."
   ]
  },
  {
   "cell_type": "markdown",
   "metadata": {},
   "source": [
    "-----"
   ]
  },
  {
   "cell_type": "markdown",
   "metadata": {},
   "source": [
    "## Выбор потенциально прибыльной платформы"
   ]
  },
  {
   "cell_type": "markdown",
   "metadata": {},
   "source": [
    "Для того, чтобы построить прогноз на 2017 года, нам нужно взять данные за актуальный период. Данные за предыдущие года нам не понадобятся. Нам нужно определить какие платформы лидируют по продажам, на каких платформах продажи растут, а на каких падают. Попробуем определить потенциально прибыльные платформы.\n",
    "\n",
    "Выше мы оценили прибыль по платформам с 2013 по 2016 годы, чтобы посмотреть как менялись показатели в течение нескольких лет. Теперь, чтобы составить прогноз на 2017 год, возьмем данные за последние пять лет — ведущие платформы в то время уже появились. За такое период можно проследить динамику."
   ]
  },
  {
   "cell_type": "code",
   "execution_count": 32,
   "metadata": {},
   "outputs": [],
   "source": [
    "games_data_after_2012 = games_data.query('year_of_release >= 2012')['platform'].value_counts()"
   ]
  },
  {
   "cell_type": "markdown",
   "metadata": {},
   "source": [
    "Мы выяснили, что самые прибыльные платформы за последние два года — это PlayStation 4, Xbox One, Nintendo 3DS и Nintendo Wii U. Построим гистаграмму, чтобы оценить какая платформа приносит больше прибыли и проследим динамику за пять лет их существования."
   ]
  },
  {
   "cell_type": "code",
   "execution_count": 73,
   "metadata": {},
   "outputs": [
    {
     "data": {
      "image/png": "[encoded data removed]",
      "text/plain": [
       "<Figure size 1080x360 with 1 Axes>"
      ]
     },
     "metadata": {
      "needs_background": "light"
     },
     "output_type": "display_data"
    }
   ],
   "source": [
    "#построим диаграмму по выручке для четырех ведущих платформ за актуальный период\n",
    "\n",
    "(games_data[['platform','year_of_release','total_sales']] \n",
    " .query('year_of_release == [2012, 2013, 2014, 2015, 2016]')   \n",
    " .query('platform == [\"PS4\", \"3DS\", \"XOne\",\"WiiU\"]')\n",
    " .pivot_table(index='year_of_release', columns='platform', values='total_sales', aggfunc='sum')\n",
    " .plot(alpha=0.95, figsize=(15,5), grid=True, marker='v')\n",
    ")\n",
    "\n",
    "plt.title('Диаграмма выручки для четырех ведущих платформ за актуальный период')\n",
    "plt.xlabel('Платформы')\n",
    "plt.ylabel('Продажи в миллионах долларов')\n",
    "\n",
    "plt.show()"
   ]
  },
  {
   "cell_type": "markdown",
   "metadata": {},
   "source": [
    "### Комментарий\n",
    "\n",
    "По всем четырем платформам продажи снизились почти на половину за последний год. PlayStation 4 остается самой прибыльной, XOne на втором месте, Nintendo имеет наименее прибыльные продажи по своим консолям."
   ]
  },
  {
   "cell_type": "markdown",
   "metadata": {},
   "source": [
    "### Анализ по количеству выпущенных игр"
   ]
  },
  {
   "cell_type": "code",
   "execution_count": 34,
   "metadata": {},
   "outputs": [
    {
     "data": {
      "image/png": "[encoded data removed]",
      "text/plain": [
       "<Figure size 1152x360 with 1 Axes>"
      ]
     },
     "metadata": {
      "needs_background": "light"
     },
     "output_type": "display_data"
    }
   ],
   "source": [
    "#посмотрим сколько игр было выпущено для каждой платформы за актуальный период\n",
    "\n",
    "(games_data[['year_of_release','platform','name']] \n",
    " .query('year_of_release == [2012, 2013, 2014, 2015, 2016]')   \n",
    " .query('platform == [\"PSP\",\"PS4\", \"PS3\", \"XOne\", \"3DS\", \"X360\", \"WiiU\", \"PC\", \"Wii\",\"DS\"]')\n",
    " .pivot_table(index='platform', columns='year_of_release', values='name', aggfunc='count')\n",
    " .plot(kind='bar', alpha=0.5, figsize=(16,5), grid=True, color=('darkgray', 'darkcyan', 'lightcoral', 'darkred', 'tan'))\n",
    ")\n",
    "\n",
    "plt.title('Диаграмма количества выпущенных игр для каждой платформы за актуальный период')\n",
    "plt.xlabel('Платформы')\n",
    "plt.ylabel('Продажи в миллионах долларов')\n",
    "\n",
    "plt.show();"
   ]
  },
  {
   "cell_type": "markdown",
   "metadata": {},
   "source": [
    "## Промежуточный вывод\n",
    "\n",
    "В 2016 году выпустили больше игр для таких платформ, как: **PC, PS4 и XOne**. Можно предположить, что разработчики игр считают эти консоли перспективными, а потому выпускают больше игр для них. \n",
    "\n",
    "Для некоторых платформ показатели снижаются в течение нескольких лет, несмотря на то, что в 2016 прибыль довольно высокая. Нужно отметить платформы, где выручка растет несколько лет — это **PS4, XOne и PC**.\n",
    "\n",
    "Важно отметить, что здесь выделились PC — компьютеры никуда не исчезнут, и игры для них будут актуальны намного дольше, чем для игровых консолей, так что нужно выделить эту платформу несмотря на низкие продажи."
   ]
  },
  {
   "cell_type": "markdown",
   "metadata": {},
   "source": [
    "----"
   ]
  },
  {
   "cell_type": "markdown",
   "metadata": {},
   "source": [
    "## Глобальные продажи игр в разбивке по платформам"
   ]
  },
  {
   "cell_type": "markdown",
   "metadata": {},
   "source": [
    "Построим диаграмму размаха по глобальным продажам игр в разбивке по платформам и проанализируем полученные результаты."
   ]
  },
  {
   "cell_type": "code",
   "execution_count": 35,
   "metadata": {},
   "outputs": [
    {
     "data": {
      "text/html": [
       "<div>\n",
       "<style scoped>\n",
       "    .dataframe tbody tr th:only-of-type {\n",
       "        vertical-align: middle;\n",
       "    }\n",
       "\n",
       "    .dataframe tbody tr th {\n",
       "        vertical-align: top;\n",
       "    }\n",
       "\n",
       "    .dataframe thead th {\n",
       "        text-align: right;\n",
       "    }\n",
       "</style>\n",
       "<table border=\"1\" class=\"dataframe\">\n",
       "  <thead>\n",
       "    <tr style=\"text-align: right;\">\n",
       "      <th></th>\n",
       "      <th>total_sales</th>\n",
       "    </tr>\n",
       "    <tr>\n",
       "      <th>platform</th>\n",
       "      <th></th>\n",
       "    </tr>\n",
       "  </thead>\n",
       "  <tbody>\n",
       "    <tr>\n",
       "      <td>PS4</td>\n",
       "      <td>116</td>\n",
       "    </tr>\n",
       "    <tr>\n",
       "      <td>XOne</td>\n",
       "      <td>52</td>\n",
       "    </tr>\n",
       "    <tr>\n",
       "      <td>3DS</td>\n",
       "      <td>21</td>\n",
       "    </tr>\n",
       "    <tr>\n",
       "      <td>WiiU</td>\n",
       "      <td>11</td>\n",
       "    </tr>\n",
       "    <tr>\n",
       "      <td>PS3</td>\n",
       "      <td>3</td>\n",
       "    </tr>\n",
       "    <tr>\n",
       "      <td>PC</td>\n",
       "      <td>2</td>\n",
       "    </tr>\n",
       "    <tr>\n",
       "      <td>X360</td>\n",
       "      <td>2</td>\n",
       "    </tr>\n",
       "    <tr>\n",
       "      <td>PSP</td>\n",
       "      <td>0</td>\n",
       "    </tr>\n",
       "    <tr>\n",
       "      <td>PSV</td>\n",
       "      <td>0</td>\n",
       "    </tr>\n",
       "    <tr>\n",
       "      <td>Wii</td>\n",
       "      <td>0</td>\n",
       "    </tr>\n",
       "  </tbody>\n",
       "</table>\n",
       "</div>"
      ],
      "text/plain": [
       "          total_sales\n",
       "platform             \n",
       "PS4               116\n",
       "XOne               52\n",
       "3DS                21\n",
       "WiiU               11\n",
       "PS3                 3\n",
       "PC                  2\n",
       "X360                2\n",
       "PSP                 0\n",
       "PSV                 0\n",
       "Wii                 0"
      ]
     },
     "execution_count": 35,
     "metadata": {},
     "output_type": "execute_result"
    }
   ],
   "source": [
    "#построим сводную таблицу по глобальным продажам игр за 2015 и 2016 годы\n",
    "\n",
    "(games_data\n",
    " .query('year_of_release == [2015,2016]')\n",
    " .pivot_table(index='platform', values='total_sales', aggfunc='sum')\n",
    " .sort_values(by='total_sales', ascending=False)\n",
    ")"
   ]
  },
  {
   "cell_type": "code",
   "execution_count": 36,
   "metadata": {},
   "outputs": [
    {
     "data": {
      "text/html": [
       "<div>\n",
       "<style scoped>\n",
       "    .dataframe tbody tr th:only-of-type {\n",
       "        vertical-align: middle;\n",
       "    }\n",
       "\n",
       "    .dataframe tbody tr th {\n",
       "        vertical-align: top;\n",
       "    }\n",
       "\n",
       "    .dataframe thead th {\n",
       "        text-align: right;\n",
       "    }\n",
       "</style>\n",
       "<table border=\"1\" class=\"dataframe\">\n",
       "  <thead>\n",
       "    <tr style=\"text-align: right;\">\n",
       "      <th>platform</th>\n",
       "      <th>3DS</th>\n",
       "      <th>PC</th>\n",
       "      <th>PS3</th>\n",
       "      <th>PS4</th>\n",
       "      <th>WiiU</th>\n",
       "      <th>XOne</th>\n",
       "    </tr>\n",
       "    <tr>\n",
       "      <th>year_of_release</th>\n",
       "      <th></th>\n",
       "      <th></th>\n",
       "      <th></th>\n",
       "      <th></th>\n",
       "      <th></th>\n",
       "      <th></th>\n",
       "    </tr>\n",
       "  </thead>\n",
       "  <tbody>\n",
       "    <tr>\n",
       "      <td>2015</td>\n",
       "      <td>13</td>\n",
       "      <td>2</td>\n",
       "      <td>3</td>\n",
       "      <td>79</td>\n",
       "      <td>9</td>\n",
       "      <td>39</td>\n",
       "    </tr>\n",
       "    <tr>\n",
       "      <td>2016</td>\n",
       "      <td>8</td>\n",
       "      <td>0</td>\n",
       "      <td>0</td>\n",
       "      <td>37</td>\n",
       "      <td>2</td>\n",
       "      <td>13</td>\n",
       "    </tr>\n",
       "  </tbody>\n",
       "</table>\n",
       "</div>"
      ],
      "text/plain": [
       "platform         3DS  PC  PS3  PS4  WiiU  XOne\n",
       "year_of_release                               \n",
       "2015              13   2    3   79     9    39\n",
       "2016               8   0    0   37     2    13"
      ]
     },
     "execution_count": 36,
     "metadata": {},
     "output_type": "execute_result"
    }
   ],
   "source": [
    "#найдем суммарную прибыль для каждой платформы за последние два года в таблице\n",
    "(games_data\n",
    " .query('year_of_release == [2015,2016]')\n",
    " .query('platform == [\"PS4\", \"3DS\", \"XOne\",\"WiiU\",\"PC\",\"PS3\"]')\n",
    " .pivot_table(index='year_of_release', columns='platform', values='total_sales', aggfunc='sum')\n",
    ")"
   ]
  },
  {
   "cell_type": "code",
   "execution_count": 37,
   "metadata": {},
   "outputs": [
    {
     "data": {
      "image/png": "[encoded data removed]",
      "text/plain": [
       "<Figure size 576x504 with 1 Axes>"
      ]
     },
     "metadata": {
      "needs_background": "light"
     },
     "output_type": "display_data"
    }
   ],
   "source": [
    "#построим диаграмму размаха по средним глобальным продажам игр в разбивке по платформам\n",
    "\n",
    "(games_data\n",
    " .query('year_of_release == [2015,2016]')\n",
    " .query('platform == [\"PS4\", \"3DS\", \"XOne\",\"WiiU\"]')\n",
    " .pivot_table(index='year_of_release', columns='platform', values='total_sales', aggfunc='sum')\n",
    " .plot(kind='box', figsize=(8,7), grid=True)\n",
    ")\n",
    "\n",
    "plt.title('Диаграмма размаха по глобальным продажам игр в разбивке по платформам')\n",
    "plt.xlabel('Платформы')\n",
    "plt.ylabel('Прибыль в млн.')\n",
    "\n",
    "plt.show()"
   ]
  },
  {
   "cell_type": "markdown",
   "metadata": {},
   "source": [
    "## Промежуточный вывод\n",
    "\n",
    "Рассмотрим четыре платформы, где выручка больше.\n",
    "\n",
    "- Платформы Nintendo Wii U и 3DS имеют наименьший характерный разброс, так как и количество продаж и их сумма значительно меньше, чем у конкурентов. В среднем по странам Wii U приносит около 5 млн. (максимально - примерно 13 млн), а 3DS - 11 млн (максимально около 9).\n",
    "\n",
    "- У PlayStation самый большой разброс — примерно от 47 млн. до 79 млн. В среднем платформа приносит примерно 58 млн.\n",
    "\n",
    "- У Xbox прибыль в среднем примерно 26 млн. Иногда достигает 39 млн."
   ]
  },
  {
   "cell_type": "markdown",
   "metadata": {},
   "source": [
    "---"
   ]
  },
  {
   "cell_type": "markdown",
   "metadata": {},
   "source": [
    "## Как влияют отзывы пользователей и критиков на продажи"
   ]
  },
  {
   "cell_type": "markdown",
   "metadata": {},
   "source": [
    "Посмотрим, как влияют отзывы пользователей и критиков на продажи внутри одной популярной платформы. Для этого построим диаграмму рассеяния и посчитаем корреляцию между отзывами и продажами. Затем попробуем соотнести выводы с продажами игр на других платформах."
   ]
  },
  {
   "cell_type": "markdown",
   "metadata": {},
   "source": [
    "### Поиск зависимостей по данным"
   ]
  },
  {
   "cell_type": "markdown",
   "metadata": {},
   "source": [
    "Для начала посчитаем Коэффициент Пирсона, чтобы посмотреть на наличие связи между выручкой и отзывами."
   ]
  },
  {
   "cell_type": "code",
   "execution_count": 38,
   "metadata": {},
   "outputs": [
    {
     "data": {
      "text/plain": [
       "0.21260795030280338"
      ]
     },
     "execution_count": 38,
     "metadata": {},
     "output_type": "execute_result"
    }
   ],
   "source": [
    "games_data['critic_score'].corr(games_data['total_sales'])"
   ]
  },
  {
   "cell_type": "code",
   "execution_count": 39,
   "metadata": {},
   "outputs": [
    {
     "data": {
      "text/plain": [
       "0.07551421920219466"
      ]
     },
     "execution_count": 39,
     "metadata": {},
     "output_type": "execute_result"
    }
   ],
   "source": [
    "games_data['user_score'].corr(games_data['total_sales'])"
   ]
  },
  {
   "cell_type": "markdown",
   "metadata": {},
   "source": [
    "### Комментарий\n",
    "\n",
    "Корреляция в 0,21 говорит о наличии связи, но очень слабой. Значит, высота оценки критика слабо влияет на прибыль. Корреляция 0,07 говорит о совсем малой зависимости. Можно сказать, что оценка пользователей не влияет на продажи. Но теперь проверим это.\n",
    "\n",
    "Построим матрицу рассеяния, чтобы посмотреть на зависимости."
   ]
  },
  {
   "cell_type": "code",
   "execution_count": 40,
   "metadata": {},
   "outputs": [
    {
     "data": {
      "image/png": "[encoded data removed]",
      "text/plain": [
       "<Figure size 720x720 with 9 Axes>"
      ]
     },
     "metadata": {
      "needs_background": "light"
     },
     "output_type": "display_data"
    }
   ],
   "source": [
    "corr_data = games_data.query('year_of_release == [2012, 2013, 2014, 2015, 2016]')[['total_sales', 'user_score','critic_score']]\n",
    "pd.plotting.scatter_matrix(corr_data, figsize = (10,10));"
   ]
  },
  {
   "cell_type": "markdown",
   "metadata": {},
   "source": [
    "## Промежуточный вывод\n",
    "\n",
    "Наблюдается положительная корреляция, но не очень значительная. В столбцах с оценками много пропусков, но это просто покажет нам менее явный результат. На тех данных, что у нас есть можно увидеть, что большинство результатов по выручке не растет при высоких оценках. Так что можно сделать вывод, что зависимости положительная, но незначительная. Не стоит рассчитывать на этот показатель при оценке будущей выручки."
   ]
  },
  {
   "cell_type": "markdown",
   "metadata": {},
   "source": [
    "----"
   ]
  },
  {
   "cell_type": "markdown",
   "metadata": {},
   "source": [
    "### Поиск зависимостей по сгруппированным данным"
   ]
  },
  {
   "cell_type": "markdown",
   "metadata": {},
   "source": [
    "Попробуем объединить прибыль по платформам и посмотреть зависимость так, для наглядности."
   ]
  },
  {
   "cell_type": "code",
   "execution_count": 41,
   "metadata": {},
   "outputs": [
    {
     "data": {
      "image/png": "[encoded data removed]",
      "text/plain": [
       "<Figure size 720x360 with 1 Axes>"
      ]
     },
     "metadata": {
      "needs_background": "light"
     },
     "output_type": "display_data"
    }
   ],
   "source": [
    "#сгруппируем данные по платформам и оценке критиков, найдем сумму выручки для каждой платформы\n",
    "sum_sales_critic = (games_data\n",
    "             .pivot_table(index=['platform','critic_score'], values='total_sales', aggfunc='sum')\n",
    "             .reset_index('critic_score')  #достанем оценки критиков из индекса\n",
    ")\n",
    "\n",
    "#построим диаграмму рассеяния\n",
    "sum_sales_critic.plot(x='critic_score', y='total_sales', kind='scatter', alpha=0.5, grid=True, figsize=(10,5))\n",
    "\n",
    "plt.title('Диаграмма рассеяния для оценки критиков и прибыли')\n",
    "plt.xlabel('Оценка критиков')\n",
    "plt.ylabel('Прибыль в млн.')\n",
    "\n",
    "plt.show();"
   ]
  },
  {
   "cell_type": "code",
   "execution_count": 42,
   "metadata": {},
   "outputs": [
    {
     "data": {
      "text/plain": [
       "0.4118742404468526"
      ]
     },
     "execution_count": 42,
     "metadata": {},
     "output_type": "execute_result"
    }
   ],
   "source": [
    "#посчитаем Коэффициент Пирсона по этим данным\n",
    "sum_sales_critic['critic_score'].corr(sum_sales_critic['total_sales'])"
   ]
  },
  {
   "cell_type": "markdown",
   "metadata": {},
   "source": [
    "### Комментарий\n",
    "\n",
    "Теперь видно лучше — небольшая положительная зависимость, платформы где игры заслуживают более высокие оценки приносят больше прибыли. Но она недостаточно явная, чтобы по ней судить."
   ]
  },
  {
   "cell_type": "markdown",
   "metadata": {},
   "source": [
    "----"
   ]
  },
  {
   "cell_type": "code",
   "execution_count": 43,
   "metadata": {},
   "outputs": [
    {
     "data": {
      "image/png": "[encoded data removed]",
      "text/plain": [
       "<Figure size 720x360 with 1 Axes>"
      ]
     },
     "metadata": {
      "needs_background": "light"
     },
     "output_type": "display_data"
    }
   ],
   "source": [
    "#сгруппируем данные по платформам и оценке пользователей, найдем сумму выручки для каждой платформы\n",
    "\n",
    "sum_sales_users = (games_data\n",
    "             .pivot_table(index=['platform','user_score'], values='total_sales', aggfunc='sum')\n",
    "             .reset_index('user_score')\n",
    ")\n",
    "\n",
    "\n",
    "#построим диаграмму рассеяния\n",
    "sum_sales_users.plot(x='user_score', y='total_sales', kind='scatter', alpha=0.5, grid=True, figsize=(10,5))\n",
    "\n",
    "plt.title('Диаграмма рассеяния для оценки пользователей и прибыли')\n",
    "plt.xlabel('Оценка пользователей')\n",
    "plt.ylabel('Прибыль в млн.')\n",
    "\n",
    "plt.show();"
   ]
  },
  {
   "cell_type": "code",
   "execution_count": 44,
   "metadata": {},
   "outputs": [
    {
     "data": {
      "text/plain": [
       "0.3053869152233067"
      ]
     },
     "execution_count": 44,
     "metadata": {},
     "output_type": "execute_result"
    }
   ],
   "source": [
    "#посчитаем Коэффициент Пирсона по этим данным\n",
    "sum_sales_users['user_score'].corr(sum_sales_users['total_sales'])"
   ]
  },
  {
   "cell_type": "markdown",
   "metadata": {},
   "source": [
    "### Комментарий\n",
    "\n",
    "Здесь же зависимость все еще незначительная. А после оценки в 9 даже заметно снижение прибыли."
   ]
  },
  {
   "cell_type": "markdown",
   "metadata": {},
   "source": [
    "## Промежуточный вывод\n",
    "\n",
    "Оценок в данных было мало — мы нашли много пропусков, но несмотря на это получилось построить диаграммы рассеяния, чтобы определить зависимости.\n",
    "\n",
    "Большой положительной или отрицателной зависимости нет, но есть небольшая зависимость между оценкой критикой и прибылью от платформы. Для оценок от 60 до 90 можно наблюдать незначительную положительную корреляцию, однако больших значений здесь очень мало, так что не стоит делать большой упор на оценки при рассчете показателей для следующего года."
   ]
  },
  {
   "cell_type": "markdown",
   "metadata": {},
   "source": [
    "----"
   ]
  },
  {
   "cell_type": "markdown",
   "metadata": {},
   "source": [
    "## Распределение игр по жанрам"
   ]
  },
  {
   "cell_type": "markdown",
   "metadata": {},
   "source": [
    "Проанализируем общее распределение игр по жанрам, чтобы выбрать самые прибыльные жанры из представленных. Проверим, есть ли жанры, которые выделяются — где продажи выше или ниже остальных."
   ]
  },
  {
   "cell_type": "markdown",
   "metadata": {},
   "source": [
    "### Анализ по количеству выпущенных игр"
   ]
  },
  {
   "cell_type": "markdown",
   "metadata": {},
   "source": [
    "Посмотрим как распределены жанры, если сравнивать их по количеству выпущенных игр."
   ]
  },
  {
   "cell_type": "code",
   "execution_count": 45,
   "metadata": {
    "scrolled": false
   },
   "outputs": [
    {
     "data": {
      "image/png": "[encoded data removed]",
      "text/plain": [
       "<Figure size 504x360 with 1 Axes>"
      ]
     },
     "metadata": {
      "needs_background": "light"
     },
     "output_type": "display_data"
    }
   ],
   "source": [
    "#построим общее распределние по жанрам\n",
    "games_data['genre'].value_counts().plot(kind='bar', color='darkcyan', grid=True, figsize=(7,5))\n",
    "\n",
    "\n",
    "plt.title('Распределение количества игр по жанрам')\n",
    "plt.xlabel('Жанр')\n",
    "plt.ylabel('Количество выпущенных игр')\n",
    "\n",
    "plt.show()"
   ]
  },
  {
   "cell_type": "markdown",
   "metadata": {},
   "source": [
    "###  Комментарий\n",
    "\n",
    "В общем распределение лидируют три жанра: **Action, Sports и Misc**. Меньше всего игр было выпущено в жанрах **Fighting, Strategy и Puzzle**. Посмотрим совпадают ли показатели, если рассматривать данные за последние два года в таблице."
   ]
  },
  {
   "cell_type": "code",
   "execution_count": 46,
   "metadata": {},
   "outputs": [
    {
     "data": {
      "image/png": "[encoded data removed]",
      "text/plain": [
       "<Figure size 1080x360 with 1 Axes>"
      ]
     },
     "metadata": {
      "needs_background": "light"
     },
     "output_type": "display_data"
    }
   ],
   "source": [
    "#построим распределение по жанрам за 2015 и 2016 годы\n",
    "\n",
    "(games_data[['genre','year_of_release','name']] \n",
    " .query('year_of_release == [2015,2016]')   \n",
    " .pivot_table(index='genre', columns='year_of_release', values='name', aggfunc='count')\n",
    " .sort_values(by=2016, ascending=False)\n",
    " .plot(kind='bar', alpha=0.5, figsize=(15,5), grid=True, color=('maroon', 'darkcyan'))\n",
    ")\n",
    "\n",
    "plt.title('Распределение количества игр по жанрам за 2015 и 2016 годы')\n",
    "plt.xlabel('Жанр')\n",
    "plt.ylabel('Количество игр')\n",
    "\n",
    "plt.show()"
   ]
  },
  {
   "cell_type": "markdown",
   "metadata": {},
   "source": [
    "###  Комментарий\n",
    "\n",
    "За последние два года больше всего игр было выпущено в жанре **Action**. При этом их значительно больше, чем в остальных жанрах. Например, за 2016 было выпущено около 175 игр в этом жанре, тогда как на втором месте в жанре **Role-Plaing** было выпущено около 75 игр. В остальных жанрах количество выпущенных игр не превышало 60."
   ]
  },
  {
   "cell_type": "markdown",
   "metadata": {},
   "source": [
    "## Анализ по выручке для каждого жанра"
   ]
  },
  {
   "cell_type": "markdown",
   "metadata": {},
   "source": [
    "Теперь посмотрим какие жанры выделяются, если сравнивать их по суммарной выручке."
   ]
  },
  {
   "cell_type": "code",
   "execution_count": 47,
   "metadata": {},
   "outputs": [
    {
     "data": {
      "image/png": "[encoded data removed]",
      "text/plain": [
       "<Figure size 1080x360 with 1 Axes>"
      ]
     },
     "metadata": {
      "needs_background": "light"
     },
     "output_type": "display_data"
    }
   ],
   "source": [
    "#построим распределение жанров по размеру суммарной выручки\n",
    "\n",
    "(games_data[['genre','year_of_release','name','total_sales']] \n",
    " .pivot_table(index='genre', values='total_sales', aggfunc='sum')\n",
    " .sort_values(by='total_sales', ascending=False)\n",
    " .plot(kind='bar', alpha=0.5, figsize=(15,5), grid=True, color='darkcyan')\n",
    ")\n",
    "\n",
    "plt.title('Распределение жанров по размеру суммарной выручки')\n",
    "plt.xlabel('Жанр')\n",
    "plt.ylabel('Суммарная выручка')\n",
    "\n",
    "plt.show()"
   ]
  },
  {
   "cell_type": "markdown",
   "metadata": {},
   "source": [
    "###  Комментарий\n",
    "\n",
    "Если смотреть данные за все годы, то больше всего выручки принесли игры в жанрах: **Action, Sport и Shooter**. Первые два жанра мы отмечали в распределние по количеству, так что можно предположить, что такая выручка появилась из-за большого количества выпущенных игр. А вот Shooter был на пятом месте, но оказалася выгодным судя по выручке. Можно предположить, что на игры этого жанра большой спрос. Посмотрим какие игры в этом жанре были самыми прибыльными."
   ]
  },
  {
   "cell_type": "code",
   "execution_count": 48,
   "metadata": {},
   "outputs": [
    {
     "data": {
      "text/html": [
       "<div>\n",
       "<style scoped>\n",
       "    .dataframe tbody tr th:only-of-type {\n",
       "        vertical-align: middle;\n",
       "    }\n",
       "\n",
       "    .dataframe tbody tr th {\n",
       "        vertical-align: top;\n",
       "    }\n",
       "\n",
       "    .dataframe thead th {\n",
       "        text-align: right;\n",
       "    }\n",
       "</style>\n",
       "<table border=\"1\" class=\"dataframe\">\n",
       "  <thead>\n",
       "    <tr style=\"text-align: right;\">\n",
       "      <th></th>\n",
       "      <th>name</th>\n",
       "      <th>platform</th>\n",
       "      <th>year_of_release</th>\n",
       "      <th>genre</th>\n",
       "      <th>na_sales</th>\n",
       "      <th>eu_sales</th>\n",
       "      <th>jp_sales</th>\n",
       "      <th>other_sales</th>\n",
       "      <th>critic_score</th>\n",
       "      <th>user_score</th>\n",
       "      <th>rating</th>\n",
       "      <th>total_sales</th>\n",
       "    </tr>\n",
       "  </thead>\n",
       "  <tbody>\n",
       "    <tr>\n",
       "      <td>9</td>\n",
       "      <td>Duck Hunt</td>\n",
       "      <td>NES</td>\n",
       "      <td>1984</td>\n",
       "      <td>Shooter</td>\n",
       "      <td>26.93</td>\n",
       "      <td>0.63</td>\n",
       "      <td>0.28</td>\n",
       "      <td>0.47</td>\n",
       "      <td>NaN</td>\n",
       "      <td>NaN</td>\n",
       "      <td>NaN</td>\n",
       "      <td>28</td>\n",
       "    </tr>\n",
       "    <tr>\n",
       "      <td>31</td>\n",
       "      <td>Call of Duty: Black Ops 3</td>\n",
       "      <td>PS4</td>\n",
       "      <td>2015</td>\n",
       "      <td>Shooter</td>\n",
       "      <td>6.03</td>\n",
       "      <td>5.86</td>\n",
       "      <td>0.36</td>\n",
       "      <td>2.38</td>\n",
       "      <td>NaN</td>\n",
       "      <td>NaN</td>\n",
       "      <td>NaN</td>\n",
       "      <td>14</td>\n",
       "    </tr>\n",
       "    <tr>\n",
       "      <td>32</td>\n",
       "      <td>Call of Duty: Black Ops</td>\n",
       "      <td>X360</td>\n",
       "      <td>2010</td>\n",
       "      <td>Shooter</td>\n",
       "      <td>9.70</td>\n",
       "      <td>3.68</td>\n",
       "      <td>0.11</td>\n",
       "      <td>1.13</td>\n",
       "      <td>87.0</td>\n",
       "      <td>6.3</td>\n",
       "      <td>M</td>\n",
       "      <td>14</td>\n",
       "    </tr>\n",
       "    <tr>\n",
       "      <td>29</td>\n",
       "      <td>Call of Duty: Modern Warfare 3</td>\n",
       "      <td>X360</td>\n",
       "      <td>2011</td>\n",
       "      <td>Shooter</td>\n",
       "      <td>9.04</td>\n",
       "      <td>4.24</td>\n",
       "      <td>0.13</td>\n",
       "      <td>1.32</td>\n",
       "      <td>88.0</td>\n",
       "      <td>3.4</td>\n",
       "      <td>M</td>\n",
       "      <td>14</td>\n",
       "    </tr>\n",
       "    <tr>\n",
       "      <td>34</td>\n",
       "      <td>Call of Duty: Black Ops II</td>\n",
       "      <td>PS3</td>\n",
       "      <td>2012</td>\n",
       "      <td>Shooter</td>\n",
       "      <td>4.99</td>\n",
       "      <td>5.73</td>\n",
       "      <td>0.65</td>\n",
       "      <td>2.42</td>\n",
       "      <td>83.0</td>\n",
       "      <td>5.3</td>\n",
       "      <td>M</td>\n",
       "      <td>13</td>\n",
       "    </tr>\n",
       "    <tr>\n",
       "      <td>35</td>\n",
       "      <td>Call of Duty: Black Ops II</td>\n",
       "      <td>X360</td>\n",
       "      <td>2012</td>\n",
       "      <td>Shooter</td>\n",
       "      <td>8.25</td>\n",
       "      <td>4.24</td>\n",
       "      <td>0.07</td>\n",
       "      <td>1.12</td>\n",
       "      <td>83.0</td>\n",
       "      <td>4.8</td>\n",
       "      <td>M</td>\n",
       "      <td>13</td>\n",
       "    </tr>\n",
       "    <tr>\n",
       "      <td>36</td>\n",
       "      <td>Call of Duty: Modern Warfare 2</td>\n",
       "      <td>X360</td>\n",
       "      <td>2009</td>\n",
       "      <td>Shooter</td>\n",
       "      <td>8.52</td>\n",
       "      <td>3.59</td>\n",
       "      <td>0.08</td>\n",
       "      <td>1.28</td>\n",
       "      <td>94.0</td>\n",
       "      <td>6.3</td>\n",
       "      <td>M</td>\n",
       "      <td>13</td>\n",
       "    </tr>\n",
       "    <tr>\n",
       "      <td>37</td>\n",
       "      <td>Call of Duty: Modern Warfare 3</td>\n",
       "      <td>PS3</td>\n",
       "      <td>2011</td>\n",
       "      <td>Shooter</td>\n",
       "      <td>5.54</td>\n",
       "      <td>5.73</td>\n",
       "      <td>0.49</td>\n",
       "      <td>1.57</td>\n",
       "      <td>88.0</td>\n",
       "      <td>3.2</td>\n",
       "      <td>M</td>\n",
       "      <td>13</td>\n",
       "    </tr>\n",
       "    <tr>\n",
       "      <td>41</td>\n",
       "      <td>Call of Duty: Black Ops</td>\n",
       "      <td>PS3</td>\n",
       "      <td>2010</td>\n",
       "      <td>Shooter</td>\n",
       "      <td>5.99</td>\n",
       "      <td>4.37</td>\n",
       "      <td>0.48</td>\n",
       "      <td>1.79</td>\n",
       "      <td>88.0</td>\n",
       "      <td>6.4</td>\n",
       "      <td>M</td>\n",
       "      <td>12</td>\n",
       "    </tr>\n",
       "    <tr>\n",
       "      <td>44</td>\n",
       "      <td>Halo 3</td>\n",
       "      <td>X360</td>\n",
       "      <td>2007</td>\n",
       "      <td>Shooter</td>\n",
       "      <td>7.97</td>\n",
       "      <td>2.81</td>\n",
       "      <td>0.13</td>\n",
       "      <td>1.21</td>\n",
       "      <td>94.0</td>\n",
       "      <td>7.8</td>\n",
       "      <td>M</td>\n",
       "      <td>12</td>\n",
       "    </tr>\n",
       "  </tbody>\n",
       "</table>\n",
       "</div>"
      ],
      "text/plain": [
       "                              name platform  year_of_release    genre  \\\n",
       "9                        Duck Hunt      NES             1984  Shooter   \n",
       "31       Call of Duty: Black Ops 3      PS4             2015  Shooter   \n",
       "32         Call of Duty: Black Ops     X360             2010  Shooter   \n",
       "29  Call of Duty: Modern Warfare 3     X360             2011  Shooter   \n",
       "34      Call of Duty: Black Ops II      PS3             2012  Shooter   \n",
       "35      Call of Duty: Black Ops II     X360             2012  Shooter   \n",
       "36  Call of Duty: Modern Warfare 2     X360             2009  Shooter   \n",
       "37  Call of Duty: Modern Warfare 3      PS3             2011  Shooter   \n",
       "41         Call of Duty: Black Ops      PS3             2010  Shooter   \n",
       "44                          Halo 3     X360             2007  Shooter   \n",
       "\n",
       "    na_sales  eu_sales  jp_sales  other_sales  critic_score  user_score  \\\n",
       "9      26.93      0.63      0.28         0.47           NaN         NaN   \n",
       "31      6.03      5.86      0.36         2.38           NaN         NaN   \n",
       "32      9.70      3.68      0.11         1.13          87.0         6.3   \n",
       "29      9.04      4.24      0.13         1.32          88.0         3.4   \n",
       "34      4.99      5.73      0.65         2.42          83.0         5.3   \n",
       "35      8.25      4.24      0.07         1.12          83.0         4.8   \n",
       "36      8.52      3.59      0.08         1.28          94.0         6.3   \n",
       "37      5.54      5.73      0.49         1.57          88.0         3.2   \n",
       "41      5.99      4.37      0.48         1.79          88.0         6.4   \n",
       "44      7.97      2.81      0.13         1.21          94.0         7.8   \n",
       "\n",
       "   rating  total_sales  \n",
       "9     NaN           28  \n",
       "31    NaN           14  \n",
       "32      M           14  \n",
       "29      M           14  \n",
       "34      M           13  \n",
       "35      M           13  \n",
       "36      M           13  \n",
       "37      M           13  \n",
       "41      M           12  \n",
       "44      M           12  "
      ]
     },
     "execution_count": 48,
     "metadata": {},
     "output_type": "execute_result"
    }
   ],
   "source": [
    "games_data.query('genre == \"Shooter\"').sort_values(by='total_sales', ascending=False).head(10)"
   ]
  },
  {
   "cell_type": "markdown",
   "metadata": {},
   "source": [
    "###  Комментарий\n",
    "\n",
    "Интересно, что одна только игра Duck Hunt получила в два раза больше прибыли (28 млн.), чем очень популярная игра Call of Duty (14 млн.). Игра Duck Hunt действительно была одной из самых популярных игр на первых консолях, и кажется почти каждый ее помнит. Одна эта игра прибавила значительную часть к выручке жанра Shooter."
   ]
  },
  {
   "cell_type": "code",
   "execution_count": 49,
   "metadata": {},
   "outputs": [
    {
     "data": {
      "image/png": "[encoded data removed]",
      "text/plain": [
       "<Figure size 1224x360 with 1 Axes>"
      ]
     },
     "metadata": {
      "needs_background": "light"
     },
     "output_type": "display_data"
    }
   ],
   "source": [
    "#построим распределение жанров по размеру суммарной выручки за актуальный период\n",
    "\n",
    "(games_data[['genre','year_of_release','name','total_sales']]\n",
    " .query('year_of_release == [2012, 2013, 2014, 2015,2016]')   \n",
    " .pivot_table(index='genre', columns='year_of_release', values='total_sales', aggfunc='sum')\n",
    " .sort_values(by=2016, ascending=False)\n",
    " .plot(kind='bar', alpha=0.5, figsize=(17,5), grid=True, color=('darkgray', 'darkcyan', 'lightcoral', 'darkred', 'tan'))\n",
    ")\n",
    "\n",
    "plt.title('Распределение жанров по размеру суммарной выручки за актуальный период')\n",
    "plt.xlabel('Жанр')\n",
    "plt.ylabel('Суммарная выручка')\n",
    "\n",
    "plt.show()"
   ]
  },
  {
   "cell_type": "markdown",
   "metadata": {},
   "source": [
    "###  Комментарий\n",
    "\n",
    "В 2015 году самыми прибыльными жанрами были: Shooter, Action и Sport. \n",
    "\n",
    "В 2016 году самыми прибыльными жанрами были такими же, но Sport немного обогнал по выручке Action.\n",
    "\n",
    "При этом в целом выручка значительно снизилась — в 2015 году Shooter принес больше 50 млн., а в 2016 меньше 30 млн. Возможно это связано еще и с тем, что данные за 2016 год не полные, и продажи за весь годы могли быть больше."
   ]
  },
  {
   "cell_type": "markdown",
   "metadata": {},
   "source": [
    "## Анализ по платформам для каждого жанра"
   ]
  },
  {
   "cell_type": "markdown",
   "metadata": {},
   "source": [
    "Возьмем четыре платформы, которые мы выделили выше и посмотрим как распределены показатели по жанрам для них."
   ]
  },
  {
   "cell_type": "code",
   "execution_count": 50,
   "metadata": {},
   "outputs": [
    {
     "data": {
      "image/png": "[encoded data removed]",
      "text/plain": [
       "<Figure size 1080x360 with 1 Axes>"
      ]
     },
     "metadata": {
      "needs_background": "light"
     },
     "output_type": "display_data"
    }
   ],
   "source": [
    "#построим распределение жанров по количеству проданных игр для каждой платформы за 2015 и 2016 годы\n",
    "\n",
    "(games_data\n",
    " .query('year_of_release == [2015,2016]')\n",
    " .query('platform == [\"PS4\", \"3DS\", \"XOne\",\"WiiU\"]')\n",
    " .pivot_table(index='genre', columns='platform', values='name', aggfunc='count')\n",
    " .plot(kind='bar', alpha=0.5, figsize=(15,5), grid=True, color=('darkgray', 'darkcyan', 'lightcoral', 'darkred'))\n",
    ")\n",
    "\n",
    "plt.title('Распределение жанров по количеству проданных игр для каждой платформы с 2015 по 2016 годы')\n",
    "plt.xlabel('Жанр')\n",
    "plt.ylabel('Количество выпущенных игр')\n",
    "\n",
    "plt.show()"
   ]
  },
  {
   "cell_type": "markdown",
   "metadata": {},
   "source": [
    "### Комментарий\n",
    "\n",
    "Теперь можно посмотреть какие жанры были наиболее востребованы для каждой платформы отдельно.\n",
    "\n",
    "- Для PS4 больше покупают игры в жанрах: Action и Role-Playing\n",
    "- Для XOne: Action и Shooter\n",
    "- Для 3DS: Action и Role-Playing\n",
    "- Для WiiU: Action и Misc\n",
    "\n",
    "Также, стоит отметить, что по некоторым жанрам большие продажи не по всем платформам. Так, например, почти все продажи по жанрам Shooter и Sports приходятся на консоли PS4 и XOne, а консоли Nintendo по ним подаж почти не имеют. А в жанре Role-Playing большую выручку приносят консоли PS4 и 3DS. Значит при выборе игр для прогноза лучше учитывать для какой именно приставки разрабатывают больше игр в этом жанре."
   ]
  },
  {
   "cell_type": "code",
   "execution_count": 51,
   "metadata": {},
   "outputs": [
    {
     "data": {
      "image/png": "[encoded data removed]",
      "text/plain": [
       "<Figure size 1080x360 with 1 Axes>"
      ]
     },
     "metadata": {
      "needs_background": "light"
     },
     "output_type": "display_data"
    }
   ],
   "source": [
    "#построим распределение жанров по количеству проданных игр для каждой платформы за 2015 и 2016 годы\n",
    "(games_data\n",
    " .query('year_of_release == [2015,2016]')\n",
    " .query('platform == [\"PS4\", \"3DS\", \"XOne\",\"WiiU\"]')\n",
    " .pivot_table(index='genre', columns='platform', values='total_sales', aggfunc='sum')\n",
    " .plot(kind='bar', alpha=0.5, figsize=(15,5), grid=True, color=('darkgray', 'darkcyan', 'lightcoral', 'darkred'))\n",
    ")\n",
    "\n",
    "plt.title('Распределение жанров по выручке для каждой платформы с 2015 по 2016 годы')\n",
    "plt.xlabel('Жанр')\n",
    "plt.ylabel('Суммарная выручка')\n",
    "\n",
    "plt.show()"
   ]
  },
  {
   "cell_type": "markdown",
   "metadata": {},
   "source": [
    "### Комментарий\n",
    "\n",
    "Распределение показателей выручки для каждого жанра скажет нам больше, если рассматривать данные по каждой платформе.\n",
    "\n",
    "- Максимальную выручку для платформы PS4 принесли жанры: Shooter (больше всех за последние два года), Sports и Action.\n",
    "- Максимальную выручку для платформы XOne принесли жанры: Shooter (больше всех за последние два года), Sports и Action\n",
    "- Максимальную выручку для платформы 3DS принесли жанры: Action, Role-Playing и Simulation\n",
    "- Максимальную выручку для платформы WiiU принесли жанры: Platform и Shooter"
   ]
  },
  {
   "cell_type": "markdown",
   "metadata": {},
   "source": [
    "## Промежуточный вывод\n",
    "\n",
    "Некоторые жанры приносят значительно больше выручки из-за количества выпускаемых игр в этом жанре. Значит нужно оценить жанры по популярности, количеству и прошлогодней выручке.\n",
    "\n",
    "Первое, что важно отметить — с 2015 по 2016 годы **выручка по каждому жанру значительно упала**. Это значит, что в целом продажи игр для консолей снизились. При этом **объем разрабатываемых и выпускаемых игр тоже снизился**, но не по всем жанрам. В жанре **Shooter** в 2016 году было выпущено значительно больше игр, несмотря на падение по выручке. Такой же показаель и у жанров **Adventure, Simulation, Racing и Platform**.\n",
    "\n",
    "- Самыми прибыльными жанрами в 2015 году были: **Shooter, Action и Sport**\n",
    "- Самыми прибыльными жанрами в 2016 году были: **Shooter, Sport и Role-Playing**\n",
    "\n",
    "\n",
    "- В жанре Shooter основную выручку принесли платформы **PS4 и XOne**\n",
    "- В жанре Action основную выручку принесли платформы **PS4 и 3DS**\n",
    "- В жанре Sport основную выручку принесли платформы **PS4 и XOne**\n",
    "- В жанре Role-Playing основную выручку принесли платформы **PS4 и 3DS**\n",
    "\n",
    "По платформе WiiU продажи очень низкие. А такие жанры как Strategy и Puzzle вообще не имели прибыли."
   ]
  },
  {
   "cell_type": "markdown",
   "metadata": {},
   "source": [
    "## Вывод по исследовательскому анализу\n",
    "\n",
    "#### 1. Cколько игр выпускалось в разные годы?\n",
    "\n",
    "До 2010 года количество выпущенных игр увеличивалось, а после начало снижаться. \n",
    "\n",
    "До 1995 года игр выпускалось очень мало — меньше 400 в год. За 15 лет, с 1980 по 1995 годы было выпущено всего 707 игр. \n",
    "\n",
    "В 2006 году количество выпущенных игр превысило 100 в год, в 2008 и 2009 годах было выпущено больше 1400 игр, но после количество начало снижаться. К 2016 году количество выпущенных игр снизилось до 502 в год.\n",
    "\n",
    "#### 2. Как менялись продажи по платформам?\n",
    "\n",
    "Каждая новая консоль **Nintendo** приносила все меньше выручки с каждым годом. Для консоли **XOne** выручка росла до 2015 года, но в 2016 упала почти до выручки 2014 года. **Xbox** 360 была очень популярна в 2013 году, но с каждым годом продажи резко падали и в 2016 продаж было меньше, чем на один миллион. Выручка по **PS3** начала снижаться в 2014 году — как раз тогда появилась PS4. PlayStation 4 уже через год после запуска достигла прибыли больше 70 млн., а в 2015 — почти 80 млн. В 2016 выручка упала ниже 40 млн, но это все еще высокий показатель по графику.\n",
    "\n",
    "#### 3. Какая платформа потенциально прибыльная?\n",
    "\n",
    "**PlayStation 4** остается самой прибыльной, **XOne** на втором месте, Nintendo имеет наименее прибыльные продажи по своим консолям. В 2016 году выпустили больше игр для таких платформ, как: **PC, PS4 и XOne**. Можно предположить, что разработчики игр считают эти платформы перспективными, а потому выпускают больше игр для них.\n",
    "\n",
    "Для некоторых плафтформ показатели снижаются в течение нескольких лет, несмотря на то, что в 2016 прибыль довольно высокая. Нужно отметить платформы, где выручка растет несколько лет — это **PS4, XOne и PC**.\n",
    "\n",
    "#### 4. Как менялись глобальные продажи игр в разбивке по платформам?\n",
    "\n",
    "Продажи по всем ведущим платформам снизились с 2015 по 2016 год. \n",
    "- PS4 в 2015 году принесла 79 млн., а в 2016 - 37 млн.\n",
    "- XOne в 2015 году принесла 39 млн., а в 2016 - 13 млн.\n",
    "- 3DS в 2015 году принесла 13 млн., а в 2016 - 8 млн.\n",
    "- WiiU в 2015 году принесла 9 млн., а в 2016 - 2 млн.\n",
    "\n",
    "\n",
    "\n",
    "\n",
    "#### 5. Как влияют отзывы пользователей и критиков на продажи?\n",
    "\n",
    "Есть небольшая зависимость между отзывами критиков и прибылью, но она недостаточно значительная, чтобы брать ее как основной показатель для прогнозирования. Оценка пользователей не влияет на продажи.\n",
    "\n",
    "#### 6. Что можно сказать о самых прибыльных жанрах? Выделяются ли жанры с высокими и низкими продажами?\n",
    "\n",
    "Первое, что важно отметить — с 2015 по 2016 годы выручка по каждому жанру значительно упала. В жанре Shooter в 2016 году было выпущено значительно больше игр, несмотря на падение по выручке. Такой же показаель и у жанров Adventure, Simulation, Racing и Platform.\n",
    "\n",
    "- Самыми прибыльными жанрами в 2015 году были: Shooter, Action и Sport\n",
    "- Самыми прибыльными жанрами в 2016 году были: Shooter, Sport и Role-Playing\n",
    "\n",
    "\n",
    "- В жанре Shooter основную выручку принесли платформы PS4 и XOne\n",
    "- В жанре Action основную выручку принесли платформы PS4 и 3DS\n",
    "- В жанре Sport основную выручку принесли платформы PS4 и XOne\n",
    "- В жанре Role-Playing основную выручку принесли платформы PS4 и 3DS\n",
    "\n",
    "По платформе WiiU продажи очень низкие. А такие жанры как Strategy и Puzzle вообще не имели прибыли."
   ]
  },
  {
   "cell_type": "markdown",
   "metadata": {},
   "source": [
    "---"
   ]
  },
  {
   "cell_type": "markdown",
   "metadata": {},
   "source": [
    "# <a id=\"three\"> Портрет пользователя каждого региона</a>"
   ]
  },
  {
   "cell_type": "markdown",
   "metadata": {},
   "source": [
    "Определим для пользователя каждого региона:\n",
    "    - топ-5 самых популярных платформ и опишем различия в долях продаж\n",
    "    - топ-5 самых популярных жанров и опишем их различия\n",
    "    - влияет ли рейтинг ESRB на продажи в отдельном регионе?\n",
    "    \n",
    "У нас есть данные по продажам в Северной Америке, Европе, Японии и суммарные продажи в других странах. Сумма в столбцах представлена в миллионах долларов."
   ]
  },
  {
   "cell_type": "markdown",
   "metadata": {},
   "source": [
    "### Топ-5 самых популярных платформ для каждого региона"
   ]
  },
  {
   "cell_type": "code",
   "execution_count": 55,
   "metadata": {},
   "outputs": [],
   "source": [
    "#посмотрим суммарную прибыль по каждой платформе для разных регионов\n",
    "na = games_data\\\n",
    "    .groupby('platform')\\\n",
    "    .agg({'na_sales':'sum'})\\\n",
    "    .sort_values(by='na_sales', ascending=False)[:10]\\\n",
    "    .reset_index()\\\n",
    "    .rename(columns={'platform': 'na_platform'})\n",
    "eu = games_data\\\n",
    "    .groupby('platform')\\\n",
    "    .agg({'eu_sales':'sum'})\\\n",
    "    .sort_values(by='eu_sales', ascending=False)[:10]\\\n",
    "    .reset_index()\\\n",
    "    .rename(columns={'platform': 'eu_platform'})\n",
    "jp = games_data\\\n",
    "    .groupby('platform')\\\n",
    "    .agg({'jp_sales':'sum'})\\\n",
    "    .sort_values(by='jp_sales', ascending=False)[:10]\\\n",
    "    .reset_index()\\\n",
    "    .rename(columns={'platform': 'jp_platform'})"
   ]
  },
  {
   "cell_type": "code",
   "execution_count": 56,
   "metadata": {},
   "outputs": [
    {
     "data": {
      "text/html": [
       "<div>\n",
       "<style scoped>\n",
       "    .dataframe tbody tr th:only-of-type {\n",
       "        vertical-align: middle;\n",
       "    }\n",
       "\n",
       "    .dataframe tbody tr th {\n",
       "        vertical-align: top;\n",
       "    }\n",
       "\n",
       "    .dataframe thead th {\n",
       "        text-align: right;\n",
       "    }\n",
       "</style>\n",
       "<table border=\"1\" class=\"dataframe\">\n",
       "  <thead>\n",
       "    <tr style=\"text-align: right;\">\n",
       "      <th></th>\n",
       "      <th>na_platform</th>\n",
       "      <th>na_sales</th>\n",
       "      <th>eu_platform</th>\n",
       "      <th>eu_sales</th>\n",
       "      <th>jp_platform</th>\n",
       "      <th>jp_sales</th>\n",
       "    </tr>\n",
       "  </thead>\n",
       "  <tbody>\n",
       "    <tr>\n",
       "      <td>0</td>\n",
       "      <td>X360</td>\n",
       "      <td>602.47</td>\n",
       "      <td>PS2</td>\n",
       "      <td>339.29</td>\n",
       "      <td>DS</td>\n",
       "      <td>175.57</td>\n",
       "    </tr>\n",
       "    <tr>\n",
       "      <td>1</td>\n",
       "      <td>PS2</td>\n",
       "      <td>583.84</td>\n",
       "      <td>PS3</td>\n",
       "      <td>330.29</td>\n",
       "      <td>PS</td>\n",
       "      <td>139.82</td>\n",
       "    </tr>\n",
       "    <tr>\n",
       "      <td>2</td>\n",
       "      <td>Wii</td>\n",
       "      <td>496.90</td>\n",
       "      <td>X360</td>\n",
       "      <td>270.76</td>\n",
       "      <td>PS2</td>\n",
       "      <td>139.20</td>\n",
       "    </tr>\n",
       "    <tr>\n",
       "      <td>3</td>\n",
       "      <td>PS3</td>\n",
       "      <td>393.49</td>\n",
       "      <td>Wii</td>\n",
       "      <td>262.21</td>\n",
       "      <td>SNES</td>\n",
       "      <td>116.55</td>\n",
       "    </tr>\n",
       "    <tr>\n",
       "      <td>4</td>\n",
       "      <td>DS</td>\n",
       "      <td>382.40</td>\n",
       "      <td>PS</td>\n",
       "      <td>213.61</td>\n",
       "      <td>3DS</td>\n",
       "      <td>100.67</td>\n",
       "    </tr>\n",
       "    <tr>\n",
       "      <td>5</td>\n",
       "      <td>PS</td>\n",
       "      <td>336.52</td>\n",
       "      <td>DS</td>\n",
       "      <td>188.89</td>\n",
       "      <td>NES</td>\n",
       "      <td>98.65</td>\n",
       "    </tr>\n",
       "    <tr>\n",
       "      <td>6</td>\n",
       "      <td>GBA</td>\n",
       "      <td>187.54</td>\n",
       "      <td>PC</td>\n",
       "      <td>142.44</td>\n",
       "      <td>GB</td>\n",
       "      <td>85.12</td>\n",
       "    </tr>\n",
       "    <tr>\n",
       "      <td>7</td>\n",
       "      <td>XB</td>\n",
       "      <td>186.69</td>\n",
       "      <td>PS4</td>\n",
       "      <td>141.09</td>\n",
       "      <td>PS3</td>\n",
       "      <td>80.19</td>\n",
       "    </tr>\n",
       "    <tr>\n",
       "      <td>8</td>\n",
       "      <td>N64</td>\n",
       "      <td>139.02</td>\n",
       "      <td>GBA</td>\n",
       "      <td>75.25</td>\n",
       "      <td>PSP</td>\n",
       "      <td>76.78</td>\n",
       "    </tr>\n",
       "    <tr>\n",
       "      <td>9</td>\n",
       "      <td>GC</td>\n",
       "      <td>133.46</td>\n",
       "      <td>PSP</td>\n",
       "      <td>66.68</td>\n",
       "      <td>Wii</td>\n",
       "      <td>69.33</td>\n",
       "    </tr>\n",
       "  </tbody>\n",
       "</table>\n",
       "</div>"
      ],
      "text/plain": [
       "  na_platform  na_sales eu_platform  eu_sales jp_platform  jp_sales\n",
       "0        X360    602.47         PS2    339.29          DS    175.57\n",
       "1         PS2    583.84         PS3    330.29          PS    139.82\n",
       "2         Wii    496.90        X360    270.76         PS2    139.20\n",
       "3         PS3    393.49         Wii    262.21        SNES    116.55\n",
       "4          DS    382.40          PS    213.61         3DS    100.67\n",
       "5          PS    336.52          DS    188.89         NES     98.65\n",
       "6         GBA    187.54          PC    142.44          GB     85.12\n",
       "7          XB    186.69         PS4    141.09         PS3     80.19\n",
       "8         N64    139.02         GBA     75.25         PSP     76.78\n",
       "9          GC    133.46         PSP     66.68         Wii     69.33"
      ]
     },
     "execution_count": 56,
     "metadata": {},
     "output_type": "execute_result"
    }
   ],
   "source": [
    "pd.concat([na, eu, jp], axis=1)"
   ]
  },
  {
   "cell_type": "code",
   "execution_count": 54,
   "metadata": {},
   "outputs": [
    {
     "data": {
      "text/html": [
       "<div>\n",
       "<style scoped>\n",
       "    .dataframe tbody tr th:only-of-type {\n",
       "        vertical-align: middle;\n",
       "    }\n",
       "\n",
       "    .dataframe tbody tr th {\n",
       "        vertical-align: top;\n",
       "    }\n",
       "\n",
       "    .dataframe thead th {\n",
       "        text-align: right;\n",
       "    }\n",
       "</style>\n",
       "<table border=\"1\" class=\"dataframe\">\n",
       "  <thead>\n",
       "    <tr style=\"text-align: right;\">\n",
       "      <th></th>\n",
       "      <th>other_sales</th>\n",
       "    </tr>\n",
       "    <tr>\n",
       "      <th>platform</th>\n",
       "      <th></th>\n",
       "    </tr>\n",
       "  </thead>\n",
       "  <tbody>\n",
       "    <tr>\n",
       "      <td>PS4</td>\n",
       "      <td>28.70</td>\n",
       "    </tr>\n",
       "    <tr>\n",
       "      <td>XOne</td>\n",
       "      <td>7.71</td>\n",
       "    </tr>\n",
       "    <tr>\n",
       "      <td>PS3</td>\n",
       "      <td>2.49</td>\n",
       "    </tr>\n",
       "    <tr>\n",
       "      <td>3DS</td>\n",
       "      <td>1.67</td>\n",
       "    </tr>\n",
       "    <tr>\n",
       "      <td>WiiU</td>\n",
       "      <td>1.48</td>\n",
       "    </tr>\n",
       "    <tr>\n",
       "      <td>X360</td>\n",
       "      <td>1.22</td>\n",
       "    </tr>\n",
       "    <tr>\n",
       "      <td>PC</td>\n",
       "      <td>0.95</td>\n",
       "    </tr>\n",
       "    <tr>\n",
       "      <td>PSV</td>\n",
       "      <td>0.47</td>\n",
       "    </tr>\n",
       "    <tr>\n",
       "      <td>Wii</td>\n",
       "      <td>0.10</td>\n",
       "    </tr>\n",
       "    <tr>\n",
       "      <td>PSP</td>\n",
       "      <td>0.00</td>\n",
       "    </tr>\n",
       "  </tbody>\n",
       "</table>\n",
       "</div>"
      ],
      "text/plain": [
       "          other_sales\n",
       "platform             \n",
       "PS4             28.70\n",
       "XOne             7.71\n",
       "PS3              2.49\n",
       "3DS              1.67\n",
       "WiiU             1.48\n",
       "X360             1.22\n",
       "PC               0.95\n",
       "PSV              0.47\n",
       "Wii              0.10\n",
       "PSP              0.00"
      ]
     },
     "execution_count": 54,
     "metadata": {},
     "output_type": "execute_result"
    }
   ],
   "source": [
    "#посмотрим суммарную прибыль по каждой платформе для других регионов\n",
    "(games_data\n",
    " .query('year_of_release == [2015,2016]')\n",
    " .pivot_table(index='platform', values='other_sales', aggfunc='sum')\n",
    " .sort_values(by='other_sales', ascending=False)\n",
    ")"
   ]
  },
  {
   "cell_type": "code",
   "execution_count": 57,
   "metadata": {},
   "outputs": [
    {
     "data": {
      "image/png": "[encoded data removed]",
      "text/plain": [
       "<Figure size 1080x360 with 1 Axes>"
      ]
     },
     "metadata": {
      "needs_background": "light"
     },
     "output_type": "display_data"
    }
   ],
   "source": [
    "#построим распределение суммарной прибыли для каждой платформы по четырем регионам\n",
    "(games_data\n",
    " .query('year_of_release == [2015,2016]')\n",
    " .pivot_table(index='platform', values=['na_sales','eu_sales','jp_sales','other_sales'], aggfunc='sum')\n",
    " .sort_values(by='na_sales', ascending=False)\n",
    " .plot(kind='bar', alpha=0.5, figsize=(15,5), grid=True, color=('darkgray', 'darkcyan', 'lightcoral', 'darkred'))\n",
    ")\n",
    "\n",
    "plt.title('Распределение суммарной прибыли для каждой платформы по четырем регионам')\n",
    "plt.xlabel('Платформа')\n",
    "plt.ylabel('Суммарная выручка')\n",
    "\n",
    "plt.show()"
   ]
  },
  {
   "cell_type": "markdown",
   "metadata": {},
   "source": [
    "### Комментарий\n",
    "\n",
    "Топ-5 самых популярных платформ для каждого региона\n",
    "\n",
    "- В **Северной Америке** максимальная выручка была по следующим платформам: 1. PS4, 2. XOne, 3. 3DS, 4. WiiU, 5. X360\n",
    "- В **Европе**: 1. PS4, 2. XOne, 3. PC, 4. 3DS, 5. PS3\n",
    "- В **Японии**: 1. 3DS, 2. PS4, 3. PSV, 4. PS3, 5. WiiU\n",
    "- Продажи **в других странах**: 1. PS4, 2. XOne, 3. PS3, 4. 3DS, 5. WiiU"
   ]
  },
  {
   "cell_type": "markdown",
   "metadata": {},
   "source": [
    "----"
   ]
  },
  {
   "cell_type": "markdown",
   "metadata": {},
   "source": [
    "## Топ-5 самых популярных жанров для каждого региона"
   ]
  },
  {
   "cell_type": "markdown",
   "metadata": {},
   "source": [
    "Чтобы определить самые популярные жанры для каждого региона, найдем по каким жанрам в регионе были самые большие продажи и построим распределение."
   ]
  },
  {
   "cell_type": "code",
   "execution_count": 58,
   "metadata": {},
   "outputs": [
    {
     "data": {
      "image/png": "[encoded data removed]",
      "text/plain": [
       "<Figure size 1080x360 with 1 Axes>"
      ]
     },
     "metadata": {
      "needs_background": "light"
     },
     "output_type": "display_data"
    }
   ],
   "source": [
    "#построим распределение выручки по жанрам для каждого региона\n",
    "\n",
    "(games_data\n",
    " .query('year_of_release == [2015,2016]')\n",
    " .pivot_table(index='genre', values=['na_sales','eu_sales','jp_sales','other_sales'], aggfunc='sum')\n",
    " .sort_values(by='other_sales', ascending=False)\n",
    " .plot(kind='bar', alpha=0.5, figsize=(15,5), grid=True, color=('darkgray', 'darkcyan', 'lightcoral', 'darkred'))\n",
    ")\n",
    "\n",
    "plt.title('Распределение выручки по жанрам для каждого региона')\n",
    "plt.xlabel('Жанры')\n",
    "plt.ylabel('Суммарная выручка')\n",
    "\n",
    "plt.show()"
   ]
  },
  {
   "cell_type": "markdown",
   "metadata": {},
   "source": [
    "### Комментарий\n",
    "\n",
    "Топ-5 самых популярных жанров для каждого региона:\n",
    "\n",
    "- В **Северной Америке** максимальная выручка была по следующим платформам: 1. Shooter, 2. Action, 3. Sport, 4. Role-Playing, 5. Misc\n",
    "- В **Европе**: 1. Shooter, 2. Action, 3. Sport, 4. Role-Playing, 5. Racing\n",
    "- В **Японии**: 1. Action, 2. Role-Playing, 3. Shooter, 4. Misc, 5. Adventure\n",
    "- Продажи **в других странах**: 1. Shooter, 2. Action, 3. Sport, 4. Role-Playing, 5. Fighting"
   ]
  },
  {
   "cell_type": "markdown",
   "metadata": {},
   "source": [
    "----"
   ]
  },
  {
   "cell_type": "markdown",
   "metadata": {},
   "source": [
    "## Влияет ли рейтинг ESRB на продажи в отдельном регионе?"
   ]
  },
  {
   "cell_type": "markdown",
   "metadata": {},
   "source": [
    "«Рейтинг игр ESRB основан на их содержании аналогично рейтинговым системам кинофильмов. Рейтинг игры напечатан на упаковке, содержится в её рекламе и указан на сайте игры».\n",
    "\n",
    "- E — («Everyone») — «Для всех»\n",
    "- T — («Teen») — «Подросткам 13—19 лет»\n",
    "- M — («Mature») — «От 17 лет»\n",
    "- E10+ — («Everyone 10 and older») — «Для всех старше 10 лет»\n",
    "- EC — («Early childhood») — «Для детей младшего возраста»\n",
    "- K-A — Первоначально \"K-A\" (\"Kids to Adults\"), сейчас («Everyone») — «Для всех»\n",
    "- RP — («Rating Pending»») — «Рейтинг ожидается». Продукт был отправлен в ESRB и ожидает присвоение рейтинга. \n",
    "- AO — («Adults Only 18+») — «Только для взрослых»"
   ]
  },
  {
   "cell_type": "code",
   "execution_count": 59,
   "metadata": {},
   "outputs": [
    {
     "data": {
      "text/plain": [
       "E       3990\n",
       "T       2961\n",
       "M       1563\n",
       "E10+    1420\n",
       "EC         8\n",
       "K-A        3\n",
       "RP         3\n",
       "AO         1\n",
       "Name: rating, dtype: int64"
      ]
     },
     "execution_count": 59,
     "metadata": {},
     "output_type": "execute_result"
    }
   ],
   "source": [
    "#посмотрим сколько игр с определеннным рейтингом выпущено\n",
    "games_data['rating'].value_counts()"
   ]
  },
  {
   "cell_type": "code",
   "execution_count": 60,
   "metadata": {},
   "outputs": [
    {
     "data": {
      "image/png": "[encoded data removed]",
      "text/plain": [
       "<Figure size 1080x360 with 1 Axes>"
      ]
     },
     "metadata": {
      "needs_background": "light"
     },
     "output_type": "display_data"
    }
   ],
   "source": [
    "#распределение суммарных продаж по рейтингку для каждого региона\n",
    "\n",
    "(games_data\n",
    " .query('year_of_release == [2015,2016]')\n",
    " .pivot_table(index='rating', values=['na_sales','eu_sales','jp_sales','other_sales'], aggfunc='sum')\n",
    " .sort_values(by='other_sales', ascending=False)\n",
    " .plot(kind='bar', alpha=0.5, figsize=(15,5), grid=True, color=('darkgray', 'darkcyan', 'lightcoral', 'darkred'))\n",
    ")\n",
    "\n",
    "plt.title('Распределение выручки по рейтингу ESRB для каждого региона')\n",
    "plt.xlabel('Рейтинг')\n",
    "plt.ylabel('Суммарная выручка')\n",
    "\n",
    "plt.show()"
   ]
  },
  {
   "cell_type": "markdown",
   "metadata": {},
   "source": [
    "### Комментрий\n",
    "\n",
    "В Америке, Европе и других регионах кроме Японии имеют самые большие продажи игр с рейтингом «M», затем с рейтингом «E», затем «T» и «E10+». В Японии же максимальные продажи для игр с рейтингом «T», а затем «E»,«M» и «E10+»."
   ]
  },
  {
   "cell_type": "code",
   "execution_count": 61,
   "metadata": {},
   "outputs": [],
   "source": [
    "#также построим таблицу для наглядности — так мы увидим различия и сходства в данных\n",
    "\n",
    "na = games_data\\\n",
    "    .groupby('genre')\\\n",
    "    .agg({'na_sales':'sum'})\\\n",
    "    .sort_values(by='na_sales', ascending=False)[:10]\\\n",
    "    .reset_index()\\\n",
    "    .rename(columns={'genre': 'na_genre'})\n",
    "eu = games_data\\\n",
    "    .groupby('genre')\\\n",
    "    .agg({'eu_sales':'sum'})\\\n",
    "    .sort_values(by='eu_sales', ascending=False)[:10]\\\n",
    "    .reset_index()\\\n",
    "    .rename(columns={'genre': 'eu_genre'})\n",
    "jp = games_data\\\n",
    "    .groupby('genre')\\\n",
    "    .agg({'jp_sales':'sum'})\\\n",
    "    .sort_values(by='jp_sales', ascending=False)[:10]\\\n",
    "    .reset_index()\\\n",
    "    .rename(columns={'genre': 'jp_genre'})"
   ]
  },
  {
   "cell_type": "code",
   "execution_count": 62,
   "metadata": {},
   "outputs": [
    {
     "data": {
      "text/html": [
       "<style  type=\"text/css\" >\n",
       "    #T_dd0adf34_bf03_11ea_bfc9_02420a394c36 tr:hover {\n",
       "          background-color: #0B62B9;\n",
       "    }</style><table id=\"T_dd0adf34_bf03_11ea_bfc9_02420a394c36\" ><thead>    <tr>        <th class=\"blank level0\" ></th>        <th class=\"col_heading level0 col0\" >na_genre</th>        <th class=\"col_heading level0 col1\" >na_sales</th>        <th class=\"col_heading level0 col2\" >eu_genre</th>        <th class=\"col_heading level0 col3\" >eu_sales</th>        <th class=\"col_heading level0 col4\" >jp_genre</th>        <th class=\"col_heading level0 col5\" >jp_sales</th>    </tr></thead><tbody>\n",
       "                <tr>\n",
       "                        <th id=\"T_dd0adf34_bf03_11ea_bfc9_02420a394c36level0_row0\" class=\"row_heading level0 row0\" >0</th>\n",
       "                        <td id=\"T_dd0adf34_bf03_11ea_bfc9_02420a394c36row0_col0\" class=\"data row0 col0\" >Action</td>\n",
       "                        <td id=\"T_dd0adf34_bf03_11ea_bfc9_02420a394c36row0_col1\" class=\"data row0 col1\" >879.01</td>\n",
       "                        <td id=\"T_dd0adf34_bf03_11ea_bfc9_02420a394c36row0_col2\" class=\"data row0 col2\" >Action</td>\n",
       "                        <td id=\"T_dd0adf34_bf03_11ea_bfc9_02420a394c36row0_col3\" class=\"data row0 col3\" >519.13</td>\n",
       "                        <td id=\"T_dd0adf34_bf03_11ea_bfc9_02420a394c36row0_col4\" class=\"data row0 col4\" >Role-Playing</td>\n",
       "                        <td id=\"T_dd0adf34_bf03_11ea_bfc9_02420a394c36row0_col5\" class=\"data row0 col5\" >355.41</td>\n",
       "            </tr>\n",
       "            <tr>\n",
       "                        <th id=\"T_dd0adf34_bf03_11ea_bfc9_02420a394c36level0_row1\" class=\"row_heading level0 row1\" >1</th>\n",
       "                        <td id=\"T_dd0adf34_bf03_11ea_bfc9_02420a394c36row1_col0\" class=\"data row1 col0\" >Sports</td>\n",
       "                        <td id=\"T_dd0adf34_bf03_11ea_bfc9_02420a394c36row1_col1\" class=\"data row1 col1\" >684.43</td>\n",
       "                        <td id=\"T_dd0adf34_bf03_11ea_bfc9_02420a394c36row1_col2\" class=\"data row1 col2\" >Sports</td>\n",
       "                        <td id=\"T_dd0adf34_bf03_11ea_bfc9_02420a394c36row1_col3\" class=\"data row1 col3\" >376.79</td>\n",
       "                        <td id=\"T_dd0adf34_bf03_11ea_bfc9_02420a394c36row1_col4\" class=\"data row1 col4\" >Action</td>\n",
       "                        <td id=\"T_dd0adf34_bf03_11ea_bfc9_02420a394c36row1_col5\" class=\"data row1 col5\" >161.43</td>\n",
       "            </tr>\n",
       "            <tr>\n",
       "                        <th id=\"T_dd0adf34_bf03_11ea_bfc9_02420a394c36level0_row2\" class=\"row_heading level0 row2\" >2</th>\n",
       "                        <td id=\"T_dd0adf34_bf03_11ea_bfc9_02420a394c36row2_col0\" class=\"data row2 col0\" >Shooter</td>\n",
       "                        <td id=\"T_dd0adf34_bf03_11ea_bfc9_02420a394c36row2_col1\" class=\"data row2 col1\" >592.24</td>\n",
       "                        <td id=\"T_dd0adf34_bf03_11ea_bfc9_02420a394c36row2_col2\" class=\"data row2 col2\" >Shooter</td>\n",
       "                        <td id=\"T_dd0adf34_bf03_11ea_bfc9_02420a394c36row2_col3\" class=\"data row2 col3\" >317.34</td>\n",
       "                        <td id=\"T_dd0adf34_bf03_11ea_bfc9_02420a394c36row2_col4\" class=\"data row2 col4\" >Sports</td>\n",
       "                        <td id=\"T_dd0adf34_bf03_11ea_bfc9_02420a394c36row2_col5\" class=\"data row2 col5\" >135.54</td>\n",
       "            </tr>\n",
       "            <tr>\n",
       "                        <th id=\"T_dd0adf34_bf03_11ea_bfc9_02420a394c36level0_row3\" class=\"row_heading level0 row3\" >3</th>\n",
       "                        <td id=\"T_dd0adf34_bf03_11ea_bfc9_02420a394c36row3_col0\" class=\"data row3 col0\" >Platform</td>\n",
       "                        <td id=\"T_dd0adf34_bf03_11ea_bfc9_02420a394c36row3_col1\" class=\"data row3 col1\" >445.5</td>\n",
       "                        <td id=\"T_dd0adf34_bf03_11ea_bfc9_02420a394c36row3_col2\" class=\"data row3 col2\" >Racing</td>\n",
       "                        <td id=\"T_dd0adf34_bf03_11ea_bfc9_02420a394c36row3_col3\" class=\"data row3 col3\" >236.51</td>\n",
       "                        <td id=\"T_dd0adf34_bf03_11ea_bfc9_02420a394c36row3_col4\" class=\"data row3 col4\" >Platform</td>\n",
       "                        <td id=\"T_dd0adf34_bf03_11ea_bfc9_02420a394c36row3_col5\" class=\"data row3 col5\" >130.83</td>\n",
       "            </tr>\n",
       "            <tr>\n",
       "                        <th id=\"T_dd0adf34_bf03_11ea_bfc9_02420a394c36level0_row4\" class=\"row_heading level0 row4\" >4</th>\n",
       "                        <td id=\"T_dd0adf34_bf03_11ea_bfc9_02420a394c36row4_col0\" class=\"data row4 col0\" >Misc</td>\n",
       "                        <td id=\"T_dd0adf34_bf03_11ea_bfc9_02420a394c36row4_col1\" class=\"data row4 col1\" >407.27</td>\n",
       "                        <td id=\"T_dd0adf34_bf03_11ea_bfc9_02420a394c36row4_col2\" class=\"data row4 col2\" >Misc</td>\n",
       "                        <td id=\"T_dd0adf34_bf03_11ea_bfc9_02420a394c36row4_col3\" class=\"data row4 col3\" >212.74</td>\n",
       "                        <td id=\"T_dd0adf34_bf03_11ea_bfc9_02420a394c36row4_col4\" class=\"data row4 col4\" >Misc</td>\n",
       "                        <td id=\"T_dd0adf34_bf03_11ea_bfc9_02420a394c36row4_col5\" class=\"data row4 col5\" >108.11</td>\n",
       "            </tr>\n",
       "            <tr>\n",
       "                        <th id=\"T_dd0adf34_bf03_11ea_bfc9_02420a394c36level0_row5\" class=\"row_heading level0 row5\" >5</th>\n",
       "                        <td id=\"T_dd0adf34_bf03_11ea_bfc9_02420a394c36row5_col0\" class=\"data row5 col0\" >Racing</td>\n",
       "                        <td id=\"T_dd0adf34_bf03_11ea_bfc9_02420a394c36row5_col1\" class=\"data row5 col1\" >359.35</td>\n",
       "                        <td id=\"T_dd0adf34_bf03_11ea_bfc9_02420a394c36row5_col2\" class=\"data row5 col2\" >Platform</td>\n",
       "                        <td id=\"T_dd0adf34_bf03_11ea_bfc9_02420a394c36row5_col3\" class=\"data row5 col3\" >200.35</td>\n",
       "                        <td id=\"T_dd0adf34_bf03_11ea_bfc9_02420a394c36row5_col4\" class=\"data row5 col4\" >Fighting</td>\n",
       "                        <td id=\"T_dd0adf34_bf03_11ea_bfc9_02420a394c36row5_col5\" class=\"data row5 col5\" >87.48</td>\n",
       "            </tr>\n",
       "            <tr>\n",
       "                        <th id=\"T_dd0adf34_bf03_11ea_bfc9_02420a394c36level0_row6\" class=\"row_heading level0 row6\" >6</th>\n",
       "                        <td id=\"T_dd0adf34_bf03_11ea_bfc9_02420a394c36row6_col0\" class=\"data row6 col0\" >Role-Playing</td>\n",
       "                        <td id=\"T_dd0adf34_bf03_11ea_bfc9_02420a394c36row6_col1\" class=\"data row6 col1\" >330.81</td>\n",
       "                        <td id=\"T_dd0adf34_bf03_11ea_bfc9_02420a394c36row6_col2\" class=\"data row6 col2\" >Role-Playing</td>\n",
       "                        <td id=\"T_dd0adf34_bf03_11ea_bfc9_02420a394c36row6_col3\" class=\"data row6 col3\" >188.71</td>\n",
       "                        <td id=\"T_dd0adf34_bf03_11ea_bfc9_02420a394c36row6_col4\" class=\"data row6 col4\" >Simulation</td>\n",
       "                        <td id=\"T_dd0adf34_bf03_11ea_bfc9_02420a394c36row6_col5\" class=\"data row6 col5\" >63.8</td>\n",
       "            </tr>\n",
       "            <tr>\n",
       "                        <th id=\"T_dd0adf34_bf03_11ea_bfc9_02420a394c36level0_row7\" class=\"row_heading level0 row7\" >7</th>\n",
       "                        <td id=\"T_dd0adf34_bf03_11ea_bfc9_02420a394c36row7_col0\" class=\"data row7 col0\" >Fighting</td>\n",
       "                        <td id=\"T_dd0adf34_bf03_11ea_bfc9_02420a394c36row7_col1\" class=\"data row7 col1\" >223.36</td>\n",
       "                        <td id=\"T_dd0adf34_bf03_11ea_bfc9_02420a394c36row7_col2\" class=\"data row7 col2\" >Simulation</td>\n",
       "                        <td id=\"T_dd0adf34_bf03_11ea_bfc9_02420a394c36row7_col3\" class=\"data row7 col3\" >113.52</td>\n",
       "                        <td id=\"T_dd0adf34_bf03_11ea_bfc9_02420a394c36row7_col4\" class=\"data row7 col4\" >Puzzle</td>\n",
       "                        <td id=\"T_dd0adf34_bf03_11ea_bfc9_02420a394c36row7_col5\" class=\"data row7 col5\" >57.31</td>\n",
       "            </tr>\n",
       "            <tr>\n",
       "                        <th id=\"T_dd0adf34_bf03_11ea_bfc9_02420a394c36level0_row8\" class=\"row_heading level0 row8\" >8</th>\n",
       "                        <td id=\"T_dd0adf34_bf03_11ea_bfc9_02420a394c36row8_col0\" class=\"data row8 col0\" >Simulation</td>\n",
       "                        <td id=\"T_dd0adf34_bf03_11ea_bfc9_02420a394c36row8_col1\" class=\"data row8 col1\" >181.92</td>\n",
       "                        <td id=\"T_dd0adf34_bf03_11ea_bfc9_02420a394c36row8_col2\" class=\"data row8 col2\" >Fighting</td>\n",
       "                        <td id=\"T_dd0adf34_bf03_11ea_bfc9_02420a394c36row8_col3\" class=\"data row8 col3\" >100.33</td>\n",
       "                        <td id=\"T_dd0adf34_bf03_11ea_bfc9_02420a394c36row8_col4\" class=\"data row8 col4\" >Racing</td>\n",
       "                        <td id=\"T_dd0adf34_bf03_11ea_bfc9_02420a394c36row8_col5\" class=\"data row8 col5\" >56.71</td>\n",
       "            </tr>\n",
       "            <tr>\n",
       "                        <th id=\"T_dd0adf34_bf03_11ea_bfc9_02420a394c36level0_row9\" class=\"row_heading level0 row9\" >9</th>\n",
       "                        <td id=\"T_dd0adf34_bf03_11ea_bfc9_02420a394c36row9_col0\" class=\"data row9 col0\" >Puzzle</td>\n",
       "                        <td id=\"T_dd0adf34_bf03_11ea_bfc9_02420a394c36row9_col1\" class=\"data row9 col1\" >122.87</td>\n",
       "                        <td id=\"T_dd0adf34_bf03_11ea_bfc9_02420a394c36row9_col2\" class=\"data row9 col2\" >Adventure</td>\n",
       "                        <td id=\"T_dd0adf34_bf03_11ea_bfc9_02420a394c36row9_col3\" class=\"data row9 col3\" >63.54</td>\n",
       "                        <td id=\"T_dd0adf34_bf03_11ea_bfc9_02420a394c36row9_col4\" class=\"data row9 col4\" >Adventure</td>\n",
       "                        <td id=\"T_dd0adf34_bf03_11ea_bfc9_02420a394c36row9_col5\" class=\"data row9 col5\" >52.3</td>\n",
       "            </tr>\n",
       "    </tbody></table>"
      ],
      "text/plain": [
       "<pandas.io.formats.style.Styler at 0x7f6a360ddad0>"
      ]
     },
     "execution_count": 62,
     "metadata": {},
     "output_type": "execute_result"
    }
   ],
   "source": [
    "pd.concat([na, eu, jp], axis=1)\\\n",
    "    .style.set_table_styles(\n",
    "        [{'selector': 'tr:hover',\n",
    "          'props': [('background-color', '#0B62B9')]}]\n",
    ")"
   ]
  },
  {
   "cell_type": "markdown",
   "metadata": {},
   "source": [
    "## Промежуточный вывод\n",
    "\n",
    "#### 1. Топ-5 самых популярных платформ для каждого региона\n",
    "\n",
    "- В **Северной Америке** максимальная выручка была по следующим платформам: 1. PS4, 2. XOne, 3. 3DS, 4. WiiU, 5. X360\n",
    "- В **Европе**: 1. PS4, 2. XOne, 3. PC, 4. 3DS, 5. PS3\n",
    "- В **Японии**: 1. 3DS, 2. PS4, 3. PSV, 4. PS3, 5. WiiU\n",
    "- Продажи **в других странах**: 1. PS4, 2. XOne, 3. PS3, 4. 3DS, 5. WiiU\n",
    "\n",
    "#### 2. Топ-5 самых популярных жанров для каждого региона\n",
    "\n",
    "- В **Северной Америке** максимальная выручка была по следующим платформам: 1. Shooter, 2. Action, 3. Sport, 4. Role-Playing, 5. Misc\n",
    "- В **Европе**: 1. Shooter, 2. Action, 3. Sport, 4. Role-Playing, 5. Racing\n",
    "- В **Японии**: 1. Action, 2. Role-Playing, 3. Shooter, 4. Misc, 5. Adventure\n",
    "- Продажи **в других странах**: 1. Shooter, 2. Action, 3. Sport, 4. Role-Playing, 5. Fighting\n",
    "\n",
    "#### 3. Влияет ли рейтинг ESRB на продажи в отдельном регионе?\n",
    "\n",
    "Игры с разным рейтингом действительно имеют разницу в продажах. При этом игры с наиболее прибыльным рейтингом в Японии отличаются от остального мира.\n",
    "\n",
    "В Америке, Европе и других регионах кроме Японии имеют самые большие продажи игр с рейтингом «M», затем с рейтингом «E», затем «T» и «E10+». В Японии же максимальные продажи для игр с рейтингом «T», а затем «E»,«M» и «E10+»."
   ]
  },
  {
   "cell_type": "markdown",
   "metadata": {},
   "source": [
    "--- "
   ]
  },
  {
   "cell_type": "markdown",
   "metadata": {},
   "source": [
    "## Сравнение портретов пользователей по разным регионам"
   ]
  },
  {
   "cell_type": "markdown",
   "metadata": {},
   "source": [
    "Теперь мы имеем примерный портрет пользователя по каждому региону. Попробуем их сравнивать, что найти закономерности, особенности и различия."
   ]
  },
  {
   "cell_type": "code",
   "execution_count": 63,
   "metadata": {},
   "outputs": [
    {
     "data": {
      "text/html": [
       "<div>\n",
       "<style scoped>\n",
       "    .dataframe tbody tr th:only-of-type {\n",
       "        vertical-align: middle;\n",
       "    }\n",
       "\n",
       "    .dataframe tbody tr th {\n",
       "        vertical-align: top;\n",
       "    }\n",
       "\n",
       "    .dataframe thead th {\n",
       "        text-align: right;\n",
       "    }\n",
       "</style>\n",
       "<table border=\"1\" class=\"dataframe\">\n",
       "  <thead>\n",
       "    <tr style=\"text-align: right;\">\n",
       "      <th></th>\n",
       "      <th>регион</th>\n",
       "      <th>топ-5 платформ</th>\n",
       "      <th>топ-5 жанров</th>\n",
       "      <th>ведущие рейтинги ESRB</th>\n",
       "    </tr>\n",
       "  </thead>\n",
       "  <tbody>\n",
       "    <tr>\n",
       "      <td>0</td>\n",
       "      <td>Северная Америка</td>\n",
       "      <td>1. PS4, 2. XOne, 3. 3DS, 4. WiiU, 5. X360</td>\n",
       "      <td>Shooter, Action, Sport, Role-Playing, Misc</td>\n",
       "      <td>«M», «E», «T», «E10+»</td>\n",
       "    </tr>\n",
       "    <tr>\n",
       "      <td>1</td>\n",
       "      <td>Европа</td>\n",
       "      <td>1. PS4, 2. XOne, 3. PC, 4. 3DS, 5. PS3</td>\n",
       "      <td>Shooter, Action, Sport, Role-Playing, Racing</td>\n",
       "      <td>«M», «E», «T», «E10+»</td>\n",
       "    </tr>\n",
       "    <tr>\n",
       "      <td>2</td>\n",
       "      <td>Япония</td>\n",
       "      <td>1. 3DS, 2. PS4, 3. PSV, 4. PS3, 5. WiiU</td>\n",
       "      <td>Action, Role-Playing, Shooter, Misc, Adventure</td>\n",
       "      <td>«T», «E», «M»,«E10+»</td>\n",
       "    </tr>\n",
       "    <tr>\n",
       "      <td>3</td>\n",
       "      <td>другие страны</td>\n",
       "      <td>1. PS4, 2. XOne, 3. PS3, 4. 3DS, 5. WiiU</td>\n",
       "      <td>Shooter, Action, Sport, Role-Playing, Fighting</td>\n",
       "      <td>«M», «E», «T», «E10+»</td>\n",
       "    </tr>\n",
       "  </tbody>\n",
       "</table>\n",
       "</div>"
      ],
      "text/plain": [
       "             регион                             топ-5 платформ  \\\n",
       "0  Северная Америка  1. PS4, 2. XOne, 3. 3DS, 4. WiiU, 5. X360   \n",
       "1            Европа     1. PS4, 2. XOne, 3. PC, 4. 3DS, 5. PS3   \n",
       "2            Япония    1. 3DS, 2. PS4, 3. PSV, 4. PS3, 5. WiiU   \n",
       "3     другие страны   1. PS4, 2. XOne, 3. PS3, 4. 3DS, 5. WiiU   \n",
       "\n",
       "                                     топ-5 жанров  ведущие рейтинги ESRB  \n",
       "0      Shooter, Action, Sport, Role-Playing, Misc  «M», «E», «T», «E10+»  \n",
       "1    Shooter, Action, Sport, Role-Playing, Racing  «M», «E», «T», «E10+»  \n",
       "2  Action, Role-Playing, Shooter, Misc, Adventure   «T», «E», «M»,«E10+»  \n",
       "3  Shooter, Action, Sport, Role-Playing, Fighting  «M», «E», «T», «E10+»  "
      ]
     },
     "execution_count": 63,
     "metadata": {},
     "output_type": "execute_result"
    }
   ],
   "source": [
    "#построим таблицу, где соберем все данные по каждому региону\n",
    "\n",
    "columns = ['регион', 'топ-5 платформ', 'топ-5 жанров', 'ведущие рейтинги ESRB']\n",
    "region_users = [\n",
    "    ['Северная Америка', '1. PS4, 2. XOne, 3. 3DS, 4. WiiU, 5. X360', 'Shooter, Action, Sport, Role-Playing, Misc', '«M», «E», «T», «E10+»'],\n",
    "    ['Европа', '1. PS4, 2. XOne, 3. PC, 4. 3DS, 5. PS3', 'Shooter, Action, Sport, Role-Playing, Racing', '«M», «E», «T», «E10+»'],\n",
    "    ['Япония', '1. 3DS, 2. PS4, 3. PSV, 4. PS3, 5. WiiU', 'Action, Role-Playing, Shooter, Misc, Adventure', '«T», «E», «M»,«E10+»'],\n",
    "    ['другие страны', '1. PS4, 2. XOne, 3. PS3, 4. 3DS, 5. WiiU', 'Shooter, Action, Sport, Role-Playing, Fighting', '«M», «E», «T», «E10+»']\n",
    "]\n",
    "region_users = pd.DataFrame(data = region_users, columns = columns)\n",
    "region_users"
   ]
  },
  {
   "cell_type": "markdown",
   "metadata": {},
   "source": [
    "## Комментарий\n",
    "\n",
    "Портет пользователя в Японии значительно отличается от остальных регионов. Здесь лидирует платформа 3DS, а для этой платфорсы основной жанр был именно Action, так что в регионе этот жанр приносит наибольшую выручку. Также здесь большим спросом пользуются игры с рейтингом T — «Подросткам 13—19 лет».\n",
    "\n",
    "По остальным регионам спрос примерно на одинаковые игры."
   ]
  },
  {
   "cell_type": "markdown",
   "metadata": {},
   "source": [
    "-----"
   ]
  },
  {
   "cell_type": "markdown",
   "metadata": {},
   "source": [
    "# <a id=\"four\"> Проверка гипотез</a>"
   ]
  },
  {
   "cell_type": "markdown",
   "metadata": {},
   "source": [
    "Выдвинем две гипотезы:\n",
    "- Средние пользовательские рейтинги платформ Xbox One и PC одинаковые\n",
    "- Средние пользовательские рейтинги жанров Action и Sports разные\n",
    "\n",
    "Нам нужно сформулировать нулевую и альтернативную гипотезы, а затем определить критерий для проверки гипотез."
   ]
  },
  {
   "cell_type": "markdown",
   "metadata": {},
   "source": [
    "### Средние пользовательские рейтинги платформ Xbox One и PC одинаковые\n",
    "\n",
    "Нулевая гипотеза (H0) — Средние пользовательские рейтинги платформ Xbox One и PC **одинаковые**\n",
    "\n",
    "Альтернативная гипотеза (H1) — Средние пользовательские рейтинги платформ Xbox One и PC **не одинаковые**\n",
    "\n",
    "Для проверки гипотезы воспользуемся статистикой разности, а именно критерием p-value."
   ]
  },
  {
   "cell_type": "markdown",
   "metadata": {},
   "source": [
    "### Обработка пропусков в столбце с рейтингом"
   ]
  },
  {
   "cell_type": "code",
   "execution_count": 64,
   "metadata": {},
   "outputs": [],
   "source": [
    "#games_data['user_score'].isnull().sum()   #9125\n",
    "#games_data.query('platform == \"PC\"')['user_score'].isnull().sum() #204\n",
    "#games_data.query('platform == \"XOne\"')['user_score'].isnull().sum() #65 пропусков"
   ]
  },
  {
   "cell_type": "markdown",
   "metadata": {},
   "source": [
    "Заполнение пропусков для платформ XOne может значительно повлиять на результат, поэтому лучше использовать имеющиеся данные — их достаточно для проведения теста."
   ]
  },
  {
   "cell_type": "code",
   "execution_count": 65,
   "metadata": {},
   "outputs": [
    {
     "data": {
      "text/plain": [
       "7.062467532467533"
      ]
     },
     "execution_count": 65,
     "metadata": {},
     "output_type": "execute_result"
    }
   ],
   "source": [
    "games_data.query('platform == \"PC\"')['user_score'].mean()"
   ]
  },
  {
   "cell_type": "code",
   "execution_count": 66,
   "metadata": {},
   "outputs": [
    {
     "data": {
      "text/plain": [
       "6.521428571428572"
      ]
     },
     "execution_count": 66,
     "metadata": {},
     "output_type": "execute_result"
    }
   ],
   "source": [
    "games_data.query('platform == \"XOne\"')['user_score'].mean()"
   ]
  },
  {
   "cell_type": "markdown",
   "metadata": {},
   "source": [
    "### Проверка гипотезы"
   ]
  },
  {
   "cell_type": "code",
   "execution_count": 67,
   "metadata": {},
   "outputs": [
    {
     "name": "stdout",
     "output_type": "stream",
     "text": [
      "p-значение: 1.3896435533548819e-05\n",
      "Отвергаем нулевую гипотезу, принимаем альтернативную\n"
     ]
    }
   ],
   "source": [
    "#берем данные по двум платформам и только те, где есть оценка пользователей\n",
    "xone_score = (games_data\n",
    " .query('platform == \"XOne\"')\n",
    " .query('user_score == user_score')\n",
    ")\n",
    "\n",
    "pc_score = (games_data\n",
    " .query('platform == \"PC\"')\n",
    " .query('user_score == user_score')\n",
    ")\n",
    "\n",
    "#проверяем гипотезу\n",
    "xone_score = xone_score['user_score']\n",
    "pc_score = pc_score['user_score']\n",
    "\n",
    "alpha = .05\n",
    "\n",
    "results = st.ttest_ind(\n",
    "    xone_score, \n",
    "    pc_score)\n",
    "\n",
    "print('p-значение:', results.pvalue)\n",
    "\n",
    "if (results.pvalue < alpha):\n",
    "    print(\"Отвергаем нулевую гипотезу, принимаем альтернативную\")\n",
    "else:\n",
    "    print(\"Не получилось отвергнуть нулевую гипотезу\")"
   ]
  },
  {
   "cell_type": "markdown",
   "metadata": {},
   "source": [
    "### Комментарий\n",
    "\n",
    "p-значение достаточно небольшое, что дает основание отвергнуть нулевую гипотезу и принять альтернативную. Средние пользовательские рейтинги платформ Xbox One и PC **не одинаковые**."
   ]
  },
  {
   "cell_type": "markdown",
   "metadata": {},
   "source": [
    "----"
   ]
  },
  {
   "cell_type": "markdown",
   "metadata": {},
   "source": [
    "### Средние пользовательские рейтинги жанров Action и Sports разные\n",
    "\n",
    "Нулевая гипотеза (H0) — Средние пользовательские рейтинги жанров Action и Sports **одинаковые**\n",
    "\n",
    "Альтернативная гипотеза (H1) — Средние пользовательские рейтинги жанров Action и Sports **не одинаковые**\n",
    "\n",
    "Для проверки гипотезы воспользуемся статистикой разности, а именно критерием p-value."
   ]
  },
  {
   "cell_type": "code",
   "execution_count": 68,
   "metadata": {},
   "outputs": [],
   "source": [
    "#games_data[games_data['genre'] == 'Action']['user_score'].mean()  #7.054043715846995\n",
    "#games_data[games_data['genre'] == 'Sports']['user_score'].mean()   #6.96119673617407"
   ]
  },
  {
   "cell_type": "markdown",
   "metadata": {},
   "source": [
    "Для этих жанров не было пропусков еще до замены, так что показатели в них достоверные."
   ]
  },
  {
   "cell_type": "code",
   "execution_count": 69,
   "metadata": {},
   "outputs": [
    {
     "name": "stdout",
     "output_type": "stream",
     "text": [
      "p-значение: 0.10406951359049141\n",
      "Не получилось отвергнуть нулевую гипотезу\n"
     ]
    }
   ],
   "source": [
    "action_score = (games_data\n",
    " .query('genre == \"Action\"')\n",
    " .query('user_score == user_score')\n",
    ")\n",
    "\n",
    "sport_score = (games_data\n",
    " .query('genre == \"Sports\"')\n",
    " .query('user_score == user_score')\n",
    ")\n",
    "\n",
    "action_score = action_score['user_score']\n",
    "sport_score = sport_score['user_score']\n",
    "\n",
    "alpha = .05\n",
    "\n",
    "results = st.ttest_ind(\n",
    "    action_score, \n",
    "    sport_score)\n",
    "\n",
    "print('p-значение:', results.pvalue)\n",
    "\n",
    "if (results.pvalue < alpha):\n",
    "    print(\"Отвергаем нулевую гипотезу, принимаем альтернативную\")\n",
    "else:\n",
    "    print(\"Не получилось отвергнуть нулевую гипотезу\")"
   ]
  },
  {
   "cell_type": "markdown",
   "metadata": {},
   "source": [
    "### Комментарий\n",
    "\n",
    "p-значение больше, чем alpha показатель, значит мы не можем отвергнуть нулевую гипотезу — cредние пользовательские рейтинги жанров Action и Sports одинаковые"
   ]
  },
  {
   "cell_type": "markdown",
   "metadata": {},
   "source": [
    "## Промежуточный вывод\n",
    "\n",
    "После проверки гипотез можно сделать два вывода:\n",
    "\n",
    "1. **Средние пользовательские рейтинги платформ Xbox One и PC не одинаковые**, потому что p-значение достаточно небольшое, что дает основание отвергнуть нулевую гипотезу и принять альтернативную. \n",
    "\n",
    "2. **Cредние пользовательские рейтинги жанров Action и Sports одинаковые**, потому что p-значение больше, чем alpha показатель, значит мы не можем отвергнуть нулевую гипотезу."
   ]
  },
  {
   "cell_type": "markdown",
   "metadata": {},
   "source": [
    "----"
   ]
  },
  {
   "cell_type": "markdown",
   "metadata": {},
   "source": [
    "# <a id=\"five\"> Итоговый вывод</a>"
   ]
  },
  {
   "cell_type": "markdown",
   "metadata": {},
   "source": [
    "### Цель проекта\n",
    "\n",
    "Целью проекта была выявить определяющие успешность игры закономерности, благодаря которым можно будет найти потенциально популярный продукт и спланировать рекламные кампании.\n",
    "\n",
    "Основные критерии для оценки успешности игры:\n",
    "- Какая **консоль** сейчас наиболее популярна для выбранного региона и в целом по миру.\n",
    "- Какие **жанры** сейчас наиболее популярны для выбранного региона и в целом по миру\n",
    "- Какой **рейтинг ESRB** сейчас наиболее продаваемые для выбранного региона и в целом по миру\n",
    "\n",
    "Все показатели собраны ниже.\n",
    "\n",
    "----\n",
    "\n",
    "### Общие замечания\n",
    "\n",
    "- Продажи для консолей значительно больше по сравнению с PC, хотя можно отметить, что PC - это перспективное направление для разработчиков игр из-за ее универсальности.Такие продажи можно объяснить тем, что компании для консолей выкупают права на уникальные игры, в которые можно играть только на приставках. Из-за этого повышается спрос на ту или иную консоль.\n",
    "\n",
    "\n",
    "- Есть небольшая зависимость между отзывами критиков и прибылью, но она недостаточно значительная, чтобы брать ее как основной показатель для прогнозирования. Оценка пользователей не влияет на продажи.\n",
    "\n",
    "\n",
    "### Прибыль в разбивке по платформам\n",
    "\n",
    "- Самые успешные платформы у трех компаний: **PlayStation, Xbox и Nintendo**.\n",
    "\n",
    "\n",
    "- Самую большую суммарную выручку за все года принесла консоль PS2, но я думаю, что это связано с тем, что она вышла одна из первых и просуществовала много лет практически без конкурентов. На второй месте по выручке X360 (588 миллионов), на третьем Nintendo Wii (563 миллиона), и на четвертом PlayStation 3 (528 миллионов), но если рассматривать распределение выручки за последние четыре года в данных, то выводы немного меняются.\n",
    "\n",
    "\n",
    "- **с 2013 по 2016 год** самые популярные консоли такие: на первом месте PlayStation 4 (205 миллионов), на втором PlayStation 3 (97 миллионов), на третьем Xbox One (96 миллионов).\n",
    "- **PlayStation 4** уже через год после запуска достигла прибыли больше 70 млн., а в 2015 — почти 80 млн. В 2016 выручка упала ниже 40 млн, но это все еще высокий показатель по графику.\n",
    "- Каждая новая консоль **Nintendo** приносила все меньше выручки с каждым годом. \n",
    "- Для консоли **XOne** выручка росла до 2015 года, но в 2016 упала почти до выручки 2014 года. PlayStation 4 уже через год после запуска достигла прибыли больше 70 млн., а в 2015 — почти 80 млн. В 2016 выручка упала ниже 40 млн, но это все еще высокий показатель по графику.\n",
    "\n",
    "\n",
    "- **PlayStation 4** остается самой прибыльной, XOne на втором месте, Nintendo имеет наименее прибыльные продажи по своим консолям. В 2016 году выпустили больше игр для таких платформ, как: PC, PS4 и XOne. Можно предположить, что разработчики игр считают эти платформы перспективными, а потому выпускают больше игр для них.\n",
    "\n",
    "#### Продажи по всем ведущим платформам снизились с 2015 по 2016 год.\n",
    "\n",
    "- PS4 в 2015 году принесла 79 млн., а в 2016 - 37 млн.\n",
    "- XOne в 2015 году принесла 39 млн., а в 2016 - 13 млн.\n",
    "- 3DS в 2015 году принесла 13 млн., а в 2016 - 8 млн.\n",
    "- WiiU в 2015 году принесла 9 млн., а в 2016 - 2 млн.\n",
    "\n",
    "\n",
    "- В 2013 году лидировали PS3, X360 и 3DS\n",
    "- В 2014 году: PS4, XOne и 3DS\n",
    "- В 2015 году: PS4 и XOne\n",
    "- В 2016 году: PS4 и XOne\n",
    "\n",
    "#### За какой характерный срок появляются новые и исчезают старые платформы\n",
    "\n",
    "Новые платформы часто появляются исходя из выпуска новых консолей конкурентов. Если же конкурентов нет, то новая консоль может просуществовать долго. Выпуск новой консоли напрямую зависит от появления новых консолей у конкурентов.\n",
    "\n",
    "При существовании конкурентом платформа исчезает примерно через 6 лет, но если появляется консоль нового поколения в любой компании, то прошлые консоли начинают терять выручку.\n",
    "\n",
    "#### Портет пользователя в разных регионах\n",
    "\n",
    "Портет пользователя в Японии значительно отличается от остальных регионов. Здесь лидирует платформа 3DS, а для этой платфорсы основной жанр был именно Action, так что в регионе этот жанр приносит наибольшую выручку. Также здесь большим спросом пользуются игры с рейтингом T — «Подросткам 13—19 лет». По остальным регионам спрос примерно на одинаковые игры.\n",
    "\n",
    "----\n",
    "\n",
    "### Выводы по жанрам\n",
    "\n",
    "**Первое, что важно отметить — с 2015 по 2016 годы выручка по каждому жанру значительно упала.** В жанре Shooter в 2016 году было выпущено значительно больше игр, несмотря на падение по выручке. Такой же показатель и у жанров Adventure, Simulation, Racing и Platform.\n",
    "\n",
    "- Самыми прибыльными жанрами в 2015 году были: Shooter, Action и Sport\n",
    "- Самыми прибыльными жанрами в 2016 году были: Shooter, Sport и Role-Playing\n",
    "\n",
    "\n",
    "- В жанре Shooter основную выручку принесли платформы PS4 и XOne\n",
    "- В жанре Action основную выручку принесли платформы PS4 и 3DS\n",
    "- В жанре Sport основную выручку принесли платформы PS4 и XOne\n",
    "- В жанре Role-Playing основную выручку принесли платформы PS4 и 3DS\n",
    "\n",
    "По платформе WiiU продажи очень низкие. А такие жанры как Strategy и Puzzle вообще не имели прибыли.\n",
    "\n",
    "#### Количество игр\n",
    "\n",
    "- После 2010 года количество выпущенных игр начало снижаться, и продолжает падение.\n",
    "- В 2006 году количество выпущенных игр превысило 100 в год, в 2008 и 2009 годах было выпущено больше 1400 игр, но после количество начало снижаться. К **2016 году** количество выпущенных игр снизилось до 502 в год.\n",
    "- Для некоторых плафтформ показатели снижаются в течение нескольких лет, несмотря на то, что в 2016 прибыль довольно высокая. Нужно отметить платформы, где выручка растет несколько лет — это **PS4, XOne и PC**.\n",
    "\n",
    "### Показатели по регионам\n",
    "\n",
    "##### 1. Топ-5 самых популярных платформ для каждого региона\n",
    "\n",
    "- В **Северной Америке** максимальная выручка была по следующим платформам: 1. PS4, 2. XOne, 3. 3DS, 4. WiiU, 5. X360\n",
    "- В **Европе**: 1. PS4, 2. XOne, 3. PC, 4. 3DS, 5. PS3\n",
    "- В **Японии**: 1. 3DS, 2. PS4, 3. PSV, 4. PS3, 5. WiiU\n",
    "- Продажи **в других странах**: 1. PS4, 2. XOne, 3. PS3, 4. 3DS, 5. WiiU\n",
    "\n",
    "##### 2. Топ-5 самых популярных жанров для каждого региона\n",
    "\n",
    "- В **Северной Америке** максимальная выручка была по следующим платформам: 1. Shooter, 2. Action, 3. Sport, 4. Role-Playing, 5. Misc\n",
    "- В **Европе**: 1. Shooter, 2. Action, 3. Sport, 4. Role-Playing, 5. Racing\n",
    "- В **Японии**: 1. Action, 2. Role-Playing, 3. Shooter, 4. Misc, 5. Adventure\n",
    "- Продажи **в других странах**: 1. Shooter, 2. Action, 3. Sport, 4. Role-Playing, 5. Fighting\n",
    "\n",
    "##### 3. Влияет ли рейтинг ESRB на продажи в отдельном регионе?\n",
    "\n",
    "Игры с разным рейтингом действительно имеют разницу в продажах. При этом игры с наиболее прибыльным рейтингом в Японии отличаются от остального мира.\n",
    "\n",
    "В Америке, Европе и других регионах кроме Японии имеют самые большие продажи игр с рейтингом «M», затем с рейтингом «E», затем «T» и «E10+». В Японии же максимальные продажи для игр с рейтингом «T», а затем «E»,«M» и «E10+».\n",
    "\n",
    "----\n",
    "\n",
    "### Проверка гипотез\n",
    "\n",
    "- Средние пользовательские рейтинги платформ Xbox One и PC одинаковые.\n",
    "- Средние пользовательские рейтинги жанров Action и Sports разные.\n",
    "\n",
    "-----\n",
    "\n",
    "### Ошибки в данных\n",
    "\n",
    "- Было много пропусков в оценках критиков и пользователей, при чем непонятно из-за чего такое могло произойти. \n",
    "- Оценки пользователей имели тип данных object, а при работе с данными такого формата лучше, если будет тип float или int\n",
    "- Есть среднее количество пропусков в столбце, где указан год выпуска игры — этот показатель точно существует у каждой игры, и было бы хорошо выяснить, почему эти данные не внесены.\n",
    "\n",
    "-----\n",
    "\n",
    "### Рекомендации для компании\n",
    "\n",
    "- Важно отметить, что PC выделяются далеко не по всем показателям, но разработчики создают больше игр с каждым годом — компьютеры никуда не исчезнут, и игры для них будут актуальны намного дольше, чем для игровых консолей, так что нужно выделить эту платформу несмотря на низкие продажи.\n",
    "\n",
    "- Когда у компании появляется новая консоль, то продажи по последней консоли снижаются. При этом, если конкуренты не выпустили новую консоль в тот же год, то продажи на их старые консоли также упадут.\n",
    "\n",
    "- Не следует руководствоваться только популярностью жанра — важно посмотреть для какой именно платформы популярен этот жанр, и отдельно оценить показатели по региону.\n",
    "\n",
    "- Не стоит уделять большую значимость оценке пользователей и критика при прогнозировании на будущий год, зависимость небольшая."
   ]
  }
 ],
 "metadata": {
  "kernelspec": {
   "display_name": "Python 3",
   "language": "python",
   "name": "python3"
  },
  "language_info": {
   "codemirror_mode": {
    "name": "ipython",
    "version": 3
   },
   "file_extension": ".py",
   "mimetype": "text/x-python",
   "name": "python",
   "nbconvert_exporter": "python",
   "pygments_lexer": "ipython3",
   "version": "3.7.4"
  }
 },
 "nbformat": 4,
 "nbformat_minor": 2
}
